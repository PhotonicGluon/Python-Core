{
 "cells": [
  {
   "cell_type": "markdown",
   "id": "dbc89e81-3079-424d-afb4-b6ee64f04d3c",
   "metadata": {},
   "source": [
    "# 03 Control Structures"
   ]
  },
  {
   "cell_type": "markdown",
   "id": "6a36c8b0-39f3-4cc4-8c4c-e263635059f1",
   "metadata": {},
   "source": [
    "## Exercise 1\n",
    "### Part 1\n",
    "Write a program to print the integers from 1 to 20 using a **`while`** loop.  Print only 5 integers per line, using `\\t` to separate each one of them."
   ]
  },
  {
   "cell_type": "markdown",
   "id": "de43a03a-f904-479c-bfcd-0ce18627a141",
   "metadata": {},
   "source": [
    "### Part 2\n",
    "Repeat **Part 1** by using a **`for`** loop."
   ]
  },
  {
   "cell_type": "markdown",
   "id": "007b1fc5-fda9-4f95-a6e0-be10c29dec10",
   "metadata": {},
   "source": [
    "## Exercise 2\n",
    "Given $y = \\frac{x+8}{x^2-x-6}$, print out the values of $y$ (correct to 2 decimal places) for $x$ from –3 to 3 inclusive.\n",
    "\n",
    "*Watch out for division by 0!*"
   ]
  },
  {
   "cell_type": "markdown",
   "id": "5707e0de-bc31-479b-bd02-199a72793dfb",
   "metadata": {},
   "source": [
    "## Exercise 3\n",
    "### Part 1\n",
    "Write a program that calculates the squares and cubes of the numbers from 0 to 10 (inclusive).\n",
    "\n",
    "Here's an example output:\n",
    "```\n",
    "Number               Square               Cube                \n",
    "0                    0                    0                   \n",
    "1                    1                    1                   \n",
    "2                    4                    8                   \n",
    "3                    9                    27                  \n",
    "...                  ...                  ...\n",
    "```"
   ]
  },
  {
   "cell_type": "markdown",
   "id": "eac02e73-3bad-4c94-8272-756107f0a295",
   "metadata": {},
   "source": [
    "### Part 2\n",
    "Amend the program in **Part 1** such that the two boundary values are entered by the user. You do **not** need to validate input."
   ]
  },
  {
   "cell_type": "markdown",
   "id": "24bb6511-98d3-481a-aff5-64cd09d09192",
   "metadata": {},
   "source": [
    "## Exercise 4\n",
    "Write a program that will read two integers as input. You do **not** need to validate input for the numbers.\n",
    "\n",
    "Then, proceed to perform an operation on them based on a menu selection. The menu selection is as follows.\n",
    "\n",
    "| **Selection** | **Description**                                       |\n",
    "|---------------|-------------------------------------------------------|\n",
    "| `D`           | Divide `num1` by `num2`                               |\n",
    "| `M`           | Multiply `num1` by `num2`                             |\n",
    "| `R`           | Obtain the remainder when `num1` is divided by `num2` |\n",
    "| `Q`           | Quit                                                  |\n",
    "\n",
    "Repeat the menu selection process until the user wants to quit. Any invalid selection should raise an error message.\n",
    "\n",
    "*Hint: Watch out for division by zero!*"
   ]
  },
  {
   "cell_type": "markdown",
   "id": "97a165d9-028a-4d76-8a82-236b62d77d5b",
   "metadata": {},
   "source": [
    "## Exercise 5\n",
    "### Part 1\n",
    "Generate the following triangle pattern by using loops.\n",
    "\n",
    "```\n",
    "         *\n",
    "        **\n",
    "       ***\n",
    "      ****\n",
    "     *****\n",
    "    ******\n",
    "   *******\n",
    "  ********\n",
    " *********\n",
    "**********\n",
    "```\n",
    "(The last line has 10 asterisks.)\n",
    "\n",
    "*Hint: begin each line with zero or more space characters*."
   ]
  },
  {
   "cell_type": "markdown",
   "id": "dda39443-2d54-4e85-952b-6ba58a350960",
   "metadata": {},
   "source": [
    "## Part 2\n",
    "Now generate the above pattern with a user-defined number of rows. **Validate user input**. Check user input until the user enters a valid positive integer.\n",
    "\n",
    "For example, if the user entered `5`:\n",
    "```\n",
    "    *\n",
    "   **\n",
    "  ***\n",
    " ****\n",
    "*****\n",
    "```\n",
    "\n",
    "As another example, if the user entered `15`:\n",
    "```\n",
    "              *\n",
    "             **\n",
    "            ***\n",
    "           ****\n",
    "          *****\n",
    "         ******\n",
    "        *******\n",
    "       ********\n",
    "      *********\n",
    "     **********\n",
    "    ***********\n",
    "   ************\n",
    "  *************\n",
    " **************\n",
    "***************\n",
    "```"
   ]
  },
  {
   "cell_type": "markdown",
   "id": "3083ff93-116c-4409-a79e-3893179c77d1",
   "metadata": {},
   "source": [
    "## Exercise 6\n",
    "### Part 1\n",
    "Write a program that checks if the user entered a valid float.\n",
    "\n",
    "Check your program with the following input:\n",
    "- `1.23` is valid\n",
    "- `0.12` is valid\n",
    "- `1.....3` is invalid\n",
    "- `.12` is valid\n",
    "- `-12.34` is valid\n",
    "- `----23.456` is invalid\n",
    "- `1.` is valid\n",
    "- `.` is invalid\n",
    "- `-.` is invalid"
   ]
  },
  {
   "cell_type": "markdown",
   "id": "83e9629f-3b69-4e25-9958-17908573764d",
   "metadata": {},
   "source": [
    "### Part 2\n",
    "Write a program to find the roots of a quadratic equation $ax^2 + bx + c = 0$ using the quadratic formula.\n",
    "\n",
    "Ensure that the user has entered a valid quadratic equation.\n",
    "- Check the values of the coefficients by using the validation method in **Part 1**.\n",
    "- Ensure that $a \\neq 0$.\n",
    "\n",
    "Display the type of roots (distinct, equal or imaginary) as well as the values of real roots (if any), correct to 5 decimal places."
   ]
  }
 ],
 "metadata": {
  "kernelspec": {
   "display_name": "Python 3 (ipykernel)",
   "language": "python",
   "name": "python3"
  },
  "language_info": {
   "codemirror_mode": {
    "name": "ipython",
    "version": 3
   },
   "file_extension": ".py",
   "mimetype": "text/x-python",
   "name": "python",
   "nbconvert_exporter": "python",
   "pygments_lexer": "ipython3",
   "version": "3.9.17"
  }
 },
 "nbformat": 4,
 "nbformat_minor": 5
}
