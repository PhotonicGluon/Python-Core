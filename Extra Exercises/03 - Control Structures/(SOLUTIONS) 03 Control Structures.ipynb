{
 "cells": [
  {
   "cell_type": "markdown",
   "id": "dbc89e81-3079-424d-afb4-b6ee64f04d3c",
   "metadata": {},
   "source": [
    "# 03 Control Structures"
   ]
  },
  {
   "cell_type": "markdown",
   "id": "6a36c8b0-39f3-4cc4-8c4c-e263635059f1",
   "metadata": {},
   "source": [
    "## Exercise 1\n",
    "### Part 1\n",
    "Write a program to print the integers from 1 to 20 using a **`while`** loop.  Print only 5 integers per line, using `\\t` to separate each one of them."
   ]
  },
  {
   "cell_type": "code",
   "execution_count": 1,
   "id": "4bef3e53-7a37-4a59-a14d-bbebafd621dd",
   "metadata": {},
   "outputs": [
    {
     "name": "stdout",
     "output_type": "stream",
     "text": [
      "1\t2\t3\t4\t5\n",
      "6\t7\t8\t9\t10\n",
      "11\t12\t13\t14\t15\n",
      "16\t17\t18\t19\t20\n"
     ]
    }
   ],
   "source": [
    "currentInteger = 1\n",
    "\n",
    "while currentInteger <= 20:\n",
    "    if currentInteger % 5 == 0:  # The current integer is a multiple of 5\n",
    "        endChar = \"\\n\"\n",
    "    else:\n",
    "        endChar = \"\\t\"\n",
    "    \n",
    "    print(currentInteger, end=endChar)\n",
    "    \n",
    "    currentInteger += 1"
   ]
  },
  {
   "cell_type": "markdown",
   "id": "de43a03a-f904-479c-bfcd-0ce18627a141",
   "metadata": {},
   "source": [
    "### Part 2\n",
    "Repeat **Part 1** by using a **`for`** loop."
   ]
  },
  {
   "cell_type": "code",
   "execution_count": 2,
   "id": "acbb8088-d45f-456d-b403-6a4e03ff329b",
   "metadata": {},
   "outputs": [
    {
     "name": "stdout",
     "output_type": "stream",
     "text": [
      "1\t2\t3\t4\t5\n",
      "6\t7\t8\t9\t10\n",
      "11\t12\t13\t14\t15\n",
      "16\t17\t18\t19\t20\n"
     ]
    }
   ],
   "source": [
    "for i in range(1, 20 + 1):  # We want 20 to be included as well\n",
    "    if i % 5 == 0:  # The current integer is a multiple of 5\n",
    "        endChar = \"\\n\"\n",
    "    else:\n",
    "        endChar = \"\\t\"\n",
    "    \n",
    "    print(i, end=endChar)"
   ]
  },
  {
   "cell_type": "markdown",
   "id": "007b1fc5-fda9-4f95-a6e0-be10c29dec10",
   "metadata": {},
   "source": [
    "## Exercise 2\n",
    "Given $y = \\frac{x+8}{x^2-x-6}$, print out the values of $y$ (correct to 2 decimal places) for $x$ from –3 to 3 inclusive.\n",
    "\n",
    "*Watch out for division by 0!*"
   ]
  },
  {
   "cell_type": "code",
   "execution_count": 3,
   "id": "bc0ca466-8aad-4d5c-99c5-c1fb3d6da05c",
   "metadata": {},
   "outputs": [
    {
     "name": "stdout",
     "output_type": "stream",
     "text": [
      "When x = -3, y = 0.83\n",
      "When x = -2, y = Undefined\n",
      "When x = -1, y = -1.75\n",
      "When x =  0, y = -1.33\n",
      "When x =  1, y = -1.5\n",
      "When x =  2, y = -2.5\n",
      "When x =  3, y = Undefined\n"
     ]
    }
   ],
   "source": [
    "for x in range(-3, 3 + 1):  # The number 3 is to be included\n",
    "    if x**2 - x - 6 == 0:  # This should only occur if x = -2 or x = 3\n",
    "        y = \"Undefined\"\n",
    "    else:\n",
    "        y = round((x + 8) / (x**2 - x - 6), 2)\n",
    "    \n",
    "    print(f\"When x = {x:2}, y = {y}\")"
   ]
  },
  {
   "cell_type": "markdown",
   "id": "5707e0de-bc31-479b-bd02-199a72793dfb",
   "metadata": {},
   "source": [
    "## Exercise 3\n",
    "### Part 1\n",
    "Write a program that calculates the squares and cubes of the numbers from 0 to 10 (inclusive).\n",
    "\n",
    "Here's an example output:\n",
    "```\n",
    "Number               Square               Cube                \n",
    "0                    0                    0                   \n",
    "1                    1                    1                   \n",
    "2                    4                    8                   \n",
    "3                    9                    27                  \n",
    "...                  ...                  ...\n",
    "```"
   ]
  },
  {
   "cell_type": "code",
   "execution_count": 4,
   "id": "d23091b4-7946-4008-a475-55369d2debc6",
   "metadata": {},
   "outputs": [
    {
     "name": "stdout",
     "output_type": "stream",
     "text": [
      "Number               Square               Cube                \n",
      "0                    0                    0                   \n",
      "1                    1                    1                   \n",
      "2                    4                    8                   \n",
      "3                    9                    27                  \n",
      "4                    16                   64                  \n",
      "5                    25                   125                 \n",
      "6                    36                   216                 \n",
      "7                    49                   343                 \n",
      "8                    64                   512                 \n",
      "9                    81                   729                 \n",
      "10                   100                  1000                \n"
     ]
    }
   ],
   "source": [
    "print(f\"{'Number':<20} {'Square':<20} {'Cube':<20}\")\n",
    "    \n",
    "for i in range(0, 11):\n",
    "      print(f\"{i:<20} {pow(i, 2):<20} {pow(i, 3):<20}\")"
   ]
  },
  {
   "cell_type": "markdown",
   "id": "eac02e73-3bad-4c94-8272-756107f0a295",
   "metadata": {},
   "source": [
    "### Part 2\n",
    "Amend the program in **Part 1** such that the two boundary values are entered by the user. You do **not** need to validate input."
   ]
  },
  {
   "cell_type": "code",
   "execution_count": 5,
   "id": "1d1f222e-ff16-41bd-9a60-5ed30c821b27",
   "metadata": {},
   "outputs": [
    {
     "name": "stdin",
     "output_type": "stream",
     "text": [
      "Enter the lower bound:  -4\n",
      "Enter the upper bound:  5\n"
     ]
    },
    {
     "name": "stdout",
     "output_type": "stream",
     "text": [
      "Number               Square               Cube                \n",
      "-4                   16                   -64                 \n",
      "-3                   9                    -27                 \n",
      "-2                   4                    -8                  \n",
      "-1                   1                    -1                  \n",
      "0                    0                    0                   \n",
      "1                    1                    1                   \n",
      "2                    4                    8                   \n",
      "3                    9                    27                  \n",
      "4                    16                   64                  \n",
      "5                    25                   125                 \n"
     ]
    }
   ],
   "source": [
    "lowerBound = int(input(\"Enter the lower bound: \"))\n",
    "upperBound = int(input(\"Enter the upper bound: \"))\n",
    "\n",
    "print(f\"{'Number':<20} {'Square':<20} {'Cube':<20}\")\n",
    "    \n",
    "for i in range(lowerBound, upperBound + 1):\n",
    "      print(f\"{i:<20} {pow(i, 2):<20} {pow(i, 3):<20}\")"
   ]
  },
  {
   "cell_type": "markdown",
   "id": "24bb6511-98d3-481a-aff5-64cd09d09192",
   "metadata": {},
   "source": [
    "## Exercise 4\n",
    "Write a program that will read two integers as input. You do **not** need to validate input for the numbers.\n",
    "\n",
    "Then, proceed to perform an operation on them based on a menu selection. The menu selection is as follows.\n",
    "\n",
    "| **Selection** | **Description**                                       |\n",
    "|---------------|-------------------------------------------------------|\n",
    "| `D`           | Divide `num1` by `num2`                               |\n",
    "| `M`           | Multiply `num1` by `num2`                             |\n",
    "| `R`           | Obtain the remainder when `num1` is divided by `num2` |\n",
    "| `Q`           | Quit                                                  |\n",
    "\n",
    "Repeat the menu selection process until the user wants to quit. Any invalid selection should raise an error message.\n",
    "\n",
    "*Hint: Watch out for division by zero!*"
   ]
  },
  {
   "cell_type": "code",
   "execution_count": 6,
   "id": "fd3625d0-76c7-4ce8-95b5-bcac7c938999",
   "metadata": {},
   "outputs": [
    {
     "name": "stdin",
     "output_type": "stream",
     "text": [
      "Enter the first integer:   12\n",
      "Enter the second integer:  0\n"
     ]
    },
    {
     "name": "stdout",
     "output_type": "stream",
     "text": [
      "\n",
      "Select your desired operation:\n",
      "\tD\tDivide `num1` by `num2`.\n",
      "\tM\tMultiply `num1` by `num2`.\n",
      "\tR\tObtain the remainder when `num1` is divided by `num2`.\n",
      "\tQ\tQuit.\n",
      "\n"
     ]
    },
    {
     "name": "stdin",
     "output_type": "stream",
     "text": [
      "Enter 'D', 'M', 'R' or 'Q':  D\n"
     ]
    },
    {
     "name": "stdout",
     "output_type": "stream",
     "text": [
      "Cannot divide by zero.\n",
      "\n"
     ]
    },
    {
     "name": "stdin",
     "output_type": "stream",
     "text": [
      "Enter 'D', 'M', 'R' or 'Q':  M\n"
     ]
    },
    {
     "name": "stdout",
     "output_type": "stream",
     "text": [
      "0\n",
      "\n"
     ]
    },
    {
     "name": "stdin",
     "output_type": "stream",
     "text": [
      "Enter 'D', 'M', 'R' or 'Q':  R\n"
     ]
    },
    {
     "name": "stdout",
     "output_type": "stream",
     "text": [
      "Cannot divide by zero.\n",
      "\n"
     ]
    },
    {
     "name": "stdin",
     "output_type": "stream",
     "text": [
      "Enter 'D', 'M', 'R' or 'Q':  Q\n"
     ]
    },
    {
     "name": "stdout",
     "output_type": "stream",
     "text": [
      "Goodbye!\n"
     ]
    }
   ],
   "source": [
    "num1 = int(input(\"Enter the first integer:  \"))\n",
    "num2 = int(input(\"Enter the second integer: \"))\n",
    "\n",
    "print()\n",
    "print(\"Select your desired operation:\")\n",
    "print(\"\\tD\\tDivide `num1` by `num2`.\")\n",
    "print(\"\\tM\\tMultiply `num1` by `num2`.\")\n",
    "print(\"\\tR\\tObtain the remainder when `num1` is divided by `num2`.\")\n",
    "print(\"\\tQ\\tQuit.\")\n",
    "\n",
    "while True:\n",
    "    # Allow user to select menu option\n",
    "    print()\n",
    "    menuSelection = input(\"Enter 'D', 'M', 'R' or 'Q': \")\n",
    "\n",
    "    if menuSelection == \"D\":  # Divide\n",
    "        if num2 == 0:\n",
    "            print(\"Cannot divide by zero.\")\n",
    "        else:\n",
    "            print(num1 / num2)\n",
    "    elif menuSelection == \"M\":  # Multiply\n",
    "        print(num1 * num2)\n",
    "    elif menuSelection == \"R\":  # Obtain remainder\n",
    "        if num2 == 0:\n",
    "            print(\"Cannot divide by zero.\")\n",
    "        else:\n",
    "            print(num1 % num2)\n",
    "    elif menuSelection == \"Q\":  # Quit\n",
    "        print(\"Goodbye!\")\n",
    "        break\n",
    "    else:\n",
    "        print(\"Invalid option.\")"
   ]
  },
  {
   "cell_type": "markdown",
   "id": "97a165d9-028a-4d76-8a82-236b62d77d5b",
   "metadata": {},
   "source": [
    "## Exercise 5\n",
    "### Part 1\n",
    "Generate the following triangle pattern by using loops.\n",
    "\n",
    "```\n",
    "         *\n",
    "        **\n",
    "       ***\n",
    "      ****\n",
    "     *****\n",
    "    ******\n",
    "   *******\n",
    "  ********\n",
    " *********\n",
    "**********\n",
    "```\n",
    "(The last line has 10 asterisks.)\n",
    "\n",
    "*Hint: begin each line with zero or more space characters*."
   ]
  },
  {
   "cell_type": "code",
   "execution_count": 7,
   "id": "4ebf1bcd-538f-4cbc-962f-78688ca47f76",
   "metadata": {},
   "outputs": [
    {
     "name": "stdout",
     "output_type": "stream",
     "text": [
      "         *\n",
      "        **\n",
      "       ***\n",
      "      ****\n",
      "     *****\n",
      "    ******\n",
      "   *******\n",
      "  ********\n",
      " *********\n",
      "**********\n"
     ]
    }
   ],
   "source": [
    "for i in range(1, 11):\n",
    "    print(\" \" * (10 - i) + \"*\" * i)"
   ]
  },
  {
   "cell_type": "markdown",
   "id": "dda39443-2d54-4e85-952b-6ba58a350960",
   "metadata": {},
   "source": [
    "## Part 2\n",
    "Now generate the above pattern with a user-defined number of rows. **Validate user input**. Check user input until the user enters a valid positive integer.\n",
    "\n",
    "For example, if the user entered `5`:\n",
    "```\n",
    "    *\n",
    "   **\n",
    "  ***\n",
    " ****\n",
    "*****\n",
    "```\n",
    "\n",
    "As another example, if the user entered `15`:\n",
    "```\n",
    "              *\n",
    "             **\n",
    "            ***\n",
    "           ****\n",
    "          *****\n",
    "         ******\n",
    "        *******\n",
    "       ********\n",
    "      *********\n",
    "     **********\n",
    "    ***********\n",
    "   ************\n",
    "  *************\n",
    " **************\n",
    "***************\n",
    "```"
   ]
  },
  {
   "cell_type": "code",
   "execution_count": 8,
   "id": "b0bb56fc-15d6-4972-ae98-28a356abca7c",
   "metadata": {},
   "outputs": [
    {
     "name": "stdin",
     "output_type": "stream",
     "text": [
      "Enter the number of rows:  30\n"
     ]
    },
    {
     "name": "stdout",
     "output_type": "stream",
     "text": [
      "                             *\n",
      "                            **\n",
      "                           ***\n",
      "                          ****\n",
      "                         *****\n",
      "                        ******\n",
      "                       *******\n",
      "                      ********\n",
      "                     *********\n",
      "                    **********\n",
      "                   ***********\n",
      "                  ************\n",
      "                 *************\n",
      "                **************\n",
      "               ***************\n",
      "              ****************\n",
      "             *****************\n",
      "            ******************\n",
      "           *******************\n",
      "          ********************\n",
      "         *********************\n",
      "        **********************\n",
      "       ***********************\n",
      "      ************************\n",
      "     *************************\n",
      "    **************************\n",
      "   ***************************\n",
      "  ****************************\n",
      " *****************************\n",
      "******************************\n"
     ]
    }
   ],
   "source": [
    "valid = False\n",
    "while not valid:\n",
    "    n = input(\"Enter the number of rows: \")\n",
    "\n",
    "    if n.isdigit() and int(n) > 0:\n",
    "        n = int(n)\n",
    "        valid = True\n",
    "    else:\n",
    "        print(\"Please enter a valid positive integer.\")\n",
    "\n",
    "for i in range(1, n + 1):\n",
    "    print(\" \" * (n - i) + \"*\" * i)"
   ]
  },
  {
   "cell_type": "markdown",
   "id": "3083ff93-116c-4409-a79e-3893179c77d1",
   "metadata": {},
   "source": [
    "## Exercise 6\n",
    "### Part 1\n",
    "Write a program that checks if the user entered a valid float.\n",
    "\n",
    "Check your program with the following input:\n",
    "- `1.23` is valid\n",
    "- `0.12` is valid\n",
    "- `1.....3` is invalid\n",
    "- `.12` is valid\n",
    "- `-12.34` is valid\n",
    "- `----23.456` is invalid\n",
    "- `1.` is valid\n",
    "- `.` is invalid\n",
    "- `-.` is invalid"
   ]
  },
  {
   "cell_type": "code",
   "execution_count": 9,
   "id": "f99ca82f-1fb9-4789-a278-3d9a00197d56",
   "metadata": {},
   "outputs": [
    {
     "name": "stdin",
     "output_type": "stream",
     "text": [
      "Enter a float:  12.345\n"
     ]
    },
    {
     "name": "stdout",
     "output_type": "stream",
     "text": [
      "Valid float\n"
     ]
    }
   ],
   "source": [
    "userInput = input(\"Enter a float: \")\n",
    "if userInput.replace(\"-\", \"\", 1).replace(\".\", \"\", 1).isdigit():\n",
    "    print(\"Valid float\")\n",
    "else:\n",
    "    print(\"Invalid float\")"
   ]
  },
  {
   "cell_type": "markdown",
   "id": "83e9629f-3b69-4e25-9958-17908573764d",
   "metadata": {},
   "source": [
    "### Part 2\n",
    "Write a program to find the roots of a quadratic equation $ax^2 + bx + c = 0$ using the quadratic formula.\n",
    "\n",
    "Ensure that the user has entered a valid quadratic equation.\n",
    "- Check the values of the coefficients by using the validation method in **Part 1**.\n",
    "- Ensure that $a \\neq 0$.\n",
    "\n",
    "Display the type of roots (distinct, equal or imaginary) as well as the values of real roots (if any), correct to 5 decimal places."
   ]
  },
  {
   "cell_type": "code",
   "execution_count": 10,
   "id": "a08e58a3-177d-472b-a016-85970a4b0c7d",
   "metadata": {},
   "outputs": [
    {
     "name": "stdin",
     "output_type": "stream",
     "text": [
      "Enter the coefficient of x^2:  1\n",
      "Enter the coefficient of x:  -1\n",
      "Enter the constant term:  -1\n"
     ]
    },
    {
     "name": "stdout",
     "output_type": "stream",
     "text": [
      "\n",
      "You have entered the quadratic equation:\n",
      "(1.0)x^2 + (-1.0)x + (-1.0) = 0\n",
      "\n",
      "The roots of the quadratic equation are DISTINCT REAL NUMBERS.\n",
      "The roots of the equation are 1.61803 and -0.61803 (to 5 d.p.).\n"
     ]
    }
   ],
   "source": [
    "# Check for the validity of the coefficients\n",
    "valid = False\n",
    "while not valid:\n",
    "    a = input(\"Enter the coefficient of x^2: \")\n",
    "    \n",
    "    # Check if `a` is a number\n",
    "    if a.replace(\"-\", \"\", 1).replace(\".\", \"\", 1).isdigit():\n",
    "        a = float(a)  # Remember to convert the string to a float\n",
    "\n",
    "        # Check if `a` is not zero\n",
    "        if a == 0:  # Then it wouldn't be a quadratic equation\n",
    "            print(\"The coefficient of x^2 cannot be 0.\")\n",
    "        else:\n",
    "            valid = True\n",
    "    else:\n",
    "        print(\"The coefficient of x^2 must be a number!\")\n",
    "\n",
    "valid = False\n",
    "while not valid:\n",
    "    b = input(\"Enter the coefficient of x: \")\n",
    "    \n",
    "    # Check if `b` is a number\n",
    "    if b.replace(\"-\", \"\", 1).replace(\".\", \"\", 1).isdigit():\n",
    "        b = float(b)  # Remember to convert the string to a float\n",
    "        valid = True\n",
    "    else:\n",
    "        print(\"The coefficient of x must be a number!\")\n",
    "\n",
    "valid = False\n",
    "while not valid:\n",
    "    c = input(\"Enter the constant term: \")\n",
    "    \n",
    "    # Check if `c` is a number\n",
    "    if c.replace(\"-\", \"\", 1).replace(\".\", \"\", 1).isdigit():\n",
    "        c = float(c)  # Remember to convert the string to a float\n",
    "        valid = True\n",
    "    else:\n",
    "        print(\"The coefficient of x must be a number!\")\n",
    "\n",
    "print()\n",
    "print(\"You have entered the quadratic equation:\")\n",
    "print(f\"({a})x^2 + ({b})x + ({c}) = 0\")\n",
    "print()\n",
    "\n",
    "# Determine the nature of the roots\n",
    "discriminant = b**2 - 4*a*c\n",
    "\n",
    "if discriminant < 0:  # Complex roots\n",
    "    print(\"The roots of the quadratic equation are COMPLEX NUMBERS.\")\n",
    "elif discriminant == 0:  # Equal real roots\n",
    "    print(\"The roots of the quadratic equation are EQUAL REAL NUMBERS.\")\n",
    "else:  # Distinct real roots\n",
    "    print(\"The roots of the quadratic equation are DISTINCT REAL NUMBERS.\")\n",
    "    \n",
    "# Calculate the real root(s)\n",
    "if discriminant == 0:\n",
    "    root = (-b + discriminant**0.5) / (2 * a)\n",
    "    print(f\"The root of the equation is {root:.5f} (to 5 d.p.).\")\n",
    "elif discriminant > 0:\n",
    "    root1 = (-b + discriminant**0.5) / (2 * a)\n",
    "    root2 = (-b - discriminant**0.5) / (2 * a)\n",
    "    print(f\"The roots of the equation are {root1:.5f} and {root2:.5f} (to 5 d.p.).\")\n",
    "else:\n",
    "    print(\"The equation has no real roots.\")"
   ]
  }
 ],
 "metadata": {
  "kernelspec": {
   "display_name": "Python 3 (ipykernel)",
   "language": "python",
   "name": "python3"
  },
  "language_info": {
   "codemirror_mode": {
    "name": "ipython",
    "version": 3
   },
   "file_extension": ".py",
   "mimetype": "text/x-python",
   "name": "python",
   "nbconvert_exporter": "python",
   "pygments_lexer": "ipython3",
   "version": "3.9.17"
  }
 },
 "nbformat": 4,
 "nbformat_minor": 5
}
