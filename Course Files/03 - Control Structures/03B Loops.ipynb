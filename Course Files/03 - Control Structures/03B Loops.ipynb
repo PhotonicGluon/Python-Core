{
 "cells": [
  {
   "cell_type": "markdown",
   "metadata": {},
   "source": [
    "# 03 - Control Structures\n",
    "## 03B - Loops"
   ]
  },
  {
   "cell_type": "markdown",
   "metadata": {},
   "source": [
    "## Loops"
   ]
  },
  {
   "cell_type": "markdown",
   "metadata": {},
   "source": [
    "### The `while` Loop"
   ]
  },
  {
   "cell_type": "markdown",
   "metadata": {},
   "source": [
    "A `while` loop is used to repeat a block of code multiple times **until a certain condition is <u>not</u> met**.\n",
    "\n",
    "Below is a `while` loop containing a variable that counts up from 1 to 5, at which point the loop terminates."
   ]
  },
  {
   "cell_type": "code",
   "execution_count": null,
   "metadata": {},
   "outputs": [],
   "source": [
    "number = 1\n",
    "\n",
    "while number <= 5:  # The code below will run WHILE `number` is less than or equal to 5\n",
    "    print(number)\n",
    "    number += 1  # Recall that this is the same as `number = number + 1`\n",
    "\n",
    "print(\"Finished!\")"
   ]
  },
  {
   "cell_type": "markdown",
   "metadata": {},
   "source": [
    "During each loop iteration, the `number` variable will get incremented by one, until it reaches 5. So, the loop will execute the `print` statement 5 times.\n",
    "\n",
    "The code in the body of a `while` loop is executed repeatedly. This is called **iteration**."
   ]
  },
  {
   "cell_type": "markdown",
   "metadata": {},
   "source": [
    "You can use multiple statements in the `while` loop. For example, the code below uses an `if`/`else` statement inside a `while` loop to separate the even and odd numbers in the range of 0 to 10."
   ]
  },
  {
   "cell_type": "code",
   "execution_count": null,
   "metadata": {},
   "outputs": [],
   "source": [
    "currentNumber = 0\n",
    "numEven = 0  # Number of even numbers\n",
    "numOdd = 0  # Number of odd numbers\n",
    "\n",
    "while currentNumber <= 10:  # Runs the following code if `currentNumber <= 10`\n",
    "    if currentNumber % 2 == 0:  # Current number divisible by 2, i.e. an even number\n",
    "        print(str(currentNumber) + \" is EVEN\")  # Recall str() is used to convert `currentNumber` to a string\n",
    "        numEven += 1\n",
    "    \n",
    "    else:  # If not even, then it must be odd\n",
    "        print(str(currentNumber) + \" is ODD\")\n",
    "        numOdd += 1\n",
    "    \n",
    "    currentNumber += 1  # Don't forget to increment `currentNumber`!\n",
    "\n",
    "print(\"-\" * 50)\n",
    "print(\"Number of even numbers:\", numEven)  # Recall: This converts `numEven` to a string and adds spaces nicely\n",
    "print(\"Number of  odd numbers:\", numOdd)"
   ]
  },
  {
   "cell_type": "markdown",
   "metadata": {},
   "source": [
    "To end a `while` loop prematurely, the `break` statement can be used.\n",
    "\n",
    "For example, we can break an **infinite loop** if some condition is met:"
   ]
  },
  {
   "cell_type": "code",
   "execution_count": null,
   "metadata": {},
   "outputs": [],
   "source": [
    "i = 0\n",
    "\n",
    "while True:  # Without a `break` statement, the code within this `while` loop will run forever\n",
    "    print(i)\n",
    "    i += 1\n",
    "\n",
    "    if i >= 5:\n",
    "        print(\"Breaking\")\n",
    "        break  # Exit the loop prematurely\n",
    "\n",
    "print(\"Finished\")"
   ]
  },
  {
   "cell_type": "markdown",
   "metadata": {},
   "source": [
    "`while True` is a short and easy way to make an infinite loop.\n",
    "\n",
    "**An example use case of `break`**:\n",
    "An infinite `while` loop can be used to continuously take user input. For example, you are making a calculator and need to take numbers from the user to add and stop, when the user enters the string `stop`. In this case, the `break` statement can be used to end the infinite loop when the user input equals `stop`.\n",
    "\n",
    "Note that using the break statement outside of a loop causes an error."
   ]
  },
  {
   "cell_type": "markdown",
   "metadata": {},
   "source": [
    "**Exercise 03.07** (Validating User Input): Write a program that continuously accepts user input until a positive integer between 0 and 10 inclusive is entered. Then output that final input. You may assume that the user will **always enter an integer**.\n",
    "\n",
    "*Example input (don't include the comments in your actual input!):*\n",
    "```\n",
    "-2   # Invalid\n",
    "12   # Invalid\n",
    "435  # Invalid\n",
    "-23  # Invalid\n",
    "3    # Valid\n",
    "```\n",
    "\n",
    "*Example output:*\n",
    "```\n",
    "3\n",
    "```"
   ]
  },
  {
   "cell_type": "code",
   "execution_count": null,
   "metadata": {},
   "outputs": [],
   "source": [
    "# Write your code here"
   ]
  },
  {
   "cell_type": "markdown",
   "metadata": {},
   "source": [
    "Another statement that can be used within any loop is the **`continue` statement**.\n",
    "\n",
    "Unlike `break`, `continue` **jumps back to the start of the loop**, rather than stopping it. Basically, the `continue` statement **stops the current iteration and continues with the next one**."
   ]
  },
  {
   "cell_type": "code",
   "execution_count": null,
   "metadata": {},
   "outputs": [],
   "source": [
    "i = 0\n",
    "\n",
    "while i < 5:\n",
    "    i += 1\n",
    "\n",
    "    if i == 3:\n",
    "        print(\"Skipping 3\")\n",
    "        continue  # Restarts the loop\n",
    "\n",
    "    print(i)"
   ]
  },
  {
   "cell_type": "markdown",
   "metadata": {},
   "source": [
    "Note that, just like the `break` statement, using the `continue` statement outside of a loop causes an error."
   ]
  },
  {
   "cell_type": "markdown",
   "metadata": {},
   "source": [
    "**Exercise 03.08** (FizzBuzz Modified): Write a program that prints out all numbers between 1 and 30 inclusive that are\n",
    "- **not** multiples of 3,\n",
    "- **not** multiples of 5,\n",
    "- **but <u>are</u>** multiples of 15.\n",
    "\n",
    "Also, you are **not** allowed to use an `else` block in your program."
   ]
  },
  {
   "cell_type": "code",
   "execution_count": null,
   "metadata": {},
   "outputs": [],
   "source": [
    "# Write your code here"
   ]
  },
  {
   "cell_type": "markdown",
   "metadata": {},
   "source": [
    "### The `for` Loop"
   ]
  },
  {
   "cell_type": "markdown",
   "metadata": {},
   "source": [
    "The `for` loop is used to **iterate over a given sequence**, such as lists or strings.\n",
    "\n",
    "The code below outputs each item in the list and adds an exclamation mark at the end:"
   ]
  },
  {
   "cell_type": "code",
   "execution_count": null,
   "metadata": {},
   "outputs": [],
   "source": [
    "words = [\"Hello\", \"World\", \"Spam\", \"Eggs\"]\n",
    "\n",
    "for word in words:\n",
    "    print(word + \"!\")"
   ]
  },
  {
   "cell_type": "markdown",
   "metadata": {},
   "source": [
    "In the code above, the variable `word` represents the corresponding item of the list in each iteration of the loop. \n",
    "During the 1st iteration, `word` is equal to `Hello`, and during the 2nd iteration it's equal to `World`, and so on."
   ]
  },
  {
   "cell_type": "markdown",
   "metadata": {},
   "source": [
    "The `for` loop can also be used to iterate over the characters of a string."
   ]
  },
  {
   "cell_type": "code",
   "execution_count": null,
   "metadata": {},
   "outputs": [],
   "source": [
    "string = \"testing `for` loops in python\"\n",
    "\n",
    "numOs = 0  # Number of occurances of the letter \"o\"\n",
    "for char in string:  # For each character in `string`,\n",
    "    if char == \"o\":\n",
    "        numOs += 1\n",
    "\n",
    "print(numOs)"
   ]
  },
  {
   "cell_type": "markdown",
   "metadata": {},
   "source": [
    "The code above defines a `numOs` variable, iterates over the string and tallies the number of `o` letters in it. During each iteration, the `char` variable represents the current letter of the string.\n",
    "\n",
    "The `numOs` variable is incremented each time the letter `o` is found. Thus, at the end of the loop it represents the number of `o` letters in the string."
   ]
  },
  {
   "cell_type": "markdown",
   "metadata": {},
   "source": [
    "Similar to `while` loops, **the `break` and `continue` statements can be used in `for` loops**, to stop the loop or jump to the next iteration."
   ]
  },
  {
   "cell_type": "code",
   "execution_count": null,
   "metadata": {},
   "outputs": [],
   "source": [
    "words = [\"alpha\", \"beta\", \"continue\", \"delta\", \"epsilon\", \"break\", \"zeta\", \"eta\"]\n",
    "\n",
    "for word in words:\n",
    "    if word == \"continue\":\n",
    "        print(\"Continuing!\")\n",
    "        continue\n",
    "    elif word == \"break\":\n",
    "        print(\"Breaking!\")\n",
    "        break\n",
    "    else:\n",
    "        print(word)"
   ]
  },
  {
   "cell_type": "markdown",
   "metadata": {},
   "source": [
    "Both `for` and `while` loops can be used to execute a block of code for multiple times.\n",
    "\n",
    "It is common to use the `for` loop when the **number of iterations is fixed**. For example, iterating over a fixed list of items in a shopping list.\n",
    "\n",
    "The `while` loop is used in cases when the **number of iterations is not known** and depends on some calculations and conditions in the code block of the loop. For example, ending the loop when the user enters a specific input in a calculator program.\n",
    "\n",
    "Although `for` and `while` loops can be used to achieve the same results, however the `for` loop has cleaner and shorter syntax, making it a better choice in most cases."
   ]
  },
  {
   "cell_type": "markdown",
   "metadata": {},
   "source": [
    "**Exercise 03.09**: Write a program that prints only the even numbers in the following list and terminates if it reaches a `-1`."
   ]
  },
  {
   "cell_type": "code",
   "execution_count": null,
   "metadata": {},
   "outputs": [],
   "source": [
    "# The list to iterate over; DO NOT MODIFY\n",
    "myList = [1, 5, 8, 0, 6, 3, 10, 3, 7, -2, 8, -82, 0, 100, -1, 3, 48, 29, 234, 19]\n",
    "\n",
    "# Write your code here"
   ]
  },
  {
   "cell_type": "markdown",
   "metadata": {},
   "source": [
    "### The `range` Function"
   ]
  },
  {
   "cell_type": "markdown",
   "metadata": {},
   "source": [
    "The `range()` function returns a sequence of numbers. By default, it **starts from 0**, increments by 1 and **stops before** the specified number.\n",
    "\n",
    "The code below generates a list containing all of the integers, up to (but not including) 10. Note that in order to output the range as a list, we need to explicitly convert it to a list, using the `list()` function."
   ]
  },
  {
   "cell_type": "code",
   "execution_count": null,
   "metadata": {},
   "outputs": [],
   "source": [
    "numbers = list(range(10))\n",
    "print(numbers)"
   ]
  },
  {
   "cell_type": "markdown",
   "metadata": {},
   "source": [
    "If `range` is called with one argument, it produces an object with values from 0 to that argument. If it is called with two arguments, it produces values from the first (**inclusive**) to the second (**exclusive**).\n",
    "\n",
    "**Remember, the second argument is not included in the range, so `range(3, 8)` will not include the number 8.**"
   ]
  },
  {
   "cell_type": "code",
   "execution_count": null,
   "metadata": {},
   "outputs": [],
   "source": [
    "numbers = list(range(3, 8))  # Numbers in the range 3 <= x < 8\n",
    "print(numbers)\n",
    "\n",
    "print(range(20) == range(0, 20))"
   ]
  },
  {
   "cell_type": "markdown",
   "metadata": {},
   "source": [
    "The `range` function can have a third argument, which determines the interval of the sequence produced, also called the **step**. By default, if it is not specified, the **step size** is 1."
   ]
  },
  {
   "cell_type": "code",
   "execution_count": null,
   "metadata": {},
   "outputs": [],
   "source": [
    "numbers1 = list(range(5, 20, 2))  # Has step size 2\n",
    "print(numbers1)\n",
    "\n",
    "numbers2 = list(range(5, 20, 3))  # Has step size 3\n",
    "print(numbers2)"
   ]
  },
  {
   "cell_type": "markdown",
   "metadata": {},
   "source": [
    "We can also create list of decreasing numbers, using a **negative number as the third argument**, for example:"
   ]
  },
  {
   "cell_type": "code",
   "execution_count": null,
   "metadata": {},
   "outputs": [],
   "source": [
    "decreasingNumbers1 = list(range(20, 5, -1))  # Notice the first argument is larger than the second argument\n",
    "print(decreasingNumbers1)\n",
    "\n",
    "decreasingNumbers2 = list(range(20, 5, -3))\n",
    "print(decreasingNumbers2)"
   ]
  },
  {
   "cell_type": "markdown",
   "metadata": {},
   "source": [
    "The `for` loop is commonly used to **repeat some code a certain number of times**. This is done by combining for loops with `range` objects.\n",
    "\n",
    "*Note: You don't need to call `list` on the `range` object when it is used in a `for` loop, because it isn't being indexed, so a list isn't required.*"
   ]
  },
  {
   "cell_type": "code",
   "execution_count": null,
   "metadata": {},
   "outputs": [],
   "source": [
    "for i in range(5):  # For every possible `i` in between 0 (inclusive) to 5 (exclusive),\n",
    "    print(i)        # print the value of `i`\n",
    "print()\n",
    "\n",
    "for j in range(5, 15):\n",
    "    print(j)\n",
    "print()\n",
    "\n",
    "for k in range(5, 15, 3):\n",
    "    print(k)\n",
    "print()"
   ]
  },
  {
   "cell_type": "markdown",
   "metadata": {},
   "source": [
    "**Exercise 03.10**: Write a program that only prints out the elements of the following list from index `6` (inclusive) to index `15` (inclusive)."
   ]
  },
  {
   "cell_type": "code",
   "execution_count": null,
   "metadata": {},
   "outputs": [],
   "source": [
    "# The list to iterate over; DO NOT MODIFY\n",
    "myList = [1, 2, 3, 4, 5, 6, 7, 8, 9, 10, 11, 12, 13, 14, 15, 16, 17, 18, 19, 20]\n",
    "\n",
    "# Write your code here"
   ]
  },
  {
   "cell_type": "markdown",
   "metadata": {},
   "source": [
    "## Assignment 03\n",
    "FizzBuzz is a well known programming assignment, asked during interviews. This is a modified version of the FizzBuzz problem.\n",
    "\n",
    "### Task\n",
    "Write code that does the following:\n",
    "- Accepts two integers as input, `m` and `n`. You can assume `m` is smaller than `n`.\n",
    "- For every integer `x` in between `m` and `n` (both inclusive),\n",
    "    - if `x` is a multiple of 3, `x` is called a *Fizz Number*. Append it to a list of Fizz Numbers instead of printing the number.\n",
    "    - if `x` is a multiple of 5, `x` is called a *Buzz Number*. append it to a list of Buzz Numbers instead of printing the number.\n",
    "    - if `x` is a multiple of both 3 and 5, `x` is called a *FizzBuzz Number*. Append it to a third list containing FizzBuzz Numbers instead of printing the number. **Do not append `x` into any of the first two lists**.\n",
    "    - otherwise, print the number.\n",
    "- Output the lists containing\n",
    "    - Fizz Numbers,\n",
    "    - Buzz Numbers, and\n",
    "    - FizzBuzz Numbers\n",
    "  \n",
    "  in that order.\n",
    "\n",
    "### Input Format\n",
    "- The first input should be for the integer `m`.\n",
    "- The second input should be for the integer `n`.\n",
    "\n",
    "### Sample Input\n",
    "```\n",
    "7\n",
    "28\n",
    "```\n",
    "\n",
    "### Sample Output\n",
    "```\n",
    "7\n",
    "8\n",
    "11\n",
    "13\n",
    "14\n",
    "16\n",
    "17\n",
    "19\n",
    "22\n",
    "23\n",
    "26\n",
    "28\n",
    "[9, 12, 18, 21, 24, 27]\n",
    "[10, 20, 25]\n",
    "[15]\n",
    "```"
   ]
  },
  {
   "cell_type": "code",
   "execution_count": null,
   "metadata": {},
   "outputs": [],
   "source": [
    "# Write your code here"
   ]
  }
 ],
 "metadata": {
  "kernelspec": {
   "display_name": "Python 3 (ipykernel)",
   "language": "python",
   "name": "python3"
  },
  "language_info": {
   "codemirror_mode": {
    "name": "ipython",
    "version": 3
   },
   "file_extension": ".py",
   "mimetype": "text/x-python",
   "name": "python",
   "nbconvert_exporter": "python",
   "pygments_lexer": "ipython3",
   "version": "3.10.8"
  }
 },
 "nbformat": 4,
 "nbformat_minor": 4
}
