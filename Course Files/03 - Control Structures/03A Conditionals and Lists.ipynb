{
 "cells": [
  {
   "cell_type": "markdown",
   "metadata": {},
   "source": [
    "# 03 - Control Structures\n",
    "## 03A - Conditionals and Lists"
   ]
  },
  {
   "cell_type": "markdown",
   "metadata": {},
   "source": [
    "## Booleans and Comparisons"
   ]
  },
  {
   "cell_type": "markdown",
   "metadata": {},
   "source": [
    "Previously we learnt that **integers**, **floats**, and **strings** are some examples of **data types** in Python.\n",
    "\n",
    "Another data type in Python is known as a **Boolean**. There are two Boolean values: `True` and `False`.\n",
    "\n",
    "They can be created by comparing values, for instance by using the **equivalence/comparison operator `==`**. Be careful not to confuse assignment (one equals sign) with comparison (two equals signs)."
   ]
  },
  {
   "cell_type": "code",
   "execution_count": null,
   "metadata": {},
   "outputs": [],
   "source": [
    "myBoolean = True  # For Booleans, i.e. `True` and `False`, they DO NOT have quotes around them\n",
    "print(myBoolean)\n",
    "\n",
    "print(2 == 3)  # `2 == 3` is the same as asking \"Is 2 equivalent to 3?\"\n",
    "\n",
    "print(4 == 4)  # `4 == 4` is the same as asking \"Is 4 equivalent to 4?\"\n",
    "\n",
    "print(\"Hello\" == \"hello\")\n",
    "\n",
    "print(\"World!\" == \"World!\")"
   ]
  },
  {
   "cell_type": "markdown",
   "metadata": {},
   "source": [
    "Another comparison operator, the not equal operator (`!=`), evaluates to `True` if the items being compared aren't equal, and `False` if they are."
   ]
  },
  {
   "cell_type": "code",
   "execution_count": null,
   "metadata": {},
   "outputs": [],
   "source": [
    "print(2 != 1)  # \"Is 2 not equal to 1?\"\n",
    "print(5 != 5)  # \"Is 5 not equal to 5?\""
   ]
  },
  {
   "cell_type": "markdown",
   "metadata": {},
   "source": [
    "Python also has operators that determine whether one number (float or integer) is greater than or smaller than another. These operators are `>` (greater than) and `<` (smaller than/less than)."
   ]
  },
  {
   "cell_type": "code",
   "execution_count": null,
   "metadata": {},
   "outputs": [],
   "source": [
    "print(7.5 > 5.5)  # Is 7.5 greater than 5.5?\n",
    "print(7.5 > 7.5)  # Is 7.5 greater than 7.5?\n",
    "print(7.5 > 9.5)  # Is 7.5 greater than 9.5?\n",
    "\n",
    "print()           # Print empty line\n",
    "\n",
    "print(7.5 < 5.5)  # Is 7.5 less than 5.5?\n",
    "print(7.5 < 7.5)  # Is 7.5 less than 7.5?\n",
    "print(7.5 < 9.5)  # Is 7.5 less than 9.5?"
   ]
  },
  {
   "cell_type": "markdown",
   "metadata": {},
   "source": [
    "The greater than or equal to, and smaller/lesser than or equal to operators are `>=` and `<=`. They are the same as the strict greater than and smaller/lesser than operators, except that they return `True` when comparing equal numbers."
   ]
  },
  {
   "cell_type": "code",
   "execution_count": null,
   "metadata": {},
   "outputs": [],
   "source": [
    "print(7.5 >= 5.5)  # Is 7.5 greater than or equal to 5.5?\n",
    "print(7.5 >= 7.5)  # Is 7.5 greater than or equal to 7.5?\n",
    "print(7.5 >= 9.5)  # Is 7.5 greater than or equal to 9.5?\n",
    "\n",
    "print()            # Print empty line\n",
    "\n",
    "print(7.5 <= 5.5)  # Is 7.5 less than or equal to 5.5?\n",
    "print(7.5 <= 7.5)  # Is 7.5 less than or equal to 7.5?\n",
    "print(7.5 <= 9.5)  # Is 7.5 less than or equal to 9.5?"
   ]
  },
  {
   "cell_type": "markdown",
   "metadata": {},
   "source": [
    "Different numeric types can also be compared, for example, integer and float."
   ]
  },
  {
   "cell_type": "code",
   "execution_count": null,
   "metadata": {},
   "outputs": [],
   "source": [
    "print(5.5 > 5)\n",
    "print(1.0 <= 1)"
   ]
  },
  {
   "cell_type": "markdown",
   "metadata": {},
   "source": [
    "**Excersise 03.01**: Write code that generates the output to the following questions:\n",
    "- Is 3.3 greater than 5?\n",
    "- Is 2 not equal to 2.0?\n",
    "- Is 3.0 equal to 3.000?\n",
    "- Is 7 less than 9?\n",
    "\n",
    "*Hint: use comparisons.*"
   ]
  },
  {
   "cell_type": "code",
   "execution_count": null,
   "metadata": {},
   "outputs": [],
   "source": [
    "# Write your code here"
   ]
  },
  {
   "cell_type": "markdown",
   "metadata": {},
   "source": [
    "Greater than and smaller than operators can also be used to compare strings **lexicographically** (the alphabetical order of words is based on the alphabetical order of their component letters).\n",
    "\n",
    "Here's one example:"
   ]
  },
  {
   "cell_type": "code",
   "execution_count": null,
   "metadata": {},
   "outputs": [],
   "source": [
    "print(\"Annie\" > \"Andy\")"
   ]
  },
  {
   "cell_type": "markdown",
   "metadata": {},
   "source": [
    "The first two characters from `Annie` and `Andy` (`A` and `A`) are compared. As they are equal, the second two characters (`n` and `n`) are compared. Because they are also equal, the third two characters (`n` and `d`) are compared. And because `n` has greater alphabetical order value than `d`, `Annie` is greater than `Andy`."
   ]
  },
  {
   "cell_type": "markdown",
   "metadata": {},
   "source": [
    "**Discussion 03.01**: What is the output of the following code?\n",
    "```python\n",
    "print(\"Andy \" >= \"Andy\")\n",
    "print(\" Andy\" >= \"Andy\")\n",
    "print(\"09\" > \"2\")\n",
    "```\n",
    "Try and predict the output before typing it out in the area below."
   ]
  },
  {
   "cell_type": "code",
   "execution_count": null,
   "metadata": {},
   "outputs": [],
   "source": [
    "# Try out the code here"
   ]
  },
  {
   "cell_type": "markdown",
   "metadata": {},
   "source": [
    "## The `if`-`elif`-`else` Control Structure"
   ]
  },
  {
   "cell_type": "markdown",
   "metadata": {},
   "source": [
    "You can use `if` statements to run code if a certain condition holds. If an expression evaluates to `True`, some statements are carried out. Otherwise, they aren't carried out.\n",
    "\n",
    "An `if` statement looks like this:\n",
    "```python\n",
    "if [Condition]:\n",
    "    [Statements]\n",
    "```\n",
    "\n",
    "Python uses indentation (white space at the beginning of a line) to delimit blocks of code (**code blocks**). Depending on program's logic, indentation can be mandatory, such as the statements in the `if` code block.\n",
    "\n",
    "Here's an example of an `if` code block."
   ]
  },
  {
   "cell_type": "code",
   "execution_count": null,
   "metadata": {},
   "outputs": [],
   "source": [
    "x = 10\n",
    "y = 5\n",
    "\n",
    "if x > y:  # Notice the colon at the end of the `if` statment\n",
    "    print(\"x is bigger than y\")\n",
    "\n",
    "print(\"Program ended\")"
   ]
  },
  {
   "cell_type": "markdown",
   "metadata": {},
   "source": [
    "The expression `if x > y` determines whether `x` is greater than `y`. Since `x = 10` is bigger than `y = 5`, the indented statement `print(\"x is bigger than y\")` runs, and `x is bigger than y` is output. Then, the unindented statement `print(\"Program ended\")`, which is not part of the `if` statement, is run, and `Program ended` is displayed."
   ]
  },
  {
   "cell_type": "markdown",
   "metadata": {},
   "source": [
    "To perform more complex checks, `if` statements can be **nested**, one inside the other. This means that the inner `if` statement is the statement part of the outer one. This is one way to see whether multiple conditions are satisfied.\n",
    "\n",
    "To differentiate between the different `if` code blocks, indentation is used. Indentation helps to define the level of nesting."
   ]
  },
  {
   "cell_type": "code",
   "execution_count": null,
   "metadata": {},
   "outputs": [],
   "source": [
    "num = 12\n",
    "\n",
    "if num > 5:\n",
    "    print(\"Bigger than 5\")\n",
    "    if num <= 42:\n",
    "        print(\"Smaller than or equal to 42\")\n",
    "        if num > 7:\n",
    "            print(\"Bigger than 7\")"
   ]
  },
  {
   "cell_type": "markdown",
   "metadata": {},
   "source": [
    "The `if` statement allows you to check a condition and run some statements, if the condition is `True`.\n",
    "The `else` statement can be used to run some statements when the condition of the `if` statement is `False`.\n",
    "\n",
    "As with `if` statements, the code inside the `else` code block should be indented."
   ]
  },
  {
   "cell_type": "code",
   "execution_count": null,
   "metadata": {},
   "outputs": [],
   "source": [
    "x = 5\n",
    "\n",
    "if x == 10:\n",
    "    print(\"x is 10\")\n",
    "else:  # Notice the colon here\n",
    "    print(\"x is not 10\")"
   ]
  },
  {
   "cell_type": "markdown",
   "metadata": {},
   "source": [
    "As with `if` code blocks, `if`-`else` code blocks can also be nested. Indentation determines which `if`/`else` statements the code blocks belong to. However, note that every `if` block **can only have one `else` statement**."
   ]
  },
  {
   "cell_type": "code",
   "execution_count": null,
   "metadata": {},
   "outputs": [],
   "source": [
    "x = 5\n",
    "\n",
    "if x >= 5:\n",
    "    if x == 5:\n",
    "        print(\"x is 5\")\n",
    "    else:\n",
    "        print(\"x is larger than 5\")\n",
    "else:\n",
    "    print(\"x is smaller than 5\")"
   ]
  },
  {
   "cell_type": "markdown",
   "metadata": {},
   "source": [
    "Multiple `if`/`else` statements make the code long and not very readable.\n",
    "The `elif` (short for else if) statement is a shortcut to use when chaining `if` and `else` statements, making the code shorter.\n",
    "\n",
    "The `elif` statement is equivalent to an `if`/`else` statement. It is used to make the code shorter, more readable, and avoid indentation increases.\n",
    "\n",
    "Compare and contrast the following two pieces of code, which does the same thing."
   ]
  },
  {
   "cell_type": "code",
   "execution_count": null,
   "metadata": {},
   "outputs": [],
   "source": [
    "# Using only `if` and `else`\n",
    "num = 3\n",
    "\n",
    "if num == 1:\n",
    "    print(\"Number is 1\")\n",
    "else:\n",
    "    if num == 2:\n",
    "        print(\"Number is 2\")\n",
    "    else:\n",
    "        if num == 3:\n",
    "            print(\"Number is 3\")\n",
    "        else:\n",
    "            if num == 4:\n",
    "                print(\"Number is 4\")\n",
    "            else:\n",
    "                print(\"Number is something else\")"
   ]
  },
  {
   "cell_type": "markdown",
   "metadata": {},
   "source": [
    "A series of `if`-`elif` statements can have a final `else` block, which is called if **none of the `if`/`elif` expressions is `True`**."
   ]
  },
  {
   "cell_type": "code",
   "execution_count": null,
   "metadata": {},
   "outputs": [],
   "source": [
    "# Using `if`, `elif` and `else`\n",
    "num = 3\n",
    "\n",
    "if num == 1:\n",
    "    print(\"Number is 1\")\n",
    "elif num == 2:\n",
    "    print(\"Number is 2\")\n",
    "elif num == 3:\n",
    "    print(\"Number is 3\")\n",
    "elif num == 4:\n",
    "    print(\"Number is 4\")\n",
    "else:\n",
    "    print(\"Number is something else\")"
   ]
  },
  {
   "cell_type": "markdown",
   "metadata": {},
   "source": [
    "**Exercise 03.02**: Write a program that takes in a float as input and outputs one of these three things based on the value of the input.\n",
    "- If the float is positive, output `Input is positive`.\n",
    "- If the float is negative, output `Input is negative`.\n",
    "- If the float is zero, output `Input is zero`."
   ]
  },
  {
   "cell_type": "code",
   "execution_count": null,
   "metadata": {},
   "outputs": [],
   "source": [
    "# Write your code here"
   ]
  },
  {
   "cell_type": "markdown",
   "metadata": {},
   "source": [
    "## Boolean Logic"
   ]
  },
  {
   "cell_type": "markdown",
   "metadata": {},
   "source": [
    "Boolean logic is used to make more complicated conditions for `if` statements that rely on more than one condition.\n",
    "\n",
    "The three basic types of Boolean operators in python are `and`, `or`, and `not`.\n",
    "\n",
    "The `and` operator takes two arguments and **evaluates as `True` if and only if both of its arguments are `True`**. Otherwise, it evaluates to `False`.\n"
   ]
  },
  {
   "cell_type": "code",
   "execution_count": null,
   "metadata": {},
   "outputs": [],
   "source": [
    "print(1 == 1 and 2 == 2)  # Both `True` so output is `True`\n",
    "print(1 == 1 and 2 == 3)  # `2 == 3` is `False` so output is `False`\n",
    "print(1 == 2 and 2 == 2)  # `1 == 2` is `False` so output is `False`\n",
    "print(1 == 2 and 2 == 3)  # Both `False` so output is `False`"
   ]
  },
  {
   "cell_type": "markdown",
   "metadata": {},
   "source": [
    "The `or` operator also takes two arguments. It evaluates to `True` if **either (or both) of its arguments are `True`**, and `False` if both arguments are `False`."
   ]
  },
  {
   "cell_type": "code",
   "execution_count": null,
   "metadata": {},
   "outputs": [],
   "source": [
    "print(1 == 1 or 2 == 2)  # Both `True` so output is `True`\n",
    "print(1 == 1 or 2 == 3)  # `1 == 1` is `True` so output is `True`\n",
    "print(1 == 2 or 2 == 2)  # `2 == 2` is `True` so output is `True`\n",
    "print(1 == 2 or 2 == 3)  # Both `False` so output is `False`"
   ]
  },
  {
   "cell_type": "markdown",
   "metadata": {},
   "source": [
    "Unlike the other two operators, the `not` operator only takes one argument, and inverts it.\n",
    "- The result of `not True` is `False`.\n",
    "- The result of `not False` is `True`."
   ]
  },
  {
   "cell_type": "code",
   "execution_count": null,
   "metadata": {},
   "outputs": [],
   "source": [
    "print(not (1 == 1))  # `1 == 1` is `True` so this outputs `False`\n",
    "print(not (2 == 3))  # `2 == 3` is `False` so this outputs `True`"
   ]
  },
  {
   "cell_type": "markdown",
   "metadata": {},
   "source": [
    "Boolean operators can be used in expression as many times as needed."
   ]
  },
  {
   "cell_type": "code",
   "execution_count": null,
   "metadata": {},
   "outputs": [],
   "source": [
    "print(1 == 1 and 2 == 2 and 3 == 3 and 4 == 4 and 5 == 5)  # All `True` so output is `True`\n",
    "print(1 == 2 or 2 == 3 or 3 == 4 or 4 == 5 or 5 == 5)      # The last condition is `True` so output is `True`\n",
    "print(not not not not not not not False)                   # Seven `not`s so the output is `True`"
   ]
  },
  {
   "cell_type": "markdown",
   "metadata": {},
   "source": [
    "**Exercise 03.03**: A phone alarm should only sound if:\n",
    "- the alarm is turned on (i.e. the variable `alarmOn` is `True`), **and**\n",
    "- the current hour is `08` **or** `14` **or** `18` (i.e. the variable `hour` is the string `08`, `14`, or `18`).\n",
    "\n",
    "Write code that correctly sounds the phone alarm given a certain set of input conditions.\n",
    "- If the phone alarm sounds, output `RING!`\n",
    "- Otherwise, **do not output anything**."
   ]
  },
  {
   "cell_type": "code",
   "execution_count": null,
   "metadata": {},
   "outputs": [],
   "source": [
    "# Input handling; don't override anything here!\n",
    "alarmOn = bool(input(\"Is the alarm on? (True or False): \"))\n",
    "hour = input(\"What is the current hour (in 24 hour format): \")\n",
    "\n",
    "# Write your code here"
   ]
  },
  {
   "cell_type": "markdown",
   "metadata": {},
   "source": [
    "## Lists"
   ]
  },
  {
   "cell_type": "markdown",
   "metadata": {},
   "source": [
    "### List Basics"
   ]
  },
  {
   "cell_type": "markdown",
   "metadata": {},
   "source": [
    "Lists are a collection of data objects.\n",
    "\n",
    "A list is created using **square brackets** with **commas (`,`)** separating items. For example:"
   ]
  },
  {
   "cell_type": "code",
   "execution_count": null,
   "metadata": {},
   "outputs": [],
   "source": [
    "myList = [\"Item 1\", \"Item 2\", \"Item 3\"]  # There's 3 items in this list\n",
    "print(myList)"
   ]
  },
  {
   "cell_type": "markdown",
   "metadata": {},
   "source": [
    "*Note: in some code samples you might see a comma after the last item in the list. It's not mandatory, but perfectly valid. For this course, however, we will __not__ be doing this.*"
   ]
  },
  {
   "cell_type": "markdown",
   "metadata": {},
   "source": [
    "A certain item in the list can be accessed by using its index in square brackets. The syntax for this is:\n",
    "```python\n",
    "myList[listIndex]\n",
    "```\n",
    "Note that, like most programming languages, lists are **0-indexed**. This means that the *first element in the list __has the index zero (0) instead of one (1)__*."
   ]
  },
  {
   "cell_type": "code",
   "execution_count": null,
   "metadata": {},
   "outputs": [],
   "source": [
    "words = [\"One\", \"Two\", \"Three\", \"Four\", \"Five\"]\n",
    "\n",
    "print(words[0])  # Print the FIRST word in `words`\n",
    "print(words[1])  # Print the SECOND word in `words`\n",
    "print(words[2])  # Print the THIRD word in `words`\n",
    "print(words[3])  # Print the FOURTH word in `words`\n",
    "print(words[4])  # Print the FIFTH word in `words`"
   ]
  },
  {
   "cell_type": "markdown",
   "metadata": {},
   "source": [
    "**Discussion 03.02**: What do you think will be output by the following code?\n",
    "```python\n",
    "myList = [\"Foo\", \"Bar\", \"Spam\", \"Eggs\", \"Python\"]\n",
    "\n",
    "print(myList[1])\n",
    "print(myList[3])\n",
    "print(myList[-1])\n",
    "```\n",
    "After making your prediction, try it out in the space below."
   ]
  },
  {
   "cell_type": "code",
   "execution_count": null,
   "metadata": {},
   "outputs": [],
   "source": [
    "# Try out the code here"
   ]
  },
  {
   "cell_type": "markdown",
   "metadata": {},
   "source": [
    "Python also accepts **negative integers** as valid indices of lists, as seen in the discussion above.\n",
    "\n",
    "Suppose the index to be accessed is `-n`, where `n` is a positive integer. Then the element returned is the `n`<sup>th</sup> element of the list **from the back**.\n",
    "\n",
    "For example:"
   ]
  },
  {
   "cell_type": "code",
   "execution_count": null,
   "metadata": {},
   "outputs": [],
   "source": [
    "myList = [-5, -4, -3, -2, -1]  # The elements here represent the 'negative index' to access them from\n",
    "\n",
    "print(myList[2])   # Gets the THIRD element from the FRONT\n",
    "print(myList[-2])  # Gets the SECOND element from the BACK\n",
    "\n",
    "print(myList[1])   # Gets the SECOND element from the FRONT\n",
    "print(myList[-1])  # Gets the LAST element from the BACK\n",
    "\n",
    "print(myList[0])   # Gets the FIRST element from the front\n",
    "print(myList[-0])  # Since `0 = -0` this still returns the FIRST element from the FRONT"
   ]
  },
  {
   "cell_type": "markdown",
   "metadata": {},
   "source": [
    "Sometimes you need to create an empty list and populate it later during the program. For example, if you are creating a queue management program, the queue is going to be empty in the beginning and get populated with people data later.\n",
    "\n",
    "An empty list is created with an empty pair of square brackets."
   ]
  },
  {
   "cell_type": "code",
   "execution_count": null,
   "metadata": {},
   "outputs": [],
   "source": [
    "myEmptyList = []"
   ]
  },
  {
   "cell_type": "markdown",
   "metadata": {},
   "source": [
    "Typically, a list will contain items of a single item type, but it is also possible to include several different types (albeit being a bad practice to do so)."
   ]
  },
  {
   "cell_type": "code",
   "execution_count": null,
   "metadata": {},
   "outputs": [],
   "source": [
    "listWithManyTypes = [1, 2.3, \"4\", True, [\"Here's a\", \"list in\", \"a list!\"]]"
   ]
  },
  {
   "cell_type": "markdown",
   "metadata": {},
   "source": [
    "Lists can also be nested within other lists, as seen above.\n",
    "\n",
    "Nested lists can be used to represent 2D grids, such as matrices. A matrix-like structure can be used in cases where you need to store data in row-column format. For example, when creating a ticketing program, the seat numbers can be stored in a matrix, with their corresponding rows and numbers.\n",
    "\n",
    "Here's an example of lists within a list:"
   ]
  },
  {
   "cell_type": "code",
   "execution_count": null,
   "metadata": {},
   "outputs": [],
   "source": [
    "# Note: we 'expand' this list across multiple lines to make it easier to read\n",
    "matrix = [\n",
    "    [1, 2, 3],\n",
    "    [4, 5, 6],\n",
    "    [7, 8, 9],\n",
    "    [10, 11, 12]\n",
    "]\n",
    "\n",
    "print(matrix)  # However when printing the formatting disappears\n",
    "\n",
    "print(matrix[0][0])  # Access 1st element of 1st list\n",
    "print(matrix[2][0])  # Access 1st element of 3rd list\n",
    "print(matrix[0][2])  # Access 3rd element of 1st list"
   ]
  },
  {
   "cell_type": "markdown",
   "metadata": {},
   "source": [
    "Technically speaking, a string is a list of characters **that cannot be changed** (i.e. a string is **immutable**), so we can perform some list operations on strings as well.\n",
    "\n",
    "*Note: The space (` `) is also a character and thus has a corresponding index (see below).*"
   ]
  },
  {
   "cell_type": "code",
   "execution_count": null,
   "metadata": {},
   "outputs": [],
   "source": [
    "myString = \"Hello World!\"\n",
    "\n",
    "print(myString[0])   # Print 1st character of the string\n",
    "print(myString[6])   # Print 7th character of the string\n",
    "print(myString[-2])  # Print 2nd last character of the string\n",
    "print(myString[5])   # Print 6th character of the string, which is the space character"
   ]
  },
  {
   "cell_type": "markdown",
   "metadata": {},
   "source": [
    "Trying to access a non-existing index in **any list** will produce an error."
   ]
  },
  {
   "cell_type": "code",
   "execution_count": null,
   "metadata": {},
   "outputs": [],
   "source": [
    "myList = [1, 2, 3]\n",
    "\n",
    "# This will raise an `IndexError` - an error saying that the specified index does not exist\n",
    "# print(myList[3])  # There's no 4th element so an error will be raised"
   ]
  },
  {
   "cell_type": "markdown",
   "metadata": {},
   "source": [
    "**Exercise 03.04**:\n",
    "- Create a list with the elements `1`, `2.3`, `4.56`, `7.89` and `11.1213`.\n",
    "- Create a string with the text `quickly`.\n",
    "- Print out the following elements for both the list and the string:\n",
    "    - The first element\n",
    "    - The fourth element\n",
    "    - The last element\n",
    "    - The third element from the back"
   ]
  },
  {
   "cell_type": "code",
   "execution_count": null,
   "metadata": {},
   "outputs": [],
   "source": [
    "# Write your code here"
   ]
  },
  {
   "cell_type": "markdown",
   "metadata": {},
   "source": [
    "### List Operations"
   ]
  },
  {
   "cell_type": "markdown",
   "metadata": {},
   "source": [
    "The item at a certain index in a list can be reassigned. The item can be of a different type, although it is not advised to do so."
   ]
  },
  {
   "cell_type": "code",
   "execution_count": null,
   "metadata": {},
   "outputs": [],
   "source": [
    "myList = [1, 2, 3, 4, 5]\n",
    "print(myList)\n",
    "\n",
    "myList[2] = 100\n",
    "print(myList)"
   ]
  },
  {
   "cell_type": "markdown",
   "metadata": {},
   "source": [
    "Lists can be added and multiplied in the same way as strings. Technically speaking, a string is a list of characters **that cannot be changed** (i.e. a string is **immutable**), so we can perform some list operations on strings as well."
   ]
  },
  {
   "cell_type": "code",
   "execution_count": null,
   "metadata": {},
   "outputs": [],
   "source": [
    "myString = \"python\"\n",
    "myList = [\"p\", \"y\", \"t\", \"h\", \"o\", \"n\"]  # Same characters as the string\n",
    "\n",
    "print(myString + \".org\")\n",
    "print(myList + [\".\", \"o\", \"r\", \"g\"])  # We can add a list to the end of a list\n",
    "\n",
    "print(\"monty\" + myString)\n",
    "print([\"m\", \"o\", \"n\", \"t\", \"y\"] + myList)  # We can add a list to the front of a list\n",
    "\n",
    "print(myString * 3)\n",
    "print(myList * 3)  # We can multiply lists"
   ]
  },
  {
   "cell_type": "markdown",
   "metadata": {},
   "source": [
    "**Discussion 03.03**: What would happen if the following code is run?\n",
    "```python\n",
    "myString = \"Alphabet\"\n",
    "print(myString[0])\n",
    "\n",
    "myString[0] = \"a\"\n",
    "print(myString)\n",
    "```"
   ]
  },
  {
   "cell_type": "code",
   "execution_count": null,
   "metadata": {},
   "outputs": [],
   "source": [
    "# Try out the code here"
   ]
  },
  {
   "cell_type": "markdown",
   "metadata": {},
   "source": [
    "To check if an item is in a list, the **`in`** operator can be used. It returns `True` if the item occurs one or more times in the list (i.e. the item is *in the list*), and `False` if it doesn't."
   ]
  },
  {
   "cell_type": "code",
   "execution_count": null,
   "metadata": {},
   "outputs": [],
   "source": [
    "words = [\"spam\", \"egg\", \"spam\", \"foo\"]\n",
    "\n",
    "print(\"spam\" in words)  # Is the string \"spam\" in the list `words`?\n",
    "print(\"egg\" in words)   # Is the string \"egg\" in the list `words`?\n",
    "print(\"bar\" in words)   # Is the string \"bar\" in the list `words`?"
   ]
  },
  {
   "cell_type": "markdown",
   "metadata": {},
   "source": [
    "The `in` operator is can also be used to determine whether or not a string is a substring of another string."
   ]
  },
  {
   "cell_type": "code",
   "execution_count": null,
   "metadata": {},
   "outputs": [],
   "source": [
    "longWord = \"antidisestablishmentarianism\"\n",
    "\n",
    "print(\"an\" in longWord)         # Is the string \"an\" in the string `longWord`?\n",
    "print(\"establish\" in longWord)  # Is the string \"establish\" in the string `longWord`?\n",
    "print(\"ist\" in longWord)        # Is the string \"ist\" in the string `longWord`?"
   ]
  },
  {
   "cell_type": "markdown",
   "metadata": {},
   "source": [
    "To check if an item is not in a list or string, you can use the not operator in one of the following ways:"
   ]
  },
  {
   "cell_type": "code",
   "execution_count": null,
   "metadata": {},
   "outputs": [],
   "source": [
    "myList = [1, 2, 3]\n",
    "\n",
    "# Both of these ask the question \"is 3 NOT in `myList`?\"\n",
    "print(not 3 in myList)\n",
    "print(3 not in myList)  # Recommended format\n",
    "\n",
    "# Both of these ask the question \"is 4 NOT in `myList`?\"\n",
    "print(not 4 in myList)\n",
    "print(4 not in myList)  # Recommended format"
   ]
  },
  {
   "cell_type": "markdown",
   "metadata": {},
   "source": [
    "**Exercise 03.05**: Write a program that takes in two strings as input and checks if the second string is present in the first string.\n",
    "- If so, output `\"[SECOND STRING]\" is present in \"[FIRST STRING]\"`, replacing `[FIRST STRING]` and `[SECOND STRING]` with the appopriate strings.\n",
    "- If not, output `\"[SECOND STRING]\" is NOT present in \"[FIRST STRING]\"`, replacing `[FIRST STRING]` and `[SECOND STRING]` with the appopriate strings."
   ]
  },
  {
   "cell_type": "code",
   "execution_count": null,
   "metadata": {},
   "outputs": [],
   "source": [
    "# Write your code here"
   ]
  },
  {
   "cell_type": "markdown",
   "metadata": {},
   "source": [
    "### List Functions And Methods"
   ]
  },
  {
   "cell_type": "markdown",
   "metadata": {},
   "source": [
    "We often want to modify the length of the list.\n",
    "\n",
    "The `append` method adds **one item** to the **end** of an existing list.\n",
    "\n",
    "*Note: In the following code, the dot before `append` is there because it is a method of the list class. Methods will be explained in a later module.*"
   ]
  },
  {
   "cell_type": "code",
   "execution_count": null,
   "metadata": {},
   "outputs": [],
   "source": [
    "numbers = [1, 2, 3, 4]\n",
    "print(numbers)\n",
    "\n",
    "numbers.append(5)  # Adds the integer 5 to the END of `numbers`\n",
    "print(numbers)\n",
    "\n",
    "numbers.append(6)\n",
    "numbers.append(7)\n",
    "numbers.append(8)\n",
    "print(numbers)\n",
    "\n",
    "# Since the list now has 8 items, this code is now valid\n",
    "print(numbers[7])"
   ]
  },
  {
   "cell_type": "markdown",
   "metadata": {},
   "source": [
    "Note that you can only append **one item at a time**. Thus this code\n",
    "```python\n",
    "numbers = [1, 2, 3]\n",
    "numbers.append(4, 5)  # <-- Invalid\n",
    "print(numbers)\n",
    "```\n",
    "will produce an error."
   ]
  },
  {
   "cell_type": "code",
   "execution_count": null,
   "metadata": {},
   "outputs": [],
   "source": [
    "# Try out that section of code here"
   ]
  },
  {
   "cell_type": "markdown",
   "metadata": {},
   "source": [
    "To get the number of items in a list (i.e. **length of the list**), you can use the length function, `len`.\n",
    "\n",
    "Unlike the index of the items, `len` does not start with 0. So, as the list below contains 5 items, the length of the list is 5 and so `len(myList)` returns 5.\n",
    "\n",
    "*Note: `len` is written before the list it is being called on, without a dot.*"
   ]
  },
  {
   "cell_type": "code",
   "execution_count": null,
   "metadata": {},
   "outputs": [],
   "source": [
    "myList = [1, 2, 3, 4, 5]  # Has 5 items\n",
    "print(len(myList))"
   ]
  },
  {
   "cell_type": "markdown",
   "metadata": {},
   "source": [
    "**Discussion 03.04**: What will be the output of the following code?\n",
    "```python\n",
    "myList = [1, 2, 3]\n",
    "print(len(myList))\n",
    "\n",
    "myList.append(4)\n",
    "myList.append(5)\n",
    "print(len(myList))\n",
    "```"
   ]
  },
  {
   "cell_type": "code",
   "execution_count": null,
   "metadata": {},
   "outputs": [],
   "source": [
    "# Try out the code here"
   ]
  },
  {
   "cell_type": "markdown",
   "metadata": {},
   "source": [
    "The `insert` method is similar to `append`, except that it allows you to insert a new item at **any position in the list**, as opposed to just at the end. Elements that are after the inserted item are **shifted to the right**."
   ]
  },
  {
   "cell_type": "code",
   "execution_count": null,
   "metadata": {},
   "outputs": [],
   "source": [
    "myList = [\"A\", \"B\", \"C\", \"D\", \"E\"]\n",
    "\n",
    "indexToInsertAt = 3\n",
    "myList.insert(indexToInsertAt, \"X\")  # Inserts the string \"X\" at the specified index\n",
    "print(myList)\n",
    "\n",
    "myList.insert(0, \"Y\")  # Insert \"Y\" right at the START of the list\n",
    "myList.insert(0, \"Z\")\n",
    "print(myList)\n",
    "\n",
    "print(len(myList))  # Now the list has 8 elements"
   ]
  },
  {
   "cell_type": "markdown",
   "metadata": {},
   "source": [
    "The `index` method finds the first occurrence of a list item and returns its index. If the item isn't in the list, it raises a `ValueError`.\n",
    "\n",
    "*Note: we'll talk more about __error/exception handling__ in a later module.*"
   ]
  },
  {
   "cell_type": "code",
   "execution_count": null,
   "metadata": {},
   "outputs": [],
   "source": [
    "myList = [\"A\", \"B\", \"C\", \"D\", \"E\"]\n",
    "\n",
    "print(myList.index(\"A\"))  # Gets the index of \"A\"\n",
    "print(myList.index(\"C\"))  # Gets the index of \"C\""
   ]
  },
  {
   "cell_type": "markdown",
   "metadata": {},
   "source": [
    "To remove an element at a specific index in a list, we use the `pop` method."
   ]
  },
  {
   "cell_type": "code",
   "execution_count": null,
   "metadata": {},
   "outputs": [],
   "source": [
    "myList = [1, 2, 3, 4, 5, 6, 7, 8, 9]\n",
    "\n",
    "removedElem = myList.pop(0)    # Removes the element at index 0 and returns it\n",
    "print(removedElem, myList)\n",
    "\n",
    "removedElem2 = myList.pop(5)   # Removes element at index 5\n",
    "print(removedElem2, myList)\n",
    "\n",
    "print(myList.pop(-2), myList)  # Removes second last element\n",
    "\n",
    "print(myList.pop(-1), myList)  # Removes last element\n",
    "print(myList.pop(), myList)    # Same thing as above"
   ]
  },
  {
   "cell_type": "markdown",
   "metadata": {},
   "source": [
    "There are a few more useful functions and methods for lists, some of which are demonstrated below."
   ]
  },
  {
   "cell_type": "code",
   "execution_count": null,
   "metadata": {},
   "outputs": [],
   "source": [
    "numbers = [40, 23, 54, 35, 91, 57, 10, 54, 12, 63]  # Ten numbers\n",
    "\n",
    "print(max(numbers))  # Finds the maximum number in `numbers`\n",
    "print(min(numbers))  # Finds the minimum number in `numbers`\n",
    "\n",
    "myList = [\"C\", \"O\", \"L\", \"L\", \"E\", \"C\", \"T\", \"I\", \"O\", \"N\"]\n",
    "print(myList)\n",
    "\n",
    "print(myList.count(\"C\"))  # Counts the number of times the string \"C\" occured in `myList`\n",
    "print(myList.count(\"L\"))  # Counts the number of times the string \"L\" occured in `myList`\n",
    "print(myList.count(\"Z\"))  # Counts the number of times the string \"Z\" occured in `myList`\n",
    "\n",
    "myList.remove(\"E\")  # Removes the string \"E\" from `myList`\n",
    "print(myList)\n",
    "myList.remove(\"C\")  # If there is more than one occurance, the FIRST occurance of it is removed\n",
    "print(myList)\n",
    "\n",
    "myList.reverse()  # Reverses the order of elements in `myList`\n",
    "print(myList)"
   ]
  },
  {
   "cell_type": "markdown",
   "metadata": {},
   "source": [
    "**Exercise 03.06**: Write a program that inserts ___three___ new elements into `myList` (defined below) at the specified index.\n",
    "- Helper code on the input of the elements and their indices is provided below. **You do <u>not</u> need to validate the index**.\n",
    "- Once completed, output the final value of `myList` and the number of elements in `myList` on **two separate lines**."
   ]
  },
  {
   "cell_type": "code",
   "execution_count": null,
   "metadata": {},
   "outputs": [],
   "source": [
    "# Do NOT modify this\n",
    "myList = [\"hello\", \"world\", \"123\", \"0023\", \"2324\"] \n",
    "\n",
    "# Here's an example of how the input of the first element should look like\n",
    "element1 = input(\"Enter element no. 1: \")\n",
    "index1 = int(input(\"Enter index no. 1 (0 to \" + str(len(myList) - 1) + \"): \"))\n",
    "\n",
    "# Write your other input code here\n",
    "\n",
    "# Write your processing code here"
   ]
  }
 ],
 "metadata": {
  "kernelspec": {
   "display_name": "Python 3 (ipykernel)",
   "language": "python",
   "name": "python3"
  },
  "language_info": {
   "codemirror_mode": {
    "name": "ipython",
    "version": 3
   },
   "file_extension": ".py",
   "mimetype": "text/x-python",
   "name": "python",
   "nbconvert_exporter": "python",
   "pygments_lexer": "ipython3",
   "version": "3.10.8"
  }
 },
 "nbformat": 4,
 "nbformat_minor": 4
}
