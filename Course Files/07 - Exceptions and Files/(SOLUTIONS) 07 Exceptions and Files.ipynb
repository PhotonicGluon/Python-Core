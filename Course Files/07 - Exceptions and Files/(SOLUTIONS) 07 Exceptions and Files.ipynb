{
 "cells": [
  {
   "cell_type": "markdown",
   "metadata": {},
   "source": [
    "# 07 - Exceptions and Files (SOLUTIONS)"
   ]
  },
  {
   "cell_type": "markdown",
   "metadata": {},
   "source": [
    "## Exceptions"
   ]
  },
  {
   "cell_type": "markdown",
   "metadata": {},
   "source": [
    "You have already seen exceptions in previous code. They occur when something goes wrong, due to incorrect code or input. When an exception occurs, the program immediately stops.\n",
    "\n",
    "The following code produces the `ZeroDivisionError` exception by trying to divide 7 by 0."
   ]
  },
  {
   "cell_type": "code",
   "execution_count": 1,
   "metadata": {},
   "outputs": [],
   "source": [
    "num1 = 7\n",
    "num2 = 0\n",
    "# print(num1 / num2)  # Uncomment the code to see the exception"
   ]
  },
  {
   "cell_type": "markdown",
   "metadata": {},
   "source": [
    "Different exceptions are raised for different reasons.\n",
    "\n",
    "Here are some common exceptions:\n",
    "- `ImportError`: an import fails.\n",
    "- `IndexError`: a list is indexed with an out-of-range number.\n",
    "- `NameError`: an unknown variable is used.\n",
    "- `SyntaxError`: the code can't be parsed properly.\n",
    "- `TypeError`: a function is called on a value of an inappropriate type.\n",
    "- `ValueError`: a function is called on a value of the correct type, but with an inappropriate value.\n",
    "\n",
    "Python has several other built-in exceptions, such as `ZeroDivisionError` and `OSError`. Third-party libraries also often define their own exceptions."
   ]
  },
  {
   "cell_type": "markdown",
   "metadata": {},
   "source": [
    "**Discussion 07.01**: Predict what exception will be shown when each of the following lines of code are run.\n",
    "- `print(7 + \"2\")`\n",
    "- `import nonexistant_module`\n",
    "- `print \"hello\"`\n",
    "- `print(a)`\n",
    "- `print([1, 2, 3][4])`\n",
    "- `int(\"1.2\")`\n",
    "\n",
    "Check your predictions by running them in the space provided below."
   ]
  },
  {
   "cell_type": "code",
   "execution_count": 2,
   "metadata": {},
   "outputs": [],
   "source": [
    "# print(7 + \"2\")             # TypeError\n",
    "# import nonexistant_module  # ImportError\n",
    "# print \"hello\"              # SyntaxError\n",
    "# print(a)                   # NameError\n",
    "# print([1, 2, 3][4])        # IndexError\n",
    "# int(\"1.2\")                 # ValueError"
   ]
  },
  {
   "cell_type": "markdown",
   "metadata": {},
   "source": [
    "## Exception Handling"
   ]
  },
  {
   "cell_type": "markdown",
   "metadata": {},
   "source": [
    "To handle exceptions, and to call code when an exception occurs, you can use a `try`/`except` statement.\n",
    "\n",
    "The `try` block contains code that might throw an exception. If that exception occurs, the code in the `try` block stops being executed, and the code in the `except` block is run. **If no error occurs, the code in the `except` block doesn't run**."
   ]
  },
  {
   "cell_type": "code",
   "execution_count": 3,
   "metadata": {},
   "outputs": [
    {
     "name": "stdout",
     "output_type": "stream",
     "text": [
      "A zero division error occurred\n"
     ]
    }
   ],
   "source": [
    "try:\n",
    "    num1 = 5\n",
    "    num2 = 0\n",
    "    print(num1 / num2)\n",
    "    print(\"Done calculation\")\n",
    "except ZeroDivisionError:  # We specifically catch this type of error\n",
    "    print(\"A zero division error occurred\")"
   ]
  },
  {
   "cell_type": "markdown",
   "metadata": {},
   "source": [
    "In the code above, the except statement defines the type of exception to handle (in our case, the `ZeroDivisionError`)."
   ]
  },
  {
   "cell_type": "markdown",
   "metadata": {},
   "source": [
    "**Discussion 07.02**: What do you think the following code will output?\n",
    "```python\n",
    "try:\n",
    "    var1 = 10\n",
    "    var2 = 2\n",
    "    print (var1 / var2)\n",
    "\n",
    "except ZeroDivisionError:\n",
    "    print(\"Error\")\n",
    "\n",
    "print(\"Finished\")\n",
    "```\n",
    "Check your answer by running the above code below.\n"
   ]
  },
  {
   "cell_type": "code",
   "execution_count": 4,
   "metadata": {},
   "outputs": [
    {
     "name": "stdout",
     "output_type": "stream",
     "text": [
      "5.0\n",
      "Finished\n"
     ]
    }
   ],
   "source": [
    "try:\n",
    "    var1 = 10\n",
    "    var2 = 2\n",
    "    print (var1 / var2)\n",
    "\n",
    "except ZeroDivisionError:\n",
    "    print(\"Error\")\n",
    "\n",
    "print(\"Finished\")"
   ]
  },
  {
   "cell_type": "markdown",
   "metadata": {},
   "source": [
    "A `try` statement can have multiple different `except` blocks to **handle different exceptions**. Multiple exceptions can also be put into a single `except` block by placing them in a **tuple**, to have the `except` block handle all of them."
   ]
  },
  {
   "cell_type": "code",
   "execution_count": 5,
   "metadata": {},
   "outputs": [
    {
     "name": "stdout",
     "output_type": "stream",
     "text": [
      "Either a type error or value error occurred\n"
     ]
    }
   ],
   "source": [
    "try:\n",
    "    var = 10\n",
    "    print(var + \" hello\")\n",
    "    print(var / 0)\n",
    "except ZeroDivisionError:\n",
    "    print(\"Divided by zero\")\n",
    "except (TypeError, ValueError):\n",
    "    print(\"Either a type error or value error occurred\")"
   ]
  },
  {
   "cell_type": "markdown",
   "metadata": {},
   "source": [
    "An `except` statement without any exception specified will **catch all errors**. *These should be used sparingly, as they can catch unexpected errors and hide programming mistakes*."
   ]
  },
  {
   "cell_type": "code",
   "execution_count": 6,
   "metadata": {},
   "outputs": [
    {
     "name": "stdout",
     "output_type": "stream",
     "text": [
      "An error occurred\n"
     ]
    }
   ],
   "source": [
    "try:\n",
    "    word = \"spam\"\n",
    "    print(word / 0)\n",
    "except:  # Catch any exception\n",
    "    print(\"An error occurred\")"
   ]
  },
  {
   "cell_type": "markdown",
   "metadata": {},
   "source": [
    "Exception handling is particularly useful when **dealing with user input**.\n",
    " As an example, the following program accepts two integers as input (say $a$ and $b$) and returns the value of $\\frac ab$."
   ]
  },
  {
   "cell_type": "code",
   "execution_count": 7,
   "metadata": {},
   "outputs": [
    {
     "name": "stdin",
     "output_type": "stream",
     "text": [
      "Enter the first integer:  12\n",
      "Enter the second integer:  0\n"
     ]
    },
    {
     "name": "stdout",
     "output_type": "stream",
     "text": [
      "Division by zero\n"
     ]
    }
   ],
   "source": [
    "# Handle input\n",
    "while True:\n",
    "    # Try-except block to catch any invalid input from the start\n",
    "    try:\n",
    "        a = int(input(\"Enter the first integer: \"))\n",
    "        b = int(input(\"Enter the second integer: \"))\n",
    "\n",
    "        break  # If reached here the input is OK\n",
    "    \n",
    "    except ValueError:  # Catch any input that is not an integer\n",
    "        print(\"Please enter a valid integer.\")\n",
    "\n",
    "# Now carefully perform division\n",
    "try:\n",
    "    print(a / b)\n",
    "except ZeroDivisionError:\n",
    "    print(\"Division by zero\")"
   ]
  },
  {
   "cell_type": "markdown",
   "metadata": {},
   "source": [
    "**Exercise 07.01**: A company uses **10-digit** numbers (with possible leading zeros to make it 10 digits) as employee identification numbers. Write a program that askes the user for such a number and prints it if it is valid. **Your program must validate the input**.\n",
    "- The input must be a valid integer\n",
    "- The input must have 10 characters\n",
    "- The input must **not** be less than 1000\n",
    "- The last two integers of the input identification number **must not be a multiple of 13**.\n",
    "\n",
    "Here are some examples of **valid** input:\n",
    "- `0987654321`\n",
    "- `5555555555`\n",
    "- `8862839129`\n",
    "- `6126873761`\n",
    "\n",
    "Here are some examples of **invalid** input:\n",
    "- `abcdefghij` (not valid integer)\n",
    "- `1` (not 10 characters)\n",
    "- `0000000999` (input less than 1000)\n",
    "- `0012345678` (last two integers forms `78`, which is a multiple of 13)\n",
    "\n",
    "**Any invalid input should be rejected with an appropriate output.**"
   ]
  },
  {
   "cell_type": "code",
   "execution_count": 8,
   "metadata": {},
   "outputs": [
    {
     "name": "stdin",
     "output_type": "stream",
     "text": [
      "Enter the ID number:  abcdefghij\n"
     ]
    },
    {
     "name": "stdout",
     "output_type": "stream",
     "text": [
      "ID not an integer; rejected\n"
     ]
    },
    {
     "name": "stdin",
     "output_type": "stream",
     "text": [
      "Enter the ID number:  1\n"
     ]
    },
    {
     "name": "stdout",
     "output_type": "stream",
     "text": [
      "ID number not 10 digits; rejected\n"
     ]
    },
    {
     "name": "stdin",
     "output_type": "stream",
     "text": [
      "Enter the ID number:  0000000999\n"
     ]
    },
    {
     "name": "stdout",
     "output_type": "stream",
     "text": [
      "ID less than 1000; rejected\n"
     ]
    },
    {
     "name": "stdin",
     "output_type": "stream",
     "text": [
      "Enter the ID number:  0012345678\n"
     ]
    },
    {
     "name": "stdout",
     "output_type": "stream",
     "text": [
      "Last two digits of ID forms multiple of 13; rejected\n"
     ]
    },
    {
     "name": "stdin",
     "output_type": "stream",
     "text": [
      "Enter the ID number:  8862839129\n"
     ]
    },
    {
     "name": "stdout",
     "output_type": "stream",
     "text": [
      "8862839129\n"
     ]
    }
   ],
   "source": [
    "while True:\n",
    "    # Ask user for input\n",
    "    userInput = input(\"Enter the ID number: \")\n",
    "    \n",
    "    # Check if it is 10 characters\n",
    "    if len(userInput) != 10:  # Remember, strings are 'lists' too\n",
    "        print(\"ID number not 10 digits; rejected\")\n",
    "        continue\n",
    "    \n",
    "    # Check if it is an integer\n",
    "    try:\n",
    "        userID = int(userInput)\n",
    "    except ValueError:\n",
    "        print(\"ID not an integer; rejected\")\n",
    "        continue\n",
    "        \n",
    "    # Check if input is not less than 1000\n",
    "    if userID < 1000:  # Now that `userInput` is an integer we can do this\n",
    "        print(\"ID less than 1000; rejected\")\n",
    "        continue\n",
    "        \n",
    "    # Check if last two digits forms a multiple of 13\n",
    "    if (userID % 100) % 13 == 0:  # First mod 100 is to get last 2 digits\n",
    "        print(\"Last two digits of ID forms multiple of 13; rejected\")\n",
    "        continue\n",
    "    \n",
    "    # Otherwise, the ID is valid; break\n",
    "    break\n",
    "\n",
    "    \n",
    "# Print the ID that was provided by the user\n",
    "print(userInput)"
   ]
  },
  {
   "cell_type": "markdown",
   "metadata": {},
   "source": [
    "To ensure some code runs no matter what errors occur, you can use a `finally` statement. The `finally` statement is placed at the bottom of a `try`/`except` statement. Code within a `finally` statement **always runs** after execution of the code in the `try`, and possibly in the `except`, blocks."
   ]
  },
  {
   "cell_type": "code",
   "execution_count": 9,
   "metadata": {},
   "outputs": [
    {
     "name": "stdout",
     "output_type": "stream",
     "text": [
      "A zero division error occurred\n",
      "This code will run no matter what\n"
     ]
    }
   ],
   "source": [
    "try:\n",
    "    num1 = 5\n",
    "    num2 = 0\n",
    "    print(num1 / num2)\n",
    "    print(\"Done calculation\")\n",
    "except ZeroDivisionError:  # We specifically catch this type of error\n",
    "    print(\"A zero division error occurred\")\n",
    "finally:\n",
    "    print(\"This code will run no matter what\")"
   ]
  },
  {
   "cell_type": "markdown",
   "metadata": {},
   "source": [
    "Code in a `finally` block even runs if an uncaught exception occurs in one of the preceding blocks."
   ]
  },
  {
   "cell_type": "code",
   "execution_count": 10,
   "metadata": {},
   "outputs": [
    {
     "name": "stdout",
     "output_type": "stream",
     "text": [
      "1\n",
      "This code will run no matter what\n"
     ]
    },
    {
     "ename": "NameError",
     "evalue": "name 'unknown_variable' is not defined",
     "output_type": "error",
     "traceback": [
      "\u001b[0;31m---------------------------------------------------------------------------\u001b[0m",
      "\u001b[0;31mZeroDivisionError\u001b[0m                         Traceback (most recent call last)",
      "Cell \u001b[0;32mIn[10], line 3\u001b[0m\n\u001b[1;32m      2\u001b[0m     \u001b[38;5;28mprint\u001b[39m(\u001b[38;5;241m1\u001b[39m)\n\u001b[0;32m----> 3\u001b[0m     \u001b[38;5;28mprint\u001b[39m(\u001b[38;5;241;43m10\u001b[39;49m\u001b[43m \u001b[49m\u001b[38;5;241;43m/\u001b[39;49m\u001b[43m \u001b[49m\u001b[38;5;241;43m0\u001b[39;49m)\n\u001b[1;32m      4\u001b[0m \u001b[38;5;28;01mexcept\u001b[39;00m \u001b[38;5;167;01mZeroDivisionError\u001b[39;00m:\n",
      "\u001b[0;31mZeroDivisionError\u001b[0m: division by zero",
      "\nDuring handling of the above exception, another exception occurred:\n",
      "\u001b[0;31mNameError\u001b[0m                                 Traceback (most recent call last)",
      "Cell \u001b[0;32mIn[10], line 5\u001b[0m\n\u001b[1;32m      3\u001b[0m     \u001b[38;5;28mprint\u001b[39m(\u001b[38;5;241m10\u001b[39m \u001b[38;5;241m/\u001b[39m \u001b[38;5;241m0\u001b[39m)\n\u001b[1;32m      4\u001b[0m \u001b[38;5;28;01mexcept\u001b[39;00m \u001b[38;5;167;01mZeroDivisionError\u001b[39;00m:\n\u001b[0;32m----> 5\u001b[0m     \u001b[38;5;28mprint\u001b[39m(\u001b[43munknown_variable\u001b[49m)\n\u001b[1;32m      6\u001b[0m \u001b[38;5;28;01mfinally\u001b[39;00m:\n\u001b[1;32m      7\u001b[0m     \u001b[38;5;28mprint\u001b[39m(\u001b[38;5;124m\"\u001b[39m\u001b[38;5;124mThis code will run no matter what\u001b[39m\u001b[38;5;124m\"\u001b[39m)\n",
      "\u001b[0;31mNameError\u001b[0m: name 'unknown_variable' is not defined"
     ]
    }
   ],
   "source": [
    "try:\n",
    "    print(1)\n",
    "    print(10 / 0)\n",
    "except ZeroDivisionError:\n",
    "    print(unknown_variable)\n",
    "finally:\n",
    "    print(\"This code will run no matter what\")"
   ]
  },
  {
   "cell_type": "markdown",
   "metadata": {},
   "source": [
    "**Exercise 07.02**: Write a program accepts two integers as input (say $a$  and $b$) and prints the value of $a - b$, $a + b$, $a \\div b$, and $a \\times b$ in that order, on separate lines. **You must validate the input**.\n",
    "- Output `Division By Zero` if $a \\div b$ raises an error.\n",
    "\n",
    "*Sample input*:\n",
    "```\n",
    "# First set of input\n",
    "Test1\n",
    "Test2\n",
    "\n",
    "# Second set of input\n",
    "Test1\n",
    "2\n",
    "\n",
    "# Second set of input\n",
    "5\n",
    "Test2\n",
    "\n",
    "# Final set of input\n",
    "12\n",
    "0\n",
    "```\n",
    "\n",
    "*Sample output*:\n",
    "```\n",
    "Invalid input\n",
    "Invalid input\n",
    "Invalid input\n",
    "12\n",
    "12\n",
    "Division By Zero\n",
    "0\n",
    "```"
   ]
  },
  {
   "cell_type": "code",
   "execution_count": 11,
   "metadata": {},
   "outputs": [
    {
     "name": "stdin",
     "output_type": "stream",
     "text": [
      "Enter the first integer:  Test1\n",
      "Enter the second integer:  Test2\n"
     ]
    },
    {
     "name": "stdout",
     "output_type": "stream",
     "text": [
      "Invalid input\n"
     ]
    },
    {
     "name": "stdin",
     "output_type": "stream",
     "text": [
      "Enter the first integer:  Test1\n",
      "Enter the second integer:  2\n"
     ]
    },
    {
     "name": "stdout",
     "output_type": "stream",
     "text": [
      "Invalid input\n"
     ]
    },
    {
     "name": "stdin",
     "output_type": "stream",
     "text": [
      "Enter the first integer:  5\n",
      "Enter the second integer:  Test2\n"
     ]
    },
    {
     "name": "stdout",
     "output_type": "stream",
     "text": [
      "Invalid input\n"
     ]
    },
    {
     "name": "stdin",
     "output_type": "stream",
     "text": [
      "Enter the first integer:  12\n",
      "Enter the second integer:  0\n"
     ]
    },
    {
     "name": "stdout",
     "output_type": "stream",
     "text": [
      "12\n",
      "12\n",
      "Division By Zero\n",
      "0\n"
     ]
    }
   ],
   "source": [
    "# Handle input\n",
    "while True:\n",
    "    # Read in the integers FIRST\n",
    "    a = input(\"Enter the first integer: \")\n",
    "    b = input(\"Enter the second integer: \")\n",
    "    \n",
    "    # Try-except block to catch any invalid integers\n",
    "    try:\n",
    "        a = int(a)\n",
    "        b = int(b)\n",
    "\n",
    "        break  # If reached here the input is OK\n",
    "    \n",
    "    except ValueError:  # Catch any input that is not an integer\n",
    "        print(\"Invalid input\")\n",
    "\n",
    "# Print difference and sum\n",
    "print(a - b)\n",
    "print(a + b)\n",
    "\n",
    "# Now carefully perform division\n",
    "try:\n",
    "    print(a / b)\n",
    "except ZeroDivisionError:\n",
    "    print(\"Division By Zero\")\n",
    "finally:\n",
    "    # Perform multiplication\n",
    "    print(a * b)"
   ]
  },
  {
   "cell_type": "markdown",
   "metadata": {},
   "source": [
    "## Assertions and Raising Exceptions"
   ]
  },
  {
   "cell_type": "markdown",
   "metadata": {},
   "source": [
    "An assertion is a sanity-check that you can turn on or turn off when you have finished testing the program.\n",
    "\n",
    "An expression is tested, and if the result comes up `False`, an exception is raised.\n",
    "\n",
    "Assertions are carried out through use of the `assert` statement."
   ]
  },
  {
   "cell_type": "code",
   "execution_count": 12,
   "metadata": {},
   "outputs": [
    {
     "name": "stdout",
     "output_type": "stream",
     "text": [
      "1\n",
      "2\n",
      "3\n"
     ]
    }
   ],
   "source": [
    "# Change the values of these variables and see what happens\n",
    "var1 = 1\n",
    "var2 = 2\n",
    "\n",
    "# Main code\n",
    "print(1)\n",
    "assert var1 == 1\n",
    "print(2)\n",
    "assert var2 == 2, \"Variable 2 is not 2\"\n",
    "print(3)"
   ]
  },
  {
   "cell_type": "markdown",
   "metadata": {},
   "source": [
    "You can raise exceptions by using the `raise` statement. Note that you will need to specify the **type** of the exception raised.\n",
    "\n",
    "Exceptions can also be raised with arguments that give detail about them."
   ]
  },
  {
   "cell_type": "code",
   "execution_count": 13,
   "metadata": {},
   "outputs": [
    {
     "name": "stdout",
     "output_type": "stream",
     "text": [
      "1\n",
      "2\n",
      "3\n"
     ]
    }
   ],
   "source": [
    "print(1)\n",
    "# raise ValueError  # Uncomment this line to raise a `ValueError`\n",
    "print(2)\n",
    "# raise TypeError(\"Incorrect type\")  # Uncomment this line to raise a `TypeError`\n",
    "print(3)"
   ]
  },
  {
   "cell_type": "markdown",
   "metadata": {},
   "source": [
    "**Discussion 07.03**: What will be the final output of this program?\n",
    "```python\n",
    "try:\n",
    "    print(\"Hello\")\n",
    "    print(1 / 0)\n",
    "    print(\"World\")\n",
    "except ZeroDivisionError:\n",
    "    print(\"There\")\n",
    "    raise ValueError(\"People\")\n",
    "    print(\":)\")\n",
    "finally:\n",
    "    print(\"Goodbye\")\n",
    "```"
   ]
  },
  {
   "cell_type": "code",
   "execution_count": 14,
   "metadata": {},
   "outputs": [
    {
     "name": "stdout",
     "output_type": "stream",
     "text": [
      "Hello\n",
      "There\n",
      "Goodbye\n"
     ]
    },
    {
     "ename": "ValueError",
     "evalue": "People",
     "output_type": "error",
     "traceback": [
      "\u001b[0;31m---------------------------------------------------------------------------\u001b[0m",
      "\u001b[0;31mZeroDivisionError\u001b[0m                         Traceback (most recent call last)",
      "Cell \u001b[0;32mIn[14], line 3\u001b[0m\n\u001b[1;32m      2\u001b[0m \u001b[38;5;28mprint\u001b[39m(\u001b[38;5;124m\"\u001b[39m\u001b[38;5;124mHello\u001b[39m\u001b[38;5;124m\"\u001b[39m)\n\u001b[0;32m----> 3\u001b[0m \u001b[38;5;28mprint\u001b[39m(\u001b[38;5;241;43m1\u001b[39;49m\u001b[43m \u001b[49m\u001b[38;5;241;43m/\u001b[39;49m\u001b[43m \u001b[49m\u001b[38;5;241;43m0\u001b[39;49m)\n\u001b[1;32m      4\u001b[0m \u001b[38;5;28mprint\u001b[39m(\u001b[38;5;124m\"\u001b[39m\u001b[38;5;124mWorld\u001b[39m\u001b[38;5;124m\"\u001b[39m)\n",
      "\u001b[0;31mZeroDivisionError\u001b[0m: division by zero",
      "\nDuring handling of the above exception, another exception occurred:\n",
      "\u001b[0;31mValueError\u001b[0m                                Traceback (most recent call last)",
      "Cell \u001b[0;32mIn[14], line 7\u001b[0m\n\u001b[1;32m      5\u001b[0m \u001b[38;5;28;01mexcept\u001b[39;00m \u001b[38;5;167;01mZeroDivisionError\u001b[39;00m:\n\u001b[1;32m      6\u001b[0m     \u001b[38;5;28mprint\u001b[39m(\u001b[38;5;124m\"\u001b[39m\u001b[38;5;124mThere\u001b[39m\u001b[38;5;124m\"\u001b[39m)\n\u001b[0;32m----> 7\u001b[0m     \u001b[38;5;28;01mraise\u001b[39;00m \u001b[38;5;167;01mValueError\u001b[39;00m(\u001b[38;5;124m\"\u001b[39m\u001b[38;5;124mPeople\u001b[39m\u001b[38;5;124m\"\u001b[39m)  \u001b[38;5;66;03m# The string \"People\" will be shown in the error message\u001b[39;00m\n\u001b[1;32m      8\u001b[0m     \u001b[38;5;28mprint\u001b[39m(\u001b[38;5;124m\"\u001b[39m\u001b[38;5;124m:)\u001b[39m\u001b[38;5;124m\"\u001b[39m)  \u001b[38;5;66;03m# This will not be output if there was a `ValueError`\u001b[39;00m\n\u001b[1;32m      9\u001b[0m \u001b[38;5;28;01mfinally\u001b[39;00m:\n",
      "\u001b[0;31mValueError\u001b[0m: People"
     ]
    }
   ],
   "source": [
    "try:\n",
    "    print(\"Hello\")\n",
    "    print(1 / 0)\n",
    "    print(\"World\")\n",
    "except ZeroDivisionError:\n",
    "    print(\"There\")\n",
    "    raise ValueError(\"People\")  # The string \"People\" will be shown in the error message\n",
    "    print(\":)\")  # This will not be output if there was a `ValueError`\n",
    "finally:\n",
    "    print(\"Goodbye\")"
   ]
  },
  {
   "cell_type": "markdown",
   "metadata": {},
   "source": [
    "In `except` blocks, the `raise` statement can be used without arguments to re-raise whatever exception occurred."
   ]
  },
  {
   "cell_type": "code",
   "execution_count": 15,
   "metadata": {},
   "outputs": [
    {
     "name": "stdout",
     "output_type": "stream",
     "text": [
      "An error occurred:\n"
     ]
    },
    {
     "ename": "ZeroDivisionError",
     "evalue": "division by zero",
     "output_type": "error",
     "traceback": [
      "\u001b[0;31m---------------------------------------------------------------------------\u001b[0m",
      "\u001b[0;31mZeroDivisionError\u001b[0m                         Traceback (most recent call last)",
      "Cell \u001b[0;32mIn[15], line 2\u001b[0m\n\u001b[1;32m      1\u001b[0m \u001b[38;5;28;01mtry\u001b[39;00m:\n\u001b[0;32m----> 2\u001b[0m     \u001b[38;5;28mprint\u001b[39m(\u001b[38;5;241;43m1\u001b[39;49m\u001b[43m \u001b[49m\u001b[38;5;241;43m/\u001b[39;49m\u001b[43m \u001b[49m\u001b[38;5;241;43m0\u001b[39;49m)\n\u001b[1;32m      3\u001b[0m \u001b[38;5;28;01mexcept\u001b[39;00m:\n\u001b[1;32m      4\u001b[0m     \u001b[38;5;28mprint\u001b[39m(\u001b[38;5;124m\"\u001b[39m\u001b[38;5;124mAn error occurred:\u001b[39m\u001b[38;5;124m\"\u001b[39m)\n",
      "\u001b[0;31mZeroDivisionError\u001b[0m: division by zero"
     ]
    }
   ],
   "source": [
    "try:\n",
    "    print(1 / 0)\n",
    "except:\n",
    "    print(\"An error occurred:\")\n",
    "    # raise  # Uncomment this line to see the error"
   ]
  },
  {
   "cell_type": "markdown",
   "metadata": {},
   "source": [
    "**Exercise 07.03**: Write a function that has the following function signature.\n",
    "> `check_age(age)`: Checks the string `age` and returns `True` if it is valid. If `age` cannot be converted to an integer, raise a `TypeError`; if `age` is not between 0 and 200 inclusive, raise an `AssertionError`; otherwise return `True`.\n",
    "\n",
    "Test your function by printing the output to the following function calls.\n",
    "- `check_age(\"123\")`\n",
    "- `check_age(\"one hundred\")`\n",
    "- `check_age(\"-1\")`"
   ]
  },
  {
   "cell_type": "code",
   "execution_count": 16,
   "metadata": {},
   "outputs": [
    {
     "name": "stdout",
     "output_type": "stream",
     "text": [
      "True\n"
     ]
    }
   ],
   "source": [
    "# Function\n",
    "def check_age(age):\n",
    "    # If `age` is not an integer, raise a `TypeError`\n",
    "    try:\n",
    "        age = int(age)\n",
    "    except ValueError:  # Note that failure to convert results in a `ValueError`, not a `TypeError`\n",
    "        raise TypeError(\"`age` is not an integer\")\n",
    "    \n",
    "    # Check if age is between 0 and 200 inclusive\n",
    "    assert 0 <= age <= 200, \"`age` not between 0 and 200 inclusive\"\n",
    "    \n",
    "    # Otherwise return `True`\n",
    "    return True\n",
    "\n",
    "\n",
    "# Test with function calls\n",
    "print(check_age(\"123\"))\n",
    "# print(check_age(\"one hundred\"))  # Will raise `TypeError`\n",
    "# print(check_age(\"-1\"))  # Will raise `AssertionError`"
   ]
  },
  {
   "cell_type": "markdown",
   "metadata": {},
   "source": [
    "## Files"
   ]
  },
  {
   "cell_type": "markdown",
   "metadata": {},
   "source": [
    "### Opening Files"
   ]
  },
  {
   "cell_type": "markdown",
   "metadata": {},
   "source": [
    "You can use Python to read and write the contents of files.\n",
    "\n",
    "Text files are the easiest to manipulate. Before a file can be edited, it must be opened, using the `open` function.\n",
    "```python\n",
    "myfile = open(\"alice.txt\")\n",
    "```\n",
    "The argument of the `open` function is the path to the file. If the file is in the current working directory of the program, you can specify only its name.\n",
    "\n",
    "You can specify the mode used to open a file by applying a second argument to the `open` function.\n",
    "- Sending `r` means open in **read** mode, which is the default.\n",
    "- Sending `w` means **write** mode, for rewriting the contents of a file.\n",
    "- Sending `a` means **append** mode, for adding new content to the end of the file.\n",
    "\n",
    "Adding `b` to a mode opens it in **binary** mode, which is used for non-text files (such as image and sound files).\n",
    "```python\n",
    "# Write mode\n",
    "open(\"filename.txt\", \"w\")\n",
    "\n",
    "# Read mode\n",
    "open(\"filename.txt\", \"r\")\n",
    "open(\"filename.txt\"\n",
    "\n",
    "# Append mode\n",
    "open(\"filename.txt\", \"a\")\n",
    "\n",
    "# Binary write mode\n",
    "open(\"filename.txt\", \"wb\")\n",
    "```\n",
    "You can use the `+` sign with each of the modes above to give them extra access to files. For example, `r+` opens the file for **both reading and writing**.\n",
    "\n",
    "Once a file has been opened and used, **you should close it**. This is done with the `close` method of the file object.\n",
    "```python\n",
    "myFile = open(\"filename.txt\", \"w\")\n",
    "# Do stuff to the file\n",
    "myFile.close()\n",
    "```"
   ]
  },
  {
   "cell_type": "markdown",
   "metadata": {},
   "source": [
    "### Reading From Files\n",
    "The contents of a file that has been opened in text mode can be read using the `read` method."
   ]
  },
  {
   "cell_type": "code",
   "execution_count": 17,
   "metadata": {},
   "outputs": [
    {
     "name": "stdout",
     "output_type": "stream",
     "text": [
      "Alice was beginning to get very tired of sitting by her sister on the bank, and of having nothing to do: once or twice she had peeped into the book her sister was reading, but it had no pictures or conversations in it, “and what is the use of a book,” thought Alice “without pictures or conversations?”\n",
      "\n",
      "So she was considering in her own mind (as well as she could, for the hot day made her feel very sleepy and stupid), whether the pleasure of making a daisy-chain would be worth the trouble of getting up and picking the daisies, when suddenly a White Rabbit with pink eyes ran close by her.\n",
      "\n"
     ]
    }
   ],
   "source": [
    "myFile = open(\"alice-shorter.txt\", \"r\")\n",
    "fileContent = myFile.read()  # Read all the text inside `myFile`\n",
    "myFile.close()  # Remember to always close the file\n",
    "\n",
    "# We can now do things with `fileContent`\n",
    "print(fileContent)"
   ]
  },
  {
   "cell_type": "markdown",
   "metadata": {},
   "source": [
    "To read only a certain amount of a file, you can provide a number as an argument to the `read` function. This determines the **number of bytes that should be read**.\n",
    "\n",
    "You can make more calls to `read` on the same file object to read more of the file byte by byte. However, note that **each subsequent `read` call begins where the previous `read` call ended**.\n",
    "\n",
    "With no argument, `read` returns the rest of the file."
   ]
  },
  {
   "cell_type": "code",
   "execution_count": 18,
   "metadata": {},
   "outputs": [
    {
     "name": "stdout",
     "output_type": "stream",
     "text": [
      "Alice was beginning to get very tired of sitting b\n",
      "y\n",
      " her siste\n",
      "r on the b\n",
      "ank, and o\n",
      "f having n\n",
      "othing to \n"
     ]
    }
   ],
   "source": [
    "myFile = open(\"alice-shorter.txt\", \"r\")\n",
    "\n",
    "# Example calls of `read`\n",
    "print(myFile.read(50))  # Read 50 bytes\n",
    "print(myFile.read(1))   # Read 1 byte\n",
    "\n",
    "# Each subsequent read call begins where the previous read call ended\n",
    "print(myFile.read(10))\n",
    "print(myFile.read(10))\n",
    "print(myFile.read(10))\n",
    "print(myFile.read(10))\n",
    "print(myFile.read(10))\n",
    "\n",
    "# Remember to close the file\n",
    "myFile.close()"
   ]
  },
  {
   "cell_type": "markdown",
   "metadata": {},
   "source": [
    "Just like passing no arguments, negative values will return the entire content of the file."
   ]
  },
  {
   "cell_type": "markdown",
   "metadata": {},
   "source": [
    "After all contents in a file have been read, any attempts to read further from that file will return an empty string, because you are trying to read from the end of the file."
   ]
  },
  {
   "cell_type": "code",
   "execution_count": 19,
   "metadata": {},
   "outputs": [
    {
     "name": "stdout",
     "output_type": "stream",
     "text": [
      "--------------------------------------------------\n",
      "Alice was beginning to get very tired of sitting by her sister on the bank, and of having nothing to do: once or twice she had peeped into the book her sister was reading, but it had no pictures or conversations in it, “and what is the use of a book,” thought Alice “without pictures or conversations?”\n",
      "\n",
      "So she was considering in her own mind (as well as she could, for the hot day made her feel very sleepy and stupid), whether the pleasure of making a daisy-chain would be worth the trouble of getting up and picking the daisies, when suddenly a White Rabbit with pink eyes ran close by her.\n",
      "\n",
      "--------------------------------------------------\n",
      "\n"
     ]
    }
   ],
   "source": [
    "myFile = open(\"alice-shorter.txt\", \"r\")\n",
    "\n",
    "# Read entire contents\n",
    "print(\"-\" * 50)\n",
    "print(myFile.read())\n",
    "\n",
    "# Try to continue reading\n",
    "print(\"-\" * 50)\n",
    "print(myFile.read())  # Prints nothing\n",
    "\n",
    "# Remember to close the file\n",
    "myFile.close()"
   ]
  },
  {
   "cell_type": "markdown",
   "metadata": {},
   "source": [
    "To retrieve each line in a file, you can use the `readlines` method to return a **list** in which each element is a line in the file."
   ]
  },
  {
   "cell_type": "code",
   "execution_count": 20,
   "metadata": {},
   "outputs": [
    {
     "name": "stdout",
     "output_type": "stream",
     "text": [
      "['Alice was beginning to get very tired of sitting by her sister on the bank, and of having nothing to do: once or twice she had peeped into the book her sister was reading, but it had no pictures or conversations in it, “and what is the use of a book,” thought Alice “without pictures or conversations?”\\n', '\\n', 'So she was considering in her own mind (as well as she could, for the hot day made her feel very sleepy and stupid), whether the pleasure of making a daisy-chain would be worth the trouble of getting up and picking the daisies, when suddenly a White Rabbit with pink eyes ran close by her.\\n']\n"
     ]
    }
   ],
   "source": [
    "myFile = open(\"alice-shorter.txt\", \"r\")\n",
    "print(myFile.readlines())\n",
    "myFile.close()  # Remember to close the file"
   ]
  },
  {
   "cell_type": "markdown",
   "metadata": {},
   "source": [
    "You can also use a `for` loop to iterate through the lines in the file."
   ]
  },
  {
   "cell_type": "code",
   "execution_count": 21,
   "metadata": {},
   "outputs": [
    {
     "name": "stdout",
     "output_type": "stream",
     "text": [
      "Start Line Alice was beginning to get very tired of sitting by her sister on the bank, and of having nothing to do: once or twice she had peeped into the book her sister was reading, but it had no pictures or conversations in it, “and what is the use of a book,” thought Alice “without pictures or conversations?”\n",
      " End Line\n",
      "Start Line \n",
      " End Line\n",
      "Start Line So she was considering in her own mind (as well as she could, for the hot day made her feel very sleepy and stupid), whether the pleasure of making a daisy-chain would be worth the trouble of getting up and picking the daisies, when suddenly a White Rabbit with pink eyes ran close by her.\n",
      " End Line\n"
     ]
    }
   ],
   "source": [
    "myFile = open(\"alice-shorter.txt\", \"r\")\n",
    "\n",
    "for line in myFile:\n",
    "    print(f\"Start Line {line} End Line\")\n",
    "\n",
    "myFile.close()  # Remember to close the file"
   ]
  },
  {
   "cell_type": "markdown",
   "metadata": {},
   "source": [
    "**Discussion 07.04**: If the file `alice.txt` has 47 lines of text, what will the following code output?\n",
    "```python\n",
    "myFile = open(\"alice.txt\")\n",
    "print(len(myFile.readlines()))\n",
    "myFile.close()\n",
    "```\n",
    "Predict the output before trying it out below.\n"
   ]
  },
  {
   "cell_type": "code",
   "execution_count": 22,
   "metadata": {},
   "outputs": [
    {
     "name": "stdout",
     "output_type": "stream",
     "text": [
      "47\n"
     ]
    }
   ],
   "source": [
    "myFile = open(\"alice.txt\")\n",
    "print(len(myFile.readlines()))  # 47 since there are 47 lines\n",
    "myFile.close()"
   ]
  },
  {
   "cell_type": "markdown",
   "metadata": {},
   "source": [
    "**Exercise 07.04**: Write a program that prints the **35<sup>th</sup>** line in the text file `alice.txt`.\n",
    "\n",
    "*Note: remember to close the text file!*"
   ]
  },
  {
   "cell_type": "code",
   "execution_count": 23,
   "metadata": {},
   "outputs": [
    {
     "name": "stdout",
     "output_type": "stream",
     "text": [
      "“What a curious feeling!” said Alice; “I must be shutting up like a telescope.”\n",
      "\n"
     ]
    }
   ],
   "source": [
    "myFile = open(\"alice.txt\")\n",
    "print(myFile.readlines()[34])  # Remember that lists use 0-based indexing\n",
    "myFile.close()"
   ]
  },
  {
   "cell_type": "markdown",
   "metadata": {},
   "source": [
    "### Writing to Files\n",
    "To write to files you use the `write` method, which writes a **string** to the file."
   ]
  },
  {
   "cell_type": "code",
   "execution_count": 24,
   "metadata": {},
   "outputs": [
    {
     "name": "stdout",
     "output_type": "stream",
     "text": [
      "Here's some text in the file.\n",
      "\n"
     ]
    }
   ],
   "source": [
    "# Writing to file\n",
    "myFile = open(\"my-file.txt\", \"w\")  # Note that if \"my-file.txt\" does not exist yet, this CREATES that file\n",
    "myFile.write(\"Here's some text in the file.\\n\")  # We need to specify the newline character when writing\n",
    "myFile.close()  # Remember to close the file\n",
    "\n",
    "# Let's read from that file\n",
    "myFile = open(\"my-file.txt\", \"r\")  # The mode is now reading\n",
    "print(myFile.read())\n",
    "myFile.close()"
   ]
  },
  {
   "cell_type": "markdown",
   "metadata": {},
   "source": [
    "When a file is opened in write mode, ***the file's existing content is deleted***."
   ]
  },
  {
   "cell_type": "code",
   "execution_count": 25,
   "metadata": {},
   "outputs": [
    {
     "name": "stdout",
     "output_type": "stream",
     "text": [
      "New content\n",
      "\n"
     ]
    }
   ],
   "source": [
    "myFile = open(\"my-file.txt\", \"w\")\n",
    "myFile.write(\"Initial content\\n\")\n",
    "myFile.close()  # Remember to close the file\n",
    "\n",
    "myFile = open(\"my-file.txt\", \"w\")  # Once this line is run, Python clears the existing content in the file\n",
    "myFile.write(\"New content\\n\")\n",
    "myFile.close()  # Remember to close the file\n",
    "\n",
    "# Let's read from that file\n",
    "myFile = open(\"my-file.txt\", \"r\")  # The mode is now reading\n",
    "print(myFile.read())\n",
    "myFile.close()"
   ]
  },
  {
   "cell_type": "markdown",
   "metadata": {},
   "source": [
    "If the file is successfully written to, the `write` method returns the **number of bytes written to a file**."
   ]
  },
  {
   "cell_type": "code",
   "execution_count": 26,
   "metadata": {},
   "outputs": [
    {
     "name": "stdout",
     "output_type": "stream",
     "text": [
      "12\n"
     ]
    }
   ],
   "source": [
    "message = \"Hello world!\"\n",
    "\n",
    "myFile = open(\"my-file.txt\", \"w\")\n",
    "numBytesWritten = myFile.write(message)\n",
    "myFile.close()  # Remember to close the file\n",
    "\n",
    "print(numBytesWritten)"
   ]
  },
  {
   "cell_type": "markdown",
   "metadata": {},
   "source": [
    "To write something other than a string, it needs to be converted to a string first."
   ]
  },
  {
   "cell_type": "code",
   "execution_count": 27,
   "metadata": {},
   "outputs": [
    {
     "name": "stdout",
     "output_type": "stream",
     "text": [
      "[1, 2, 3, 4, 5, 6, 7, 8, 9, 10]\n"
     ]
    }
   ],
   "source": [
    "myList = [1, 2, 3, 4, 5, 6, 7, 8, 9, 10]  # Here's a list\n",
    "\n",
    "myFile = open(\"my-file.txt\", \"w\")\n",
    "numBytesWritten = myFile.write(str(myList))  # Needs to be converted to string first\n",
    "myFile.close()  # Remember to close the file\n",
    "\n",
    "# Let's read from that file\n",
    "myFile = open(\"my-file.txt\", \"r\")\n",
    "print(myFile.read())\n",
    "myFile.close()"
   ]
  },
  {
   "cell_type": "markdown",
   "metadata": {},
   "source": [
    "**Exercise 07.05**: Write a program that copies the first **<u>2378</u> bytes** from `alice.txt` into a new text file named `alice-excerpt.txt`.\n",
    "\n",
    "*Note: remember to close the text files!*"
   ]
  },
  {
   "cell_type": "code",
   "execution_count": 28,
   "metadata": {},
   "outputs": [],
   "source": [
    "# Open both files\n",
    "aliceFile = open(\"alice.txt\", \"r\")\n",
    "excerptFile = open(\"alice-excerpt.txt\", \"w\")\n",
    "\n",
    "# Read first 2378 bytes from \"alice.txt\"\n",
    "content = aliceFile.read(2378)\n",
    "\n",
    "# Write that content to the `excerptFile`\n",
    "excerptFile.write(content)\n",
    "\n",
    "# Close both files\n",
    "aliceFile.close()\n",
    "excerptFile.close()"
   ]
  },
  {
   "cell_type": "markdown",
   "metadata": {},
   "source": [
    "### Working With Files"
   ]
  },
  {
   "cell_type": "markdown",
   "metadata": {},
   "source": [
    "It is good practice to avoid wasting resources by making sure that **files are always closed after they have been used**. One way of doing this is to use `try` and `finally` to ensure that the file is always closed at the end of a program."
   ]
  },
  {
   "cell_type": "code",
   "execution_count": 29,
   "metadata": {},
   "outputs": [
    {
     "name": "stdout",
     "output_type": "stream",
     "text": [
      "Alice was beginning to get very tired of sitting by her sister on the bank, and of having nothing to do: once or twice she had peeped into the book her sister was reading, but it had no pictures or conversations in it, “and what is the use of a book,” thought Alice “without pictures or conversations?”\n",
      "\n",
      "So she was considering in her own mind (as well as she could, for the hot day made her feel very sleepy and stupid), whether the pleasure of making a daisy-chain would be worth the trouble of getting up and picking the daisies, when suddenly a White Rabbit with pink eyes ran close by her.\n",
      "\n"
     ]
    }
   ],
   "source": [
    "try:\n",
    "    f = open(\"alice.txt\", \"r\")\n",
    "    print(f.read(594))  # 594 bytes into \"alice.txt\" is the first 2 lines\n",
    "finally:\n",
    "    f.close()  # This will ALWAYS be run"
   ]
  },
  {
   "cell_type": "markdown",
   "metadata": {},
   "source": [
    "An alternative way of doing this is using `with` statements. This creates a temporary variable (often called `f`), which is **only accessible in the indented block of the `with` statement**.\n",
    "\n",
    "The file is automatically closed at the end of the `with` block, even if exceptions occur within it."
   ]
  },
  {
   "cell_type": "code",
   "execution_count": 30,
   "metadata": {},
   "outputs": [
    {
     "name": "stdout",
     "output_type": "stream",
     "text": [
      "Alice was beginning to get very tired of sitting by her sister on the bank, and of having nothing to do: once or twice she had peeped into the book her sister was reading, but it had no pictures or conversations in it, “and what is the use of a book,” thought Alice “without pictures or conversations?”\n",
      "\n",
      "So she was considering in her own mind (as well as she could, for the hot day made her feel very sleepy and stupid), whether the pleasure of making a daisy-chain would be worth the trouble of getting up and picking the daisies, when suddenly a White Rabbit with pink eyes ran close by her.\n",
      "\n"
     ]
    }
   ],
   "source": [
    "with open(\"alice.txt\", \"r\") as f:\n",
    "    print(f.read(594))"
   ]
  },
  {
   "cell_type": "markdown",
   "metadata": {},
   "source": [
    "**Exercise 07.06**: Improve upon your solution in **Exercise 07.05** by using `with` blocks to handle file reading and writing."
   ]
  },
  {
   "cell_type": "code",
   "execution_count": 31,
   "metadata": {},
   "outputs": [],
   "source": [
    "with open(\"alice.txt\", \"r\") as f:\n",
    "    content = f.read(2378)\n",
    "\n",
    "with open(\"alice-excerpt.txt\", \"w\") as f:\n",
    "    f.write(content)"
   ]
  },
  {
   "cell_type": "markdown",
   "metadata": {},
   "source": [
    "## Assignment 07\n",
    "Some programs allow their users to input the path to a file and read from it.\n",
    "\n",
    "### Task\n",
    "Write a program that:\n",
    "- Accepts user input of a file name.\n",
    "- Reads **all** the content from that file and prints it to the screen.\n",
    "- Terminates the program once that is done.\n",
    "\n",
    "Note that **you should validate the user's input**. An appropriate error message should be output if the **file name is not valid** (that is, the file does not exist).\n",
    "- Note: attempting to read a non-existant file raises a `FileNotFoundError`.\n",
    "- If the file name is invalid, ask the user to input another file name.\n",
    "\n",
    "*Note: remember to close any files that are open!*"
   ]
  },
  {
   "cell_type": "code",
   "execution_count": 32,
   "metadata": {},
   "outputs": [
    {
     "name": "stdin",
     "output_type": "stream",
     "text": [
      "Enter the file to read:  nonexistent_file.txt\n"
     ]
    },
    {
     "name": "stdout",
     "output_type": "stream",
     "text": [
      "File not found; try another file\n"
     ]
    },
    {
     "name": "stdin",
     "output_type": "stream",
     "text": [
      "Enter the file to read:  what_about_this_file.txt\n"
     ]
    },
    {
     "name": "stdout",
     "output_type": "stream",
     "text": [
      "File not found; try another file\n"
     ]
    },
    {
     "name": "stdin",
     "output_type": "stream",
     "text": [
      "Enter the file to read:  alice-shorter.txt\n"
     ]
    },
    {
     "name": "stdout",
     "output_type": "stream",
     "text": [
      "Alice was beginning to get very tired of sitting by her sister on the bank, and of having nothing to do: once or twice she had peeped into the book her sister was reading, but it had no pictures or conversations in it, “and what is the use of a book,” thought Alice “without pictures or conversations?”\n",
      "\n",
      "So she was considering in her own mind (as well as she could, for the hot day made her feel very sleepy and stupid), whether the pleasure of making a daisy-chain would be worth the trouble of getting up and picking the daisies, when suddenly a White Rabbit with pink eyes ran close by her.\n",
      "\n"
     ]
    }
   ],
   "source": [
    "while True:\n",
    "    # Get file name\n",
    "    filename = input(\"Enter the file to read: \")\n",
    "    \n",
    "    # Try and read from it\n",
    "    try:\n",
    "        with open(filename, \"r\") as f:\n",
    "            print(f.read())\n",
    "        \n",
    "        # We're done\n",
    "        break\n",
    "    except FileNotFoundError:\n",
    "        print(\"File not found; try another file\")"
   ]
  }
 ],
 "metadata": {
  "kernelspec": {
   "display_name": "Python 3 (ipykernel)",
   "language": "python",
   "name": "python3"
  },
  "language_info": {
   "codemirror_mode": {
    "name": "ipython",
    "version": 3
   },
   "file_extension": ".py",
   "mimetype": "text/x-python",
   "name": "python",
   "nbconvert_exporter": "python",
   "pygments_lexer": "ipython3",
   "version": "3.10.8"
  }
 },
 "nbformat": 4,
 "nbformat_minor": 4
}
