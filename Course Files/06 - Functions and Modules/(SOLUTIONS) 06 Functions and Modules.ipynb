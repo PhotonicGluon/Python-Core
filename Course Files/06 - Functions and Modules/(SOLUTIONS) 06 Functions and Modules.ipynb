{
 "cells": [
  {
   "cell_type": "markdown",
   "metadata": {},
   "source": [
    "# 06 - Functions and Modules (SOLUTIONS)"
   ]
  },
  {
   "cell_type": "markdown",
   "metadata": {},
   "source": [
    "## Code Reuse"
   ]
  },
  {
   "cell_type": "markdown",
   "metadata": {},
   "source": [
    "**Code reuse** is a very important part of programming in any language. Increasing code size makes it harder to maintain. \n",
    "\n",
    "For a large programming project to be successful, it is essential to abide by the **Don't Repeat Yourself**, or **DRY**, principle. Bad, repetitive code is said to abide by the **WET** principle, which stands for **Write Everything Twice**, or **We Enjoy Typing**. We've already looked at one way of doing this: by using loops. In this module, we will explore two more: functions and modules."
   ]
  },
  {
   "cell_type": "markdown",
   "metadata": {},
   "source": [
    "You've already used functions in previous lessons. \n",
    "Any statement that consists of a **word followed by information in parentheses** is a **<u>function call</u>**.\n",
    "\n",
    "Here are some examples that you've already seen:"
   ]
  },
  {
   "cell_type": "code",
   "execution_count": 1,
   "metadata": {},
   "outputs": [
    {
     "name": "stdout",
     "output_type": "stream",
     "text": [
      "I'm a function!\n"
     ]
    },
    {
     "data": {
      "text/plain": [
       "'32'"
      ]
     },
     "execution_count": 1,
     "metadata": {},
     "output_type": "execute_result"
    }
   ],
   "source": [
    "print(\"I'm a function!\")\n",
    "range(2, 10)\n",
    "str(32)"
   ]
  },
  {
   "cell_type": "markdown",
   "metadata": {},
   "source": [
    "The words in front of the parentheses are **function names**, and the comma-separated values inside the parentheses are *function __arguments__*."
   ]
  },
  {
   "cell_type": "markdown",
   "metadata": {},
   "source": [
    "## Functions"
   ]
  },
  {
   "cell_type": "markdown",
   "metadata": {},
   "source": [
    "### Function Basics"
   ]
  },
  {
   "cell_type": "markdown",
   "metadata": {},
   "source": [
    "In addition to using pre-defined functions, you can create your own functions by using the `def` statement.\n",
    "Here is an example of a function named `my_func`. It takes **no arguments**, and prints `spam` three times. It is defined, and then called. **The statements in the function are executed only when the function is called**.\n",
    "\n",
    "It should be noted that the code block within every function **starts with a colon** (`:`) and **is indented**."
   ]
  },
  {
   "cell_type": "code",
   "execution_count": 2,
   "metadata": {},
   "outputs": [],
   "source": [
    "def my_func():  # Takes in no arguments\n",
    "    print(\"spam\")\n",
    "    print(\"spam\")\n",
    "    print(\"spam\")\n",
    "\n",
    "# At this point nothing should be output. This is because we have yet to call the function."
   ]
  },
  {
   "cell_type": "code",
   "execution_count": 3,
   "metadata": {},
   "outputs": [
    {
     "name": "stdout",
     "output_type": "stream",
     "text": [
      "spam\n",
      "spam\n",
      "spam\n"
     ]
    }
   ],
   "source": [
    "# Calling the function\n",
    "my_func()  # Since it takes no arguments, we pass in nothing"
   ]
  },
  {
   "cell_type": "markdown",
   "metadata": {},
   "source": [
    "**Exercise 06.01**: Define a function `hello` that prints `Hello!` to the screen. Then, call the function."
   ]
  },
  {
   "cell_type": "code",
   "execution_count": 4,
   "metadata": {},
   "outputs": [
    {
     "name": "stdout",
     "output_type": "stream",
     "text": [
      "Hello!\n"
     ]
    }
   ],
   "source": [
    "# Define the function\n",
    "def hello():\n",
    "    print(\"Hello!\")\n",
    "\n",
    "\n",
    "# Call the function\n",
    "hello()"
   ]
  },
  {
   "cell_type": "markdown",
   "metadata": {},
   "source": [
    "You must define functions before they are called, in the same way that you must assign variables before using them."
   ]
  },
  {
   "cell_type": "code",
   "execution_count": 5,
   "metadata": {},
   "outputs": [
    {
     "name": "stdout",
     "output_type": "stream",
     "text": [
      "spam\n",
      "spam\n",
      "spam\n"
     ]
    }
   ],
   "source": [
    "# my_func()  # Will result in an error\n",
    "\n",
    "def my_func():  # Takes in no arguments\n",
    "    print(\"spam\")\n",
    "    print(\"spam\")\n",
    "    print(\"spam\")\n",
    "\n",
    "my_func()  # Now that it is defined we can call it"
   ]
  },
  {
   "cell_type": "markdown",
   "metadata": {},
   "source": [
    "All the function definitions we've looked at so far have been functions of zero arguments, which are called with empty parentheses.\n",
    "\n",
    "However, most functions take arguments.\n",
    "The example below defines a function that accepts **one argument**."
   ]
  },
  {
   "cell_type": "code",
   "execution_count": 6,
   "metadata": {},
   "outputs": [
    {
     "name": "stdout",
     "output_type": "stream",
     "text": [
      "Hello, John!\n",
      "Hello, Bob!\n",
      "Hello, Alice!\n",
      "Hello, Jane!\n"
     ]
    }
   ],
   "source": [
    "def greet_user(name):\n",
    "    print(f\"Hello, {name}!\")\n",
    "\n",
    "greet_user(\"John\")\n",
    "greet_user(\"Bob\")\n",
    "greet_user(\"Alice\")\n",
    "greet_user(\"Jane\")"
   ]
  },
  {
   "cell_type": "markdown",
   "metadata": {},
   "source": [
    "As you can see, the argument is **defined inside the parentheses** of the function call. Technically, the name of `name` (that is, the thing inside the brackets in the function definition) is called a **parameter**."
   ]
  },
  {
   "cell_type": "markdown",
   "metadata": {},
   "source": [
    "You can also define functions with more than one **parameter** (that is, in their function calls, accept more than one **argument**); separate them with commas."
   ]
  },
  {
   "cell_type": "code",
   "execution_count": 7,
   "metadata": {},
   "outputs": [
    {
     "name": "stdout",
     "output_type": "stream",
     "text": [
      "8\n",
      "17\n"
     ]
    }
   ],
   "source": [
    "def print_sum(x, y):  # `x` and `y` are the PARAMETERS\n",
    "    print(x + y)\n",
    "\n",
    "print_sum(3, 5)  # 3 and 5 are the ARGUMENTS\n",
    "print_sum(8, 9)  # 8 and 9 are the ARGUMENTS"
   ]
  },
  {
   "cell_type": "markdown",
   "metadata": {},
   "source": [
    "**Exercise 06.02**: Create a function that prints the product of its two parameters. Test your function by providing the arguments `5` and `6` in its function call."
   ]
  },
  {
   "cell_type": "code",
   "execution_count": 8,
   "metadata": {},
   "outputs": [
    {
     "name": "stdout",
     "output_type": "stream",
     "text": [
      "30\n"
     ]
    }
   ],
   "source": [
    "def print_product(x, y):  # `x` and `y` are the PARAMETERS\n",
    "    print(x * y)\n",
    "\n",
    "\n",
    "print_product(5, 6)  # 5 and 6 are the ARGUMENTS"
   ]
  },
  {
   "cell_type": "markdown",
   "metadata": {},
   "source": [
    "Function parameters can be used as variables inside the function definition. However, they cannot be referenced outside of the function's definition. This also applies to other variables created inside a function."
   ]
  },
  {
   "cell_type": "code",
   "execution_count": 9,
   "metadata": {},
   "outputs": [
    {
     "name": "stdout",
     "output_type": "stream",
     "text": [
      "8\n"
     ]
    }
   ],
   "source": [
    "def add_one(variable):\n",
    "    variable += 1\n",
    "    print(variable)\n",
    "\n",
    "add_one(7)\n",
    "# print(variable)  # Cannot access variable outside function"
   ]
  },
  {
   "cell_type": "markdown",
   "metadata": {},
   "source": [
    "**Exercise 06.03**: Write a function that prints a <u>list</u> of multiples of 3 from 0 to `n` inclusive, which is the only parameter of the function. Test your function with a function call with the argument `12`."
   ]
  },
  {
   "cell_type": "code",
   "execution_count": 10,
   "metadata": {},
   "outputs": [
    {
     "name": "stdout",
     "output_type": "stream",
     "text": [
      "[0, 3, 6, 9, 12]\n"
     ]
    }
   ],
   "source": [
    "def multiples_of_3(n):\n",
    "    print([i for i in range(n + 1) if i % 3 == 0])  # Note that it is 0 to `n` INCLUSIVE\n",
    "\n",
    "\n",
    "multiples_of_3(12)"
   ]
  },
  {
   "cell_type": "markdown",
   "metadata": {},
   "source": [
    "### Returning from Functions"
   ]
  },
  {
   "cell_type": "markdown",
   "metadata": {},
   "source": [
    "Certain functions, such as `int` or `str`, return a value that can be used later. \n",
    "To do this for your defined functions, you can use the `return` statement."
   ]
  },
  {
   "cell_type": "code",
   "execution_count": 11,
   "metadata": {},
   "outputs": [
    {
     "name": "stdout",
     "output_type": "stream",
     "text": [
      "7\n",
      "9\n"
     ]
    }
   ],
   "source": [
    "def get_max(x, y):\n",
    "    if x >= y:\n",
    "        return x\n",
    "    else:\n",
    "        return y\n",
    "\n",
    "print(get_max(4, 7))  # We can now print this\n",
    "\n",
    "z = get_max(9, 8)  # We can also assign return value to variables\n",
    "print(z)"
   ]
  },
  {
   "cell_type": "markdown",
   "metadata": {},
   "source": [
    "Note:\n",
    "- The `return` statement cannot be used outside of a function definition.\n",
    "- A function that **does not have a `return` statement** returns `None`."
   ]
  },
  {
   "cell_type": "code",
   "execution_count": 12,
   "metadata": {},
   "outputs": [
    {
     "name": "stdout",
     "output_type": "stream",
     "text": [
      "This prints hello but does not return anything.\n",
      "None\n"
     ]
    }
   ],
   "source": [
    "def no_return_value(x):\n",
    "    print(f\"This prints {x} but does not return anything.\")\n",
    "\n",
    "print(no_return_value(\"hello\"))  # This has no return value, so returns `None`\n",
    "# return \"This is bad\"  # Can't use `return` outside a function"
   ]
  },
  {
   "cell_type": "markdown",
   "metadata": {},
   "source": [
    "Once you return a value from a function, it immediately stops being executed. Any code after the `return` statement will never happen."
   ]
  },
  {
   "cell_type": "code",
   "execution_count": 13,
   "metadata": {},
   "outputs": [
    {
     "name": "stdout",
     "output_type": "stream",
     "text": [
      "17\n"
     ]
    }
   ],
   "source": [
    "def get_sum(x, y):\n",
    "    return x + y\n",
    "    print(\"This statement will never get executed\")\n",
    "    print(\"Neither will this statement.\")\n",
    "\n",
    "print(get_sum(8, 9))"
   ]
  },
  {
   "cell_type": "markdown",
   "metadata": {},
   "source": [
    "**Exercise 06.04**: Create a function that <u>prints</u> the integers 0 to `n` inclusive (where `n` is the only parameter) and <u>returns</u> the highest multiple of 4 in the range 0 to `n` inclusive. Test your function with the function call with argument `16`."
   ]
  },
  {
   "cell_type": "code",
   "execution_count": 14,
   "metadata": {},
   "outputs": [
    {
     "name": "stdout",
     "output_type": "stream",
     "text": [
      "0\n",
      "1\n",
      "2\n",
      "3\n",
      "4\n",
      "5\n",
      "6\n",
      "7\n",
      "8\n",
      "9\n",
      "10\n",
      "11\n",
      "12\n",
      "13\n",
      "14\n",
      "15\n",
      "16\n",
      "16\n"
     ]
    }
   ],
   "source": [
    "def my_func(n):\n",
    "    # Prints the integers 0 to `n` inclusive\n",
    "    for i in range(n + 1):\n",
    "        print(i)\n",
    "        \n",
    "    # Returns the highest multiple of 4\n",
    "    # (We could technically have done this in the previous loop, but this makes the code more readable)\n",
    "    highest_multiple_of_4 = n\n",
    "    \n",
    "    while highest_multiple_of_4 % 4 != 0:\n",
    "        highest_multiple_of_4 -= 1  # Keep decreasing until we hit a multiple of 4\n",
    "        \n",
    "    return highest_multiple_of_4\n",
    "\n",
    "\n",
    "print(my_func(16))"
   ]
  },
  {
   "cell_type": "markdown",
   "metadata": {},
   "source": [
    "A function can *technically* return more than one value by using one `return` statement."
   ]
  },
  {
   "cell_type": "code",
   "execution_count": 15,
   "metadata": {},
   "outputs": [
    {
     "name": "stdout",
     "output_type": "stream",
     "text": [
      "9\n",
      "20\n",
      "(9, 20)\n"
     ]
    }
   ],
   "source": [
    "def get_sum_and_product(a, b):\n",
    "    return a + b, a * b  # Separate return values using a command\n",
    "\n",
    "mySum, myProduct = get_sum_and_product(4, 5)  # Access return values by using a comma between variable names\n",
    "print(mySum)\n",
    "print(myProduct)\n",
    "\n",
    "# What happens if we directly print out the return value?\n",
    "print(get_sum_and_product(4, 5))"
   ]
  },
  {
   "cell_type": "markdown",
   "metadata": {},
   "source": [
    "The reason why it is *technically* possible for functions to return more than one value is because **the multiple values are wrapped into a tuple**. This explains the final output of\n",
    "```\n",
    "(9, 20)\n",
    "```\n",
    "as the function really is returning a tuple."
   ]
  },
  {
   "cell_type": "markdown",
   "metadata": {},
   "source": [
    "On a related note, you can simultaneously assign multiple variables' values by using tuples."
   ]
  },
  {
   "cell_type": "code",
   "execution_count": 16,
   "metadata": {},
   "outputs": [
    {
     "name": "stdout",
     "output_type": "stream",
     "text": [
      "1\n",
      "2\n",
      "3\n"
     ]
    }
   ],
   "source": [
    "myTuple = (1, 2, 3)\n",
    "a, b, c = myTuple  # 'Expands' out the tuple into multiple variables\n",
    "\n",
    "print(a)\n",
    "print(b)\n",
    "print(c)"
   ]
  },
  {
   "cell_type": "markdown",
   "metadata": {},
   "source": [
    "**Exercise 06.05**: Create a function that takes two parameters `a` and `b` and returns the higher value of the two and the lower value of the two.\n",
    "- That is, the first return value should be the higher value and the second return value should be the lower value.\n",
    "\n",
    "Test your code with function calls containing the following arguments:\n",
    "- `5`, `6`\n",
    "- `6`, `5`\n",
    "- `7`, `7`"
   ]
  },
  {
   "cell_type": "code",
   "execution_count": 17,
   "metadata": {},
   "outputs": [
    {
     "name": "stdout",
     "output_type": "stream",
     "text": [
      "(6, 5)\n",
      "(6, 5)\n",
      "(7, 7)\n"
     ]
    }
   ],
   "source": [
    "def higher_and_lower(a, b):\n",
    "    # Get the higher value\n",
    "    higher = a\n",
    "    \n",
    "    if b > higher:\n",
    "        higher = b\n",
    "    \n",
    "    # Get the lower value\n",
    "    lower = a\n",
    "\n",
    "    if b < lower:\n",
    "        lower = b\n",
    "    \n",
    "    # Return `higher` and `lower` in that order\n",
    "    return higher, lower\n",
    "\n",
    "\n",
    "# Test function with function calls\n",
    "print(higher_and_lower(5, 6))\n",
    "print(higher_and_lower(6, 5))\n",
    "print(higher_and_lower(7, 7))"
   ]
  },
  {
   "cell_type": "markdown",
   "metadata": {},
   "source": [
    "### Parameters and Arguments"
   ]
  },
  {
   "cell_type": "markdown",
   "metadata": {},
   "source": [
    "We've discussed how to add parameters to functions and how to include arguments in function calls."
   ]
  },
  {
   "cell_type": "code",
   "execution_count": 18,
   "metadata": {},
   "outputs": [
    {
     "name": "stdout",
     "output_type": "stream",
     "text": [
      "35\n"
     ]
    }
   ],
   "source": [
    "def product(x, y):  # `x` and `y` are the parameters\n",
    "    return x * y\n",
    "\n",
    "print(product(5, 7))"
   ]
  },
  {
   "cell_type": "markdown",
   "metadata": {},
   "source": [
    "\n",
    "The arguments that are accepted into a function can be seen in the function's **signature**.\n",
    "\n",
    "A function signature defines **input and output of functions**. A signature can include:\n",
    "- parameters and their types\n",
    "- the return value and type\n",
    "- exceptions that might be thrown or passed back (*we'll cover this in later modules*)\n",
    "- information about the availability of the method in an object-oriented program\n",
    "\n",
    "For example, here's a valid definition of the function signature of the `product` function above.\n",
    "> `product(x, y)`: Takes in two integers `x` and `y` and returns their product as an integer.\n",
    "\n",
    "This tells us `product`'s function name and arguments, as well as what it is returning.\n",
    "\n",
    "A shorter function signature for `product` may be\n",
    "> `product(x, y)`\n",
    "\n",
    "as what it does can be explained through the use of **docstrings**. We'll talk more about docstrings later."
   ]
  },
  {
   "cell_type": "markdown",
   "metadata": {},
   "source": [
    "Python also allows to have function with varying number of parameters in its function signature.\n",
    "\n",
    "Using `*args` as a function parameter enables you to pass an arbitrary number of arguments to that function. The parameters are then accessible as the tuple `args` in the body of the function."
   ]
  },
  {
   "cell_type": "code",
   "execution_count": 19,
   "metadata": {},
   "outputs": [
    {
     "name": "stdout",
     "output_type": "stream",
     "text": [
      "30\n",
      "30030\n"
     ]
    }
   ],
   "source": [
    "def product(*args):  # Yes, it is confusing that the parameter is called `*args`\n",
    "    current_product = 1\n",
    "    for num in args:  # `args` is a tuple\n",
    "        current_product *= num\n",
    "    return current_product\n",
    "\n",
    "print(product(2, 3, 5))\n",
    "print(product(2, 3, 5, 7, 11, 13))"
   ]
  },
  {
   "cell_type": "markdown",
   "metadata": {},
   "source": [
    "It should be noted that the parameter `*args` **must come after the named parameters to a function**. Also, the name `args` is just a convention; you can choose to use another."
   ]
  },
  {
   "cell_type": "markdown",
   "metadata": {},
   "source": [
    "Named parameters to a function can be made optional by **giving them a default value**. \n",
    "These **must come after named parameters without a default value**.\n",
    "\n",
    "In the case the argument (with a default value) is passed in, the **default value is ignored**. \n",
    "If the argument is not passed in, the **default value is used**."
   ]
  },
  {
   "cell_type": "code",
   "execution_count": 20,
   "metadata": {},
   "outputs": [
    {
     "name": "stdout",
     "output_type": "stream",
     "text": [
      "HELLO WORLD\n",
      "HELLO WORLD\n",
      "HELLO WORLD\n",
      "hello world\n",
      "hello world\n"
     ]
    }
   ],
   "source": [
    "def special_print(text, mode=\"upper\"):  # `mode`'s default value is \"upper\"\n",
    "    if mode == \"upper\":\n",
    "        print(text.upper())\n",
    "    elif mode == \"lower\":\n",
    "        print(text.lower())\n",
    "    else:\n",
    "        print(text)\n",
    "\n",
    "# These three do the same thing\n",
    "special_print(\"Hello world\")\n",
    "special_print(\"Hello world\", mode=\"upper\")\n",
    "special_print(\"Hello World\", \"upper\")\n",
    "\n",
    "# These two do the same thing\n",
    "special_print(\"Hello world\", mode=\"lower\")\n",
    "special_print(\"Hello world\", \"lower\")"
   ]
  },
  {
   "cell_type": "markdown",
   "metadata": {},
   "source": [
    "`**kwargs` (which stands for keyword arguments) allows you to handle named arguments that you have not defined in advance.\n",
    "\n",
    "The keyword arguments **return a dictionary** in which the **keys are the argument names**, and the **values are the argument values**."
   ]
  },
  {
   "cell_type": "code",
   "execution_count": 21,
   "metadata": {},
   "outputs": [
    {
     "name": "stdout",
     "output_type": "stream",
     "text": [
      "1 2 2 () {}\n",
      "1 2 3 () {}\n",
      "1 2 3 (4, 5, 6, 7) {}\n",
      "1 2 3 (4, 5, 6, 7) {'arg1': 8, 'arg2': 9, 'arg3': 10}\n"
     ]
    }
   ],
   "source": [
    "def my_func(x, y, z=2, *args, **kwargs):\n",
    "    print(x, y, z, args, kwargs)\n",
    "\n",
    "my_func(1, 2)\n",
    "my_func(1, 2, 3)\n",
    "my_func(1, 2, 3, 4, 5, 6, 7)\n",
    "my_func(1, 2, 3, 4, 5, 6, 7, arg1=8, arg2=9, arg3=10)"
   ]
  },
  {
   "cell_type": "markdown",
   "metadata": {},
   "source": [
    "Note that the arguments returned by `**kwargs` are **not included** in `*args`."
   ]
  },
  {
   "cell_type": "markdown",
   "metadata": {},
   "source": [
    "**Exercise 06.06**: Create a function with the  following signature.\n",
    "> `get_remainders(mod, *args)`: Returns the remainders of every integer in `args` when divided by `mod` as a tuple.\n",
    "\n",
    "Test your function with the function call `get_remainders(4, 5, 6, 7, 8)`, which should return a tuple `(1, 2, 3, 0)`."
   ]
  },
  {
   "cell_type": "code",
   "execution_count": 22,
   "metadata": {},
   "outputs": [
    {
     "name": "stdout",
     "output_type": "stream",
     "text": [
      "(1, 2, 3, 0)\n"
     ]
    }
   ],
   "source": [
    "def get_remainders(mod, *args):\n",
    "    # Generate a LIST of the outputs\n",
    "    outputs = []\n",
    "    \n",
    "    for arg in args:\n",
    "        outputs.append(arg % mod)\n",
    "        \n",
    "    # Convert the `outputs` LIST into a TUPLE\n",
    "    return tuple(outputs)\n",
    "\n",
    "\n",
    "# Test with the function call\n",
    "print(get_remainders(4, 5, 6, 7, 8))"
   ]
  },
  {
   "cell_type": "markdown",
   "metadata": {},
   "source": [
    "### Docstrings"
   ]
  },
  {
   "cell_type": "markdown",
   "metadata": {},
   "source": [
    "\n",
    "**Docstrings** (documentation strings) serve a similar purpose to comments, as they are designed to explain code. However, they are more specific and have a different syntax. They are created by putting a **multiline string** containing an explanation of the function **below the function's first line**."
   ]
  },
  {
   "cell_type": "code",
   "execution_count": 23,
   "metadata": {},
   "outputs": [
    {
     "name": "stdout",
     "output_type": "stream",
     "text": [
      "HELLO WORLD!\n"
     ]
    }
   ],
   "source": [
    "def shout(text):\n",
    "    \"\"\"\n",
    "    Prints `text` in all caps and\n",
    "    adds an exclamation mark at the end.\n",
    "    \"\"\"\n",
    "    print(text.upper() + \"!\")\n",
    "\n",
    "shout(\"Hello world\")"
   ]
  },
  {
   "cell_type": "markdown",
   "metadata": {},
   "source": [
    "Unlike conventional comments, docstrings are retained throughout the runtime of the program. This allows the programmer to inspect these comments at run time."
   ]
  },
  {
   "cell_type": "markdown",
   "metadata": {},
   "source": [
    "## Functions as Objects"
   ]
  },
  {
   "cell_type": "markdown",
   "metadata": {},
   "source": [
    "Although they are created differently from normal variables, functions are just like any other kind of value.\n",
    " They can be assigned and reassigned to variables, and later referenced by those names."
   ]
  },
  {
   "cell_type": "code",
   "execution_count": 24,
   "metadata": {},
   "outputs": [
    {
     "name": "stdout",
     "output_type": "stream",
     "text": [
      "63\n"
     ]
    }
   ],
   "source": [
    "def multiply(x, y):\n",
    "    \"\"\"Multiplies `x` and `y` and returns it.\"\"\"\n",
    "    return x * y\n",
    "\n",
    "a = 7\n",
    "b = 9\n",
    "operation = multiply  # We can assign a variable to a function\n",
    "print(operation(a, b))"
   ]
  },
  {
   "cell_type": "markdown",
   "metadata": {},
   "source": [
    "The example above assigned the function `multiply` to a variable `operation`. Now, the name `operation` can also be used to call the function `multiply`."
   ]
  },
  {
   "cell_type": "markdown",
   "metadata": {},
   "source": [
    "Functions can also be used as arguments of other functions."
   ]
  },
  {
   "cell_type": "code",
   "execution_count": 25,
   "metadata": {},
   "outputs": [
    {
     "name": "stdout",
     "output_type": "stream",
     "text": [
      "Hi, Tester!\n",
      "Hi, Tester!\n",
      "Hi, Tester!\n",
      "12\n",
      "12\n",
      "12\n",
      "12\n",
      "12\n"
     ]
    }
   ],
   "source": [
    "def do_mutiple_times(n, function, *args):\n",
    "    \"\"\"\n",
    "    Does the given function `n` times.\n",
    "    \"\"\"\n",
    "    for _ in range(n):\n",
    "        function(*args)  # Calls the function with the given parameters in `*args`\n",
    "\n",
    "def greet(name):\n",
    "    print(f\"Hi, {name}!\")\n",
    "\n",
    "def sum_and_print(*args):\n",
    "    print(sum(args))\n",
    "\n",
    "do_mutiple_times(3, greet, \"Tester\")\n",
    "do_mutiple_times(5, sum_and_print, 3, 4, 5)"
   ]
  },
  {
   "cell_type": "markdown",
   "metadata": {},
   "source": [
    "As you can see, the function `do_multiple_times` takes a function as an argument and calls it in its body."
   ]
  },
  {
   "cell_type": "markdown",
   "metadata": {},
   "source": [
    "**Exercise 06.07**: A list of numbers is provided below.\n",
    "```\n",
    "[2, 7, 1, 8, 2, 8, 18, 28, 4, 5, 90, 45]\n",
    "```\n",
    "By considering the idea of functions as objects, or otherwise, run and print the following functions' outputs when provided the list as an argument.\n",
    "- `min`\n",
    "- `max`\n",
    "- `sum`\n",
    "- `sorted`\n",
    "- `tuple`\n",
    "- `str`\n",
    "- `set`\n",
    "- `list`\n",
    "\n",
    "*Hint: consider a `for` loop iterating over these functions.*"
   ]
  },
  {
   "cell_type": "code",
   "execution_count": 26,
   "metadata": {},
   "outputs": [
    {
     "name": "stdout",
     "output_type": "stream",
     "text": [
      "1\n",
      "90\n",
      "218\n",
      "[1, 2, 2, 4, 5, 7, 8, 8, 18, 28, 45, 90]\n",
      "(2, 7, 1, 8, 2, 8, 18, 28, 4, 5, 90, 45)\n",
      "[2, 7, 1, 8, 2, 8, 18, 28, 4, 5, 90, 45]\n",
      "{1, 2, 4, 5, 7, 8, 45, 18, 90, 28}\n",
      "[2, 7, 1, 8, 2, 8, 18, 28, 4, 5, 90, 45]\n"
     ]
    }
   ],
   "source": [
    "# List of numbers\n",
    "myList = [2, 7, 1, 8, 2, 8, 18, 28, 4, 5, 90, 45]\n",
    "\n",
    "# Create a list of these functions\n",
    "functions = [min, max, sum, sorted, tuple, str, set, list]  # All of these are functions\n",
    "\n",
    "# Now use a `for` loop to iterate over the functions that needs to be applied\n",
    "for function in functions:\n",
    "    print(function(myList))"
   ]
  },
  {
   "cell_type": "markdown",
   "metadata": {},
   "source": [
    "## Modules"
   ]
  },
  {
   "cell_type": "markdown",
   "metadata": {},
   "source": [
    "Modules are pieces of code that other people have written to fulfill common tasks, such as generating random numbers, performing mathematical operations, et cetra.\n",
    "\n",
    "The basic way to use a module is to add `import module_name` at the top of your code,  and then using `module_name.var` to access functions and values with the name `var` in the module.\n",
    "\n",
    "For example, the code below uses the `random` module to generate random numbers."
   ]
  },
  {
   "cell_type": "code",
   "execution_count": 27,
   "metadata": {},
   "outputs": [
    {
     "name": "stdout",
     "output_type": "stream",
     "text": [
      "5\n",
      "0.2565420846254751\n"
     ]
    }
   ],
   "source": [
    "# Import things from other modules\n",
    "import random  # Import functions and variables from the `random` module\n",
    "\n",
    "# We can now do things with the functions present in `random`\n",
    "print(random.randint(1, 10))  # Generates a random number from 1 to 10 inclusive\n",
    "print(random.random())  # Generates a random number from 0 to 1"
   ]
  },
  {
   "cell_type": "markdown",
   "metadata": {},
   "source": [
    "There is another kind of import that can be used if you only need certain functions from a module.\n",
    " These take the form `from module_name import var`, and then `var` can be used as if it were defined normally in your code.\n",
    "\n",
    "For example, to import only the `pi` constant from the `math` module:"
   ]
  },
  {
   "cell_type": "code",
   "execution_count": 28,
   "metadata": {},
   "outputs": [
    {
     "name": "stdout",
     "output_type": "stream",
     "text": [
      "3.141592653589793\n"
     ]
    }
   ],
   "source": [
    "from math import pi  # Gets only the `pi` constant from `math` and nothing else\n",
    "print(pi)"
   ]
  },
  {
   "cell_type": "markdown",
   "metadata": {},
   "source": [
    "Use a comma separated list to import multiple objects. For example:"
   ]
  },
  {
   "cell_type": "code",
   "execution_count": 29,
   "metadata": {},
   "outputs": [
    {
     "name": "stdout",
     "output_type": "stream",
     "text": [
      "0.7071067811865475\n",
      "0.7071067811865476\n",
      "0.9999999999999999\n"
     ]
    }
   ],
   "source": [
    "from math import sin, cos, tan, pi\n",
    "print(sin(pi/4))\n",
    "print(cos(pi/4))\n",
    "print(tan(pi/4))"
   ]
  },
  {
   "cell_type": "markdown",
   "metadata": {},
   "source": [
    "You could also use `*` in an import statement. The `*` imports all objects from a module. For example: `from math import *`\n",
    "\n",
    "This is **generally discouraged**, as it confuses variables in your code with variables in the external module."
   ]
  },
  {
   "cell_type": "markdown",
   "metadata": {},
   "source": [
    "Note that trying to import a module that isn't available causes an `ImportError`."
   ]
  },
  {
   "cell_type": "code",
   "execution_count": 30,
   "metadata": {},
   "outputs": [],
   "source": [
    "# Uncomment the following line to see the error\n",
    "# import nonexistent_module"
   ]
  },
  {
   "cell_type": "markdown",
   "metadata": {},
   "source": [
    "You can import a module or object under a different name using the `as` keyword. This is mainly used when a module or object has a long or confusing name."
   ]
  },
  {
   "cell_type": "code",
   "execution_count": 31,
   "metadata": {},
   "outputs": [
    {
     "name": "stdout",
     "output_type": "stream",
     "text": [
      "10.0\n"
     ]
    }
   ],
   "source": [
    "from math import sqrt as square_root\n",
    "print(square_root(100))"
   ]
  },
  {
   "cell_type": "markdown",
   "metadata": {},
   "source": [
    "**Discussion 06.01**: Predict the output of the following code before running it in the cell below.\n",
    "```python\n",
    "import math as m\n",
    "print(math.sqrt(25))\n",
    "```"
   ]
  },
  {
   "cell_type": "code",
   "execution_count": 32,
   "metadata": {},
   "outputs": [],
   "source": [
    "import math as m\n",
    "# print(math.sqrt(25))  # This will produce a `NameError` as `math` is not defined"
   ]
  },
  {
   "cell_type": "markdown",
   "metadata": {},
   "source": [
    "**Exercise 06.08**: Write a function that satisfies the following function signature.\n",
    "> `dice_roll()`: Generates and returns a random integer from 1 to 6 inclusive.\n",
    "\n",
    "*Hint: use the `random` module's `randint` method.*"
   ]
  },
  {
   "cell_type": "code",
   "execution_count": 33,
   "metadata": {},
   "outputs": [
    {
     "name": "stdout",
     "output_type": "stream",
     "text": [
      "4\n",
      "6\n",
      "1\n",
      "2\n",
      "4\n"
     ]
    }
   ],
   "source": [
    "# Import needed modules\n",
    "from random import randint\n",
    "\n",
    "# Create needed function\n",
    "def dice_roll():\n",
    "    return randint(1, 6)  # Note that `randint`'s range is INCLUSIVE of the endpoints\n",
    "\n",
    "\n",
    "# Although not required, let's test the function\n",
    "print(dice_roll())\n",
    "print(dice_roll())\n",
    "print(dice_roll())\n",
    "print(dice_roll())\n",
    "print(dice_roll())"
   ]
  },
  {
   "cell_type": "markdown",
   "metadata": {},
   "source": [
    "Python comes bundled with a set of standard modules that makes up the **standard library**. Some of these modules are:\n",
    "- `math`\n",
    "- `random`\n",
    "- `os`\n",
    "- `itertools`\n",
    "- `sys`\n",
    "\n",
    "The full list of modules can be found on [Python's documentation website](https://docs.python.org/3/library/). Python's extensive standard library is one of its main strengths as a language."
   ]
  },
  {
   "cell_type": "markdown",
   "metadata": {},
   "source": [
    "## Assignment 06A\n",
    "Conversion between Fahrenheit and Celsius is a common problem. If the temperature is $C$ degrees Celsius, then the corresponding temperature in Fahrenheit, $F$, is given by $$F = \\frac95 C + 32$$ Similarly, if the temperature is $F$ in Fahrenheit, the the corresponding temperature in Celcius, $C$, is given by $$C = \\frac59F - \\frac{160}9$$\n",
    "\n",
    "### Task\n",
    "Create the following functions with the following function signatures.\n",
    "> `fahrenheit(temp)` converts the temperature in Celcius, `temp`, into its Fahrenheit equivalent and returns it.\n",
    "\n",
    "> `celsius(temp)` converts the temperature in Fahrenheit, `temp`, into its Celsius equivalent and returns it.\n",
    "\n",
    "Test your functions by printing the output of the following function calls.\n",
    "- `fahrenheit(232 + 7/9)`\n",
    "- `celsius(212)`\n",
    "- `celsius(fahrenheit(50))`\n",
    "- `fahrenheit(celsius(123))`"
   ]
  },
  {
   "cell_type": "code",
   "execution_count": 34,
   "metadata": {},
   "outputs": [
    {
     "name": "stdout",
     "output_type": "stream",
     "text": [
      "451.0\n",
      "100.0\n",
      "50.00000000000001\n",
      "123.00000000000001\n"
     ]
    }
   ],
   "source": [
    "# Functions\n",
    "def fahrenheit(temp):\n",
    "    return 9/5 * temp + 32\n",
    "\n",
    "\n",
    "def celsius(temp):\n",
    "    return 5/9 * temp - (160/9)\n",
    "\n",
    "\n",
    "# Test the functions\n",
    "print(fahrenheit(232 + 7/9))\n",
    "print(celsius(212))\n",
    "print(celsius(fahrenheit(50)))\n",
    "print(fahrenheit(celsius(123)))"
   ]
  },
  {
   "cell_type": "markdown",
   "metadata": {},
   "source": [
    "## Assignment 06B\n",
    "To further simplify conversion tasks, a single function, `convert`, is to be used in place of the two functions implemented in **Assignment 06A**.\n",
    "\n",
    "### Task\n",
    "Create a new function, `convert`, that follows the following function signature.\n",
    "> `convert(temp, orig=\"F\", to=\"C\")`: Converts the temperature to the desired temperature format. `orig` describes the original temperature type (`F` for Fahrenheit; `C` for Celsius) and `to` describes temperature type to convert `temp` to (`F` for Fahrenheit; `C` for Celsius).\n",
    "\n",
    "Test this new function by printing out the output of the following function calls.\n",
    "- `convert(100, orig=\"C\", to=\"F\")`\n",
    "- `convert(100)`\n",
    "- `convert(100, orig=\"C\")`\n",
    "- `convert(100, to=\"F\")`"
   ]
  },
  {
   "cell_type": "code",
   "execution_count": 35,
   "metadata": {},
   "outputs": [
    {
     "name": "stdout",
     "output_type": "stream",
     "text": [
      "212.0\n",
      "37.77777777777778\n",
      "100\n",
      "100\n"
     ]
    }
   ],
   "source": [
    "# Functions\n",
    "def convert(temp, orig=\"F\", to=\"C\"):\n",
    "    # We only care about conversion in two cases\n",
    "    if orig == \"F\" and to == \"C\":\n",
    "        # Convert from Fahrenheit to Celsius\n",
    "        return 5/9 * temp - (160/9)\n",
    "    \n",
    "    elif orig == \"C\" and to == \"F\":\n",
    "        # Convert from Celsius to Fahrenheit\n",
    "        return 9/5 * temp + 32\n",
    "    \n",
    "    # Otherwise, just return the original temperature that is provided\n",
    "    return temp\n",
    "\n",
    "\n",
    "# Testing the function\n",
    "print(convert(100, orig=\"C\", to=\"F\"))\n",
    "print(convert(100))\n",
    "print(convert(100, orig=\"C\"))\n",
    "print(convert(100, to=\"F\"))"
   ]
  },
  {
   "cell_type": "markdown",
   "metadata": {},
   "source": [
    "## Assignment 06C\n",
    "Booleans can also be used as input arguments to a function.\n",
    "\n",
    "### Task\n",
    "Create a function `all_true` which returns `True` if and only if all of its arguments (which are booleans) evaluate to `True`. Otherwise, the function returns `False`.\n",
    "\n",
    "Here are some example function calls.\n",
    "- `all_true(True)` returns `True`\n",
    "- `all_true(1 == 1, 2 == 2, 3 == 3, 4 == 4)` returns `True`\n",
    "- `all_true(False, True, True, True, True, True)` returns `False`\n",
    "\n",
    "Test your function by printing the output of the following function calls.\n",
    "- `all_true(False)`\n",
    "- `all_true(1 != 2, 2 == 2)`\n",
    "- `all_true(all_true(True, True), True, True, all_true(1 == 1, 2 == 2, 3 == 3), 4 != 5)`"
   ]
  },
  {
   "cell_type": "code",
   "execution_count": 36,
   "metadata": {},
   "outputs": [
    {
     "name": "stdout",
     "output_type": "stream",
     "text": [
      "True\n",
      "True\n",
      "False\n",
      "False\n",
      "True\n",
      "True\n"
     ]
    }
   ],
   "source": [
    "# Functions\n",
    "def all_true(*args):  # The function needs to accept an undefined number of arguments\n",
    "    # Keep track whether every argument is true or not\n",
    "    for arg in args:\n",
    "        if arg is False:  # By the way, this is another way to compare booleans\n",
    "            return False  # Because not all `True`, we return `False`\n",
    "        \n",
    "    return True  # If reached here then all must be `True`, so return `True`\n",
    "            \n",
    "#     # Alternatively, \"return true if all are true\" means that we can use the `all()` function on the arguments!\n",
    "#     return all(args)\n",
    "\n",
    "\n",
    "# Test with provided examples\n",
    "print(all_true(True))  # Should be `True`\n",
    "print(all_true(1 == 1, 2 == 2, 3 == 3, 4 == 4))  # Should be `True`\n",
    "print(all_true(False, True, True, True, True, True))  # Should be `False`\n",
    "\n",
    "# Test function with the other function calls\n",
    "print(all_true(False))\n",
    "print(all_true(1 != 2, 2 == 2))\n",
    "print(all_true(all_true(True, True), True, True, all_true(1 == 1, 2 == 2, 3 == 3), 4 != 5))"
   ]
  }
 ],
 "metadata": {
  "kernelspec": {
   "display_name": "Python 3 (ipykernel)",
   "language": "python",
   "name": "python3"
  },
  "language_info": {
   "codemirror_mode": {
    "name": "ipython",
    "version": 3
   },
   "file_extension": ".py",
   "mimetype": "text/x-python",
   "name": "python",
   "nbconvert_exporter": "python",
   "pygments_lexer": "ipython3",
   "version": "3.10.8"
  }
 },
 "nbformat": 4,
 "nbformat_minor": 4
}
