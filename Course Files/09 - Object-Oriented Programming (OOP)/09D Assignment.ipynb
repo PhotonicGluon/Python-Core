{
 "cells": [
  {
   "cell_type": "markdown",
   "id": "9f79034d",
   "metadata": {},
   "source": [
    "# 09 - Object-Oriented Programming (OOP)\n",
    "## 09D - Assignment"
   ]
  },
  {
   "cell_type": "markdown",
   "id": "64ee131f",
   "metadata": {},
   "source": [
    "## Assignment 09\n",
    "In this assignment you will implement a 2D vector class, named `Vector`, and a direction vector class, named `DirectionVector`.\n",
    "\n",
    "A vector has a **source** and a **destination** point. The following point has a source point of $(1, 2)$ and a destination point of $(3, 4)$.\n",
    "\n",
    "<div style=\"text-align: center;\">\n",
    "    <img src=\"images/src-and-dest.png\" width=150 alt=\"Source and Destination\">\n",
    "</div>\n",
    "\n",
    "Vectors have a length. The length of the vector is given by $$\\sqrt{\\left(x_0 - x_1\\right)^2 + \\left(y_0 - y_1\\right)^2}$$ where the vector's source is $(x_0, y_0)$ and the vector's destination is $(x_1, y_1)$.\n",
    "\n",
    "A vector's *direction vector* is a vector telling us how much the $x$ and $y$ coordinates changed. For example, a vector starting at point $(1, 2)$ and ending at point $(3, 4)$ has direction vector $(3 - 1, 4 - 2) = (2, 2)$. Here are some more examples of vectors and their associated direction vectors.\n",
    "\n",
    "<div style=\"text-align: center;\">\n",
    "    <img src=\"images/direction-vectors.png\" width=400 alt=\"Direction Vectors\">\n",
    "</div>\n",
    "\n",
    "Adding vectors is easy. For example, consider the following vectors:\n",
    "- A *red* vector starting at $(1,2)$ and ending at $(3,4)$.\n",
    "- A *blue* vector starting at $(1, 2)$ and ending at $(4, 3)$.\n",
    "\n",
    "<div style=\"text-align: center;\">\n",
    "    <img src=\"images/red-and-blue-vectors.png\" width=200 alt=\"Red and Blue Vectors\">\n",
    "</div>\n",
    "\n",
    "The result of adding two vectors is the same as adding the second vector's *direction vector* to the first vector. **Order does not matter**, as seen in the following example. Summing the red vector before the blue vector or summing the blue vector before the red vector both yield the same resultant vector, starting at $(1,2)$ and ending at $(6,5)$.\n",
    "\n",
    "<div style=\"text-align: center;\">\n",
    "    <img src=\"images/vector-addition.png\" width=500, alt=\"Vector Addition\">\n",
    "</div>\n",
    "\n",
    "However, it should be noted that vector addition is only valid **if the two vectors originate at the same point**. An exception to this rule are *direction vectors*: they can be added to any vector."
   ]
  },
  {
   "cell_type": "markdown",
   "id": "85a2c2f0",
   "metadata": {},
   "source": [
    "### Task 1\n",
    "Write code that creates a class `Vector`.\n",
    "- The class has two *strongly private* attributes.\n",
    "    - `src`: Point that the vector originates at. This is a tuple of two **numbers**.\n",
    "    - `dest`: Point that the vector ends at. This is a tuple of two **numbers**.\n",
    "  \n",
    "  Appropriate setter and getter methods must be implemented.\n",
    "    - For both setter methods, validate that the value to be set is:\n",
    "        1. A tuple\n",
    "        2. A tuple containing two elements\n",
    "        3. A tuple containing two numbers (either an integer or a float)\n",
    "      \n",
    "      Raise a `ValueError` if any of the three conditions mentioned above are not met.\n",
    "    - The getter methods simply returns the tuple `src` or `dest`, depending on the getter method.\n",
    "- The class has one *public* method.\n",
    "    - `length()`: Returns the length of the vector.\n",
    "\n",
    "An appropriate constructor method should be implemented.\n",
    "\n",
    "Test your code by checking that a vector starting at $(3, 4)$ and ending at $(6, 0)$ has length 5."
   ]
  },
  {
   "cell_type": "code",
   "execution_count": null,
   "id": "f47e6a16",
   "metadata": {},
   "outputs": [],
   "source": [
    "# Write your code here"
   ]
  },
  {
   "cell_type": "markdown",
   "id": "af130e2a",
   "metadata": {},
   "source": [
    "### Task 2\n",
    "Copy your `Vector` class into the space provided below.\n",
    "\n",
    "Create a `DirectionVector` class. This class should try and inherit as much as possible from `Vector`, with the following amendments:\n",
    "- The constructor method for `DirectionVector` should take in only one argument, the value of `dest`.\n",
    "    - The attribute `src` should always be `(0, 0)` for `DirectionVector` objects.\n",
    "    - Both `src` and `dest` are **still _strongly private_**.\n",
    "- Create getter methods for both `src` and `dest`.\n",
    "- Create a setter method for `dest` **only**.\n",
    "    - Use the same validation as `Vector`.\n",
    "- Override the `length` method to simplify the length calculation\n",
    "    - Hint: `src` is now `(0, 0)`, so one part of the length calculation is redundant.\n",
    "- Add a method with the following signature.\n",
    "    - `direction()`: Returns a tuple representing the direction vector. For example, a direction vector $(1, 2)$ should return the tuple `(1, 2)`.\n",
    "\n",
    "In addition, add the following *public* method to `Vector`.\n",
    "- `direction_vector()`: Returns the direction vector for the current vector.\n",
    "\n",
    "Test your code by doing the following:\n",
    "- Make a vector, `myVector`, that starts at $(3, 4)$ and ends at $(6, 0)$.\n",
    "- Check that `myVector.direction_vector().direction()` returns the tuple `(3, -4)`."
   ]
  },
  {
   "cell_type": "code",
   "execution_count": null,
   "id": "7e7fc16d",
   "metadata": {},
   "outputs": [],
   "source": [
    "# Write your code here"
   ]
  },
  {
   "cell_type": "markdown",
   "id": "5974c91f",
   "metadata": {},
   "source": [
    "### Task 3\n",
    "Copy your `Vector` and `DirectionVector` classes into the space provided below.\n",
    "\n",
    "Add the following methods to `Vector`:\n",
    "- The **static method** `calc_argument` that takes in a `DirectionVector` object as input and returns its argument, **correct to 3 decimal places**.\n",
    "    - The argument of a `DirectionVector` which has tuple representation of $(x, y)$ is $\\text{atan2}(y, x)$. Use the `math` module's `atan2` function to do this.\n",
    "- The **instance method** `argument` which returns the vector's argument.\n",
    "    - Hint: take the direction vector of the current vector and then use the static method to calculate this.\n",
    "- The **class method** `from_tuple` that takes in a tuple of the form `((SRC_X, SRC_Y), (DEST_X, DEST_Y))` and returns a `Vector` object.\n",
    "\n",
    "Override the following methods in `DirectionVector`:\n",
    "- The **class method** `from_tuple` that takes in a tuple of the form `(X, Y)` and returns a `DirectionVector` object."
   ]
  },
  {
   "cell_type": "code",
   "execution_count": null,
   "id": "556ce9ce",
   "metadata": {},
   "outputs": [],
   "source": [
    "# Write your code here"
   ]
  },
  {
   "cell_type": "markdown",
   "id": "5f4d34be",
   "metadata": {},
   "source": [
    "### Task 4\n",
    "Copy your `Vector` and `DirectionVector` classes into the space provided below.\n",
    "\n",
    "Add the following magic methods (which should be *public*) to `Vector`.\n",
    "- `__str__`: Returns a **string** of the form `[SRC] -> [DEST]`.\n",
    "- `__repr__`: Returns a **string** of the form `Vector([SRC], [DEST])`\n",
    "- `__add__`: Takes in another `Vector`, `other`, as input, and returns their summed vector.\n",
    "    - **If `other` is `Vector` and `self` is `Vector`**: If `other` does not start on the same point as `self`, raise a `ValueError` with an appropriate message. Otherwise, return their summed vector as another `Vector` object.\n",
    "    - **If `other` is `DirectionVector` and `self` is `Vector`**: Perform summing as per normal and return the sum as another `Vector` object.\n",
    "    - **If `other` is `Vector` and `self` is `DirectionVector`**: Perform summing as per normal and return the sum as another `Vector` object.\n",
    "    - **If `other` is `DirectionVector` and `self` is `DirectionVector`**: Perform summing and return the sum as **a `DirectionVector` object**.\n",
    "    - **Otherwise**: Raise a `TypeError` with an appropriate message.\n",
    "    \n",
    "Override the following magic methods in `DirectionVector`:\n",
    "- `__str__`: Returns a **string** of the form `Direction Vector [DEST]`\n",
    "- `__repr__`: Returns a **string** of the form `DirectionVector([DEST])`"
   ]
  },
  {
   "cell_type": "code",
   "execution_count": null,
   "id": "f753505c",
   "metadata": {},
   "outputs": [],
   "source": [
    "# Write your code here"
   ]
  },
  {
   "cell_type": "markdown",
   "id": "ae019e03",
   "metadata": {},
   "source": [
    "Test your code by running the following code."
   ]
  },
  {
   "cell_type": "code",
   "execution_count": null,
   "id": "6141502c",
   "metadata": {},
   "outputs": [],
   "source": [
    "# Create instances\n",
    "vector1 = Vector((1, 2), (3, 4))\n",
    "vector2 = Vector.from_tuple(((1, 2), (4, 1)))\n",
    "\n",
    "dirVect1 = DirectionVector((3, -1))\n",
    "dirVect2 = DirectionVector.from_tuple((2, 2))\n",
    "\n",
    "# Check string magic methods\n",
    "assert str(vector1) == \"(1, 2) -> (3, 4)\", \"Incorrect `__str__` return value in `Vector`\"\n",
    "assert repr(vector2) == \"Vector((1, 2), (4, 1))\", \"Incorrect `__repr__` return value in `Vector`\"\n",
    "\n",
    "assert str(dirVect1) == \"Direction Vector (3, -1)\", \"Incorrect `__str__` return value in `DirectionVector`\"\n",
    "assert repr(dirVect2) == \"DirectionVector((2, 2))\", \"Incorrect `__repr__` return value in `DirectionVector`\"\n",
    "\n",
    "# Check `__add__` magic methods\n",
    "vector1plus2 = vector1 + vector2\n",
    "vector2plus1 = vector2 + vector1\n",
    "assert type(vector1plus2) == Vector, \"Vector addition produces wrong type\"\n",
    "assert str(vector1plus2) == \"(1, 2) -> (6, 3)\", \"Vector addition incorrect (final sum wrong)\"\n",
    "assert str(vector1plus2) == str(vector2plus1), \"Vector addition incorrect (order matters when it should not)\"\n",
    "\n",
    "vector1plusDir1 = vector1 + dirVect1\n",
    "assert type(vector1plusDir1) == Vector, \"Vector addition produces wrong type\"\n",
    "assert str(vector1plusDir1) == \"(1, 2) -> (6, 3)\", \"Vector addition incorrect (final sum wrong)\"\n",
    "\n",
    "dirVect2plusVect2 = dirVect2 + vector2\n",
    "assert type(dirVect2plusVect2) == Vector, \"Vector addition produces wrong type\"\n",
    "assert str(dirVect2plusVect2) == \"(1, 2) -> (6, 3)\", \"Vector addition incorrect (final sum wrong)\"\n",
    "\n",
    "dirVect1plus2 = dirVect1 + dirVect2\n",
    "assert type(dirVect1plus2) == DirectionVector, \"Vector addition produces wrong type\"\n",
    "assert str(dirVect1plus2) == \"Direction Vector (5, 1)\", \"Vector addition incorrect (final sum wrong)\"\n",
    "\n",
    "# Check `__add__` error raising\n",
    "vector3 = Vector((5, 5), (6, 6))\n",
    "\n",
    "try:\n",
    "    vector1 + vector3\n",
    "    assert False, \"Should have raised `ValueError` but did not\"\n",
    "except ValueError:\n",
    "    pass\n",
    "\n",
    "try:\n",
    "    vector3 + vector1\n",
    "    assert False, \"Should have raised `ValueError` but did not\"\n",
    "except ValueError:\n",
    "    pass\n",
    "\n",
    "try:\n",
    "    \"Hello\" + vector1\n",
    "    assert False, \"Should have raised `TypeError` but did not\"\n",
    "except TypeError:\n",
    "    pass\n",
    "\n",
    "try:\n",
    "    vector1 + 123\n",
    "    assert False, \"Should have raised `TypeError` but did not\"\n",
    "except TypeError:\n",
    "    pass\n",
    "\n",
    "# Test the argument methods\n",
    "assert vector1.calc_argument(DirectionVector((-1.6646, 3.6372))) == 2, \"Incorrect `calc_argument` implementation\"\n",
    "assert vector2.argument() == -0.322, \"Incorrect `argument` implementation\"\n",
    "assert dirVect2.argument() == 0.785, \"Incorrect `argument` implementation\"\n",
    "\n",
    "print(\"All tests passed; HORRAY!\")"
   ]
  }
 ],
 "metadata": {
  "language_info": {
   "name": "python"
  }
 },
 "nbformat": 4,
 "nbformat_minor": 5
}
