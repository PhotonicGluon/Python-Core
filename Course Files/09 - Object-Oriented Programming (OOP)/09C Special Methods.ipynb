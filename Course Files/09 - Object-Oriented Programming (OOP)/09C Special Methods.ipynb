{
 "cells": [
  {
   "cell_type": "markdown",
   "metadata": {},
   "source": [
    "# 09 - Object-Oriented Programming (OOP)\n",
    "## 09C - Special Methods"
   ]
  },
  {
   "cell_type": "markdown",
   "metadata": {},
   "source": [
    "## Static Methods and Class Methods"
   ]
  },
  {
   "cell_type": "markdown",
   "metadata": {},
   "source": [
    "Methods of objects we've looked at so far are **called by an instance of a class**, which is then passed to the `self` parameter of the method.\n",
    "\n",
    "Static methods are similar to normal methods, except they don't receive the `self` parameter in their method signature; they are identical to **normal functions** that belong to a class. They are marked with the `staticmethod` decorator.\n",
    "\n",
    "In essence, static methods behave like plain functions, except for the fact that you can call them from an instance of the class."
   ]
  },
  {
   "cell_type": "code",
   "execution_count": null,
   "metadata": {},
   "outputs": [],
   "source": [
    "# Import the math module to use mathematical functions\n",
    "import math\n",
    "\n",
    "# A class containing some mathematical functions\n",
    "class OtherMath:\n",
    "    @staticmethod\n",
    "    def logn(x, n):  # Note there is no `self` parameter\n",
    "        \"\"\"Computes the logarithm base n of x\"\"\"\n",
    "        return math.log2(x) / math.log2(n)  # Standard change of base formula\n",
    "\n",
    "    @staticmethod\n",
    "    def ln(x):\n",
    "        \"\"\"Computes the logarithm base e of x\"\"\"\n",
    "        return OtherMath.logn(x, math.e)  # We can call staticmethods\n",
    "\n",
    "\n",
    "# Driver code\n",
    "print(OtherMath.logn(81, 3))\n",
    "print(OtherMath.ln(20))"
   ]
  },
  {
   "cell_type": "markdown",
   "metadata": {},
   "source": [
    "*Note: we can access a static method within a __non-static method__ by using `self.my_static_method()` within the non-static method*."
   ]
  },
  {
   "cell_type": "markdown",
   "metadata": {},
   "source": [
    "Class methods are another special kind of method. They are different from *normal* methods and static methods - they are **called by a class**, which is **passed to the `cls` parameter** of the method.\n",
    "\n",
    "A common use of these are **factory methods**, which **instantiate an instance of a class**, using different parameters than those usually passed to the class constructor.\n",
    "\n",
    "Class methods are marked with a `classmethod` decorator."
   ]
  },
  {
   "cell_type": "code",
   "execution_count": null,
   "metadata": {},
   "outputs": [],
   "source": [
    "# Pizza class\n",
    "class Pizza:\n",
    "    # Standard constructor method\n",
    "    def __init__(self, name, size, toppings):\n",
    "        self.name = name\n",
    "        self.size = size\n",
    "        self.toppings = toppings\n",
    "\n",
    "    # Example staticmethod-method pair to showcase using staticmethod in normal method\n",
    "    @staticmethod\n",
    "    def is_size_large(size):\n",
    "        \"\"\"Returns `True` is the size is larger than 8\"\"\"\n",
    "        return size > 8\n",
    "\n",
    "    def is_pizza_large(self):  # Note this is NOT a static method\n",
    "        \"\"\"Returns `True` if the pizza's size is more than 8\"\"\"\n",
    "        return self.is_size_large(self.size)\n",
    "\n",
    "    # Example class method\n",
    "    @classmethod\n",
    "    def from_dict(cls, dictionary):  # First parameter is `cls` instead of `self`\n",
    "        \"\"\"Returns a `Pizza` instance based on the values in the given dictionary\"\"\"\n",
    "        return cls(  # Access the class by doing this\n",
    "            dictionary[\"name\"],  # Pass in arguments from the dictionary\n",
    "            dictionary[\"size\"],\n",
    "            dictionary[\"toppings\"]\n",
    "        )\n",
    "\n",
    "\n",
    "# Make two `Pizza` instances\n",
    "pizza1 = Pizza(\"Pepperoni\", 8, [\"pepperoni\", \"cheese\"])  # Standard initialisation\n",
    "pizza2 = Pizza.from_dict({  # Initialisation using class method\n",
    "    \"name\": \"Vegetarian\", \n",
    "    \"size\": 12, \n",
    "    \"toppings\": [\n",
    "        \"tomatoes\", \n",
    "        \"onion\", \n",
    "        \"bell pepper\", \n",
    "        \"cheese\"\n",
    "    ]\n",
    "})\n",
    "\n",
    "# Test out their other methods\n",
    "print(pizza1.is_pizza_large())\n",
    "print(pizza2.is_pizza_large())\n",
    "\n",
    "print(pizza1.is_size_large(1))  # We can still call staticmethods like this\n",
    "print(pizza2.is_size_large(10))\n",
    "print(Pizza.is_size_large(16))"
   ]
  },
  {
   "cell_type": "markdown",
   "metadata": {},
   "source": [
    "Technically, the parameters `self` and `cls` are just conventions; they could be changed to anything else. However, they are **universally followed**, so it is wise to stick to using them."
   ]
  },
  {
   "cell_type": "markdown",
   "metadata": {},
   "source": [
    "**Exercise 09.06**: Create a `Rectangle` class that has the following.\n",
    "- Two *strongly private* attributes `width` and `height` which are both **floats**. They should have properties to help them set their values, namely the properties `width` and `height` respectively.\n",
    "    - The `width` and `height` setter methods must verify that both the values of `width` and `height` are:\n",
    "        1. A float. **Integers should be rejected**.\n",
    "        2. A non-negative float.\n",
    "      \n",
    "      You are to **print** an error message if the value is invalid. **Do not raise an error**.\n",
    "    - Their getter methods should just return the value of the attributes `width` and `height` respectively.\n",
    "- Four *public* methods with the following method signatures.\n",
    "    - `calculate_area(w, h)`: A **static method** that takes in the width `w` and height `h` of a rectangle and returns its area, `w * h`.\n",
    "    - `area()`: A method that returns the area of the current rectangle.\n",
    "    - `is_square()`: A method that returns a boolean on whether the rectangle is a square.\n",
    "    - `from_tuple(tuple)`: A **class method** that takes in a tuple in the form `(width, height)` and returns an *instance* of a `Rectangle`."
   ]
  },
  {
   "cell_type": "code",
   "execution_count": null,
   "metadata": {},
   "outputs": [],
   "source": [
    "# Write your code here"
   ]
  },
  {
   "cell_type": "markdown",
   "metadata": {},
   "source": [
    "Test your class in **Exercise 09.06** by running the code below."
   ]
  },
  {
   "cell_type": "code",
   "execution_count": null,
   "metadata": {},
   "outputs": [],
   "source": [
    "# Create two instances of `Rectangle`s\n",
    "rect1 = Rectangle(12.3, 45.6)\n",
    "rect2 = Rectangle.from_tuple((1.23, 4.56))\n",
    "\n",
    "# Test setter and getter of `width` and `height`\n",
    "rect1.width = 7.89\n",
    "rect1.height = \"10.1112\"\n",
    "rect1.width = 13\n",
    "rect1.height = \"Fourteen\"\n",
    "print(rect1.width)\n",
    "print(rect1.height)\n",
    "\n",
    "rect2.width = None\n",
    "rect2.height = 1.23\n",
    "print(rect2.width)\n",
    "print(rect2.height)\n",
    "\n",
    "# Test other methods\n",
    "assert rect1.area() == 359.784, \"Incorrect area calculation\"\n",
    "assert rect2.area() == 1.5129, \"Incorrect area calculation\"\n",
    "assert Rectangle.calculate_area(3.14, 15.9) == 49.926, \"Incorrect area calculation\"\n",
    "\n",
    "assert rect1.is_square() is False, \"Incorrect `is_square` check\"\n",
    "assert rect2.is_square() is True, \"Incorrect `is_square` check\"\n",
    "\n",
    "print(\"All tests passed\")"
   ]
  },
  {
   "cell_type": "markdown",
   "metadata": {},
   "source": [
    "## Magic Methods / Dunder Methods"
   ]
  },
  {
   "cell_type": "markdown",
   "metadata": {},
   "source": [
    "Magic methods (or dunder methods) are special methods which have double underscores at the beginning and end of their names.\n",
    "They are also known as dunders.\n",
    "\n",
    "So far, the only one we have encountered is `__init__`, but there are several others. They are used to create functionality that can't be represented as a normal method.\n",
    "\n",
    "One common use of them is **operator overloading**.\n",
    "This means defining operators for custom classes that allow operators such as `+` and `*` to be used on them. An example magic method is `__add__` for `+`."
   ]
  },
  {
   "cell_type": "code",
   "execution_count": null,
   "metadata": {},
   "outputs": [],
   "source": [
    "# Custom pair class\n",
    "class MyPair:\n",
    "    # Constructor method (which is technically a magic method)\n",
    "    def __init__(self, elem1, elem2):\n",
    "        self.elem1 = elem1\n",
    "        self.elem2 = elem2\n",
    "\n",
    "    # Magic method for addition\n",
    "    def __add__(self, other):\n",
    "        \"\"\"Adds this pair (`self`) to the other pair (`other`) ELEMENT-WISE.\"\"\"\n",
    "        return MyPair(self.elem1 + other.elem1, self.elem2 + other.elem2)\n",
    "\n",
    "\n",
    "# Create two pairs\n",
    "pair1 = MyPair(1, 2)\n",
    "pair2 = MyPair(3, 4)\n",
    "\n",
    "# Add them together\n",
    "summed = pair1 + pair2  # We can do this directly now\n",
    "\n",
    "# Get the attributes of all three instances\n",
    "print(pair1.elem1, pair1.elem2)\n",
    "print(pair2.elem1, pair2.elem2)\n",
    "print(summed.elem1, summed.elem2)"
   ]
  },
  {
   "cell_type": "markdown",
   "metadata": {},
   "source": [
    "The `__add__` method allows for the definition of a custom behavior for the `+` operator in our class.\n",
    "As you can see, it adds the corresponding attributes of the objects and returns a new object, containing the result.\n",
    "Once it's defined, we can add two objects of the class together."
   ]
  },
  {
   "cell_type": "markdown",
   "metadata": {},
   "source": [
    "Two often used magic methods are the `__str__` and `__repr__` methods.\n",
    "- `__str__` returns a string. This method returns the **string representation** of the object.\n",
    "- `__repr__` also returns a string. This method returns a **unambiguous representation** of the object.\n",
    "\n",
    "To put it succintly, `__str__` returns a **human-readable** representation of the object, whereas `__repr__` returns a string representation of the object that **should not be confused or misinterpreted by the machine**.\n",
    "\n",
    "*Note: further discussion on `__str__` and `__repr__` can be found [on this StackOverflow thread](https://stackoverflow.com/a/2626364).*"
   ]
  },
  {
   "cell_type": "code",
   "execution_count": null,
   "metadata": {},
   "outputs": [],
   "source": [
    "# Custom pair class\n",
    "class MyPair:\n",
    "    # Constructor method (which is technically a magic method)\n",
    "    def __init__(self, elem1, elem2):\n",
    "        self.elem1 = elem1\n",
    "        self.elem2 = elem2\n",
    "\n",
    "    # Magic method for addition\n",
    "    def __add__(self, other):\n",
    "        \"\"\"Adds this pair (`self`) to the other pair (`other`) ELEMENT-WISE.\"\"\"\n",
    "        return MyPair(self.elem1 + other.elem1, self.elem2 + other.elem2)\n",
    "\n",
    "    # Magic methods `__str__` and `__repr__`\n",
    "    def __str__(self):\n",
    "        \"\"\"Returns a human-readable string representation of the pair\"\"\"\n",
    "        return f\"({self.elem1}, {self.elem2})\"\n",
    "    \n",
    "    def __repr__(self):\n",
    "        \"\"\"Returns an unambiguous string representation of the pair\"\"\"\n",
    "        return f\"MyPair({self.elem1}, {self.elem2})\"  # Sometimes we just follow the format of the constructor\n",
    "\n",
    "\n",
    "# Create two pairs\n",
    "pair1 = MyPair(1, 2)\n",
    "pair2 = MyPair(3, 4)\n",
    "\n",
    "# Add them together\n",
    "summed = pair1 + pair2\n",
    "\n",
    "# Get the representations of the pairs\n",
    "print(str(pair1))    # Note 1: `str` calls the `__str__` method in the `MyPair` class\n",
    "print(pair2)         # Note 2: `print` automatically calls `str` on the object\n",
    "\n",
    "print(repr(summed))  # Explictly call the `__repr__` method"
   ]
  },
  {
   "cell_type": "markdown",
   "metadata": {},
   "source": [
    "It should be noted that **if `__str__` is not implemented, then it will return the output of `__repr__`**."
   ]
  },
  {
   "cell_type": "markdown",
   "metadata": {},
   "source": [
    "**Exercise 09.07**: Copy your code from **Exercise 09.06** into the space provided below. In the new `Rectangle` class below, add two more *public* methods to it:\n",
    "- `__repr__` that returns a string in the format `Rectangle([WIDTH], [HEIGHT])`.\n",
    "- `__str__` that returns a string of the format `Rectangle with width [WIDTH] and height [HEIGHT]`."
   ]
  },
  {
   "cell_type": "code",
   "execution_count": null,
   "metadata": {},
   "outputs": [],
   "source": [
    "# Write your code here"
   ]
  },
  {
   "cell_type": "markdown",
   "metadata": {},
   "source": [
    "Test your updated `Rectangle` class in **Exercise 09.07** by running the code below."
   ]
  },
  {
   "cell_type": "code",
   "execution_count": null,
   "metadata": {},
   "outputs": [],
   "source": [
    "# Create two instances of `Rectangle`s\n",
    "rect1 = Rectangle(12.3, 45.6)\n",
    "rect2 = Rectangle.from_tuple((1.23, 4.56))\n",
    "\n",
    "# Test setter and getter of `width` and `height`\n",
    "rect1.width = 7.89\n",
    "rect1.height = \"10.1112\"\n",
    "print(rect1.width)\n",
    "print(rect1.height)\n",
    "\n",
    "rect2.width = None\n",
    "rect2.height = 1.23\n",
    "print(rect2.width)\n",
    "print(rect2.height)\n",
    "\n",
    "# Test other methods\n",
    "assert rect1.area() == 359.784, \"Incorrect area calculation\"\n",
    "assert rect2.area() == 1.5129, \"Incorrect area calculation\"\n",
    "assert Rectangle.calculate_area(3.14, 15.9) == 49.926, \"Incorrect area calculation\"\n",
    "\n",
    "assert rect1.is_square() is False, \"Incorrect `is_square` check\"\n",
    "assert rect2.is_square() is True, \"Incorrect `is_square` check\"\n",
    "\n",
    "assert str(rect1) == \"Rectangle with width 7.89 and height 45.6\", \"Incorrect `__str__` return value\"\n",
    "assert repr(rect2) == \"Rectangle(1.23, 1.23)\", \"Incorrect `__repr__` return value\"\n",
    "\n",
    "print(\"All tests passed\")"
   ]
  }
 ],
 "metadata": {
  "language_info": {
   "name": "python"
  }
 },
 "nbformat": 4,
 "nbformat_minor": 1
}
