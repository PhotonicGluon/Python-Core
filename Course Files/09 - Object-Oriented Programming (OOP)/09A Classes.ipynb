{
 "cells": [
  {
   "cell_type": "markdown",
   "metadata": {},
   "source": [
    "# 09 - Object-Oriented Programming (OOP)\n",
    "## 09A - Classes"
   ]
  },
  {
   "cell_type": "markdown",
   "metadata": {},
   "source": [
    "## Classes"
   ]
  },
  {
   "cell_type": "markdown",
   "metadata": {},
   "source": [
    "We have previously looked at two paradigms of programming - **imperative** (using statements, loops, and functions as subroutines), and **functional** (using pure functions and recursion).\n",
    "\n",
    "Another very popular paradigm is **Object-Oriented programming (OOP)**.\n",
    "Objects are created using **classes**, which are the focal point of OOP.\n",
    "A **class** describes what the object will be, but is <u>separate from the object itself</u>. In other words, a class can be described as *an object's blueprint, description, or definition*. **You can use the same class as a blueprint for creating multiple different objects.**\n",
    "\n",
    "Classes are created using the keyword `class` and an indented block, which contains *methods* (which are functions attributed to a certain class). Below is an example of a simple class and its objects."
   ]
  },
  {
   "cell_type": "code",
   "execution_count": null,
   "metadata": {},
   "outputs": [],
   "source": [
    "# Create a `Cat` class\n",
    "class Cat:\n",
    "    def __init__(self, colour, legs):  # Pass `colour` and `legs` as parameters\n",
    "        self.colour = colour  # Set `colour` attribute of `Cat` class\n",
    "        self.legs = legs      # Set `legs` attribute of `Cat` class\n",
    "\n",
    "\n",
    "# Define three objects (or instances) of the `Cat` class\n",
    "felix = Cat(\"ginger\", 4)\n",
    "rover = Cat(\"dog-colored\", 4)\n",
    "stumpy = Cat(\"brown\", 3)"
   ]
  },
  {
   "cell_type": "markdown",
   "metadata": {},
   "source": [
    "This code defines a class named `Cat`, which has two ***attributes***: `colour` and `legs`. Then the class is used to create **3** separate objects of that class, namely `felix`, `rover` and `stumpy`."
   ]
  },
  {
   "cell_type": "markdown",
   "metadata": {},
   "source": [
    "The `__init__` method is the most important method in a class. This is known as the **constructor method** of the class. It is called when an instance (object) of the class is created, using the class name as a function.\n",
    "\n",
    "__*Most* methods must have `self` as their first parameter__ (we'll talk about exceptions later). Although it isn't explicitly passed by the code you have written, **Python adds the `self` argument for you**; ___you do not need to include it when you call the methods___. Within a method definition, `self` refers to the instance calling the method.\n",
    "\n",
    "Instances of a class have attributes (**instance attributes**), which are pieces of data associated with them. In this example, `Cat` instances have attributes `colour` and `legs`. These can be accessed by **putting a dot**, and the attribute name after an instance. In an `__init__` method, `self.attribute` can therefore be used to set the initial value of an instance's attributes."
   ]
  },
  {
   "cell_type": "code",
   "execution_count": null,
   "metadata": {},
   "outputs": [],
   "source": [
    "# Create a `Cat` class\n",
    "class Cat:\n",
    "    def __init__(self, colour, legs):\n",
    "        self.colour = colour\n",
    "        self.legs = legs\n",
    "\n",
    "\n",
    "# Create one instance of that class\n",
    "felix = Cat(\"ginger\", 4)\n",
    "\n",
    "# Accessing the `colour` attribute of the `felix` object\n",
    "print(felix.colour)"
   ]
  },
  {
   "cell_type": "markdown",
   "metadata": {},
   "source": [
    "Classes can have other methods defined to add functionality to them.\n",
    "Remember that __*most* methods have `self` as their first parameter__.\n",
    "These methods are accessed using the same dot syntax as attributes.\n",
    "\n",
    "(It is worth repeating once again, __*most* methods have `self` as their first parameter__. Exceptions to this rule are when methods are **decorated** with *special functions* which will be addressed later. For now, **methods have `self` as their first parameter**.)"
   ]
  },
  {
   "cell_type": "code",
   "execution_count": null,
   "metadata": {},
   "outputs": [],
   "source": [
    "# Create a `Dog` class\n",
    "class Dog:\n",
    "    # Constructor method\n",
    "    def __init__(self, name, colour):\n",
    "        self.name = name\n",
    "        self.colour = colour\n",
    "    \n",
    "    # Another method - the `bark` method\n",
    "    def bark(self):  # The first parameter is `self`\n",
    "        print(\"Woof!\")\n",
    "    \n",
    "    def eat(self, food):  # The first parameter is `self`, second parameter is the food name\n",
    "        print(f\"{self.name.title()} eat {food.title()}\")  # We access the `name` attribute within the `eat` method\n",
    "    \n",
    "\n",
    "# Let's create a `Dog` object\n",
    "rover = Dog(\"Rover\", \"grey\")\n",
    "print(rover.name, rover.colour)  # Print `rover`'s attributes\n",
    "rover.bark()  # Call the `bark` method of `rover`; remember that `self` is passed by Python\n",
    "rover.eat(\"bone\")  # Call the `eat` method of `rover` with \"bone\" as an argument"
   ]
  },
  {
   "cell_type": "markdown",
   "metadata": {},
   "source": [
    "Classes can also have **class attributes**, created by assigning variables **within the body of the class**. These can be accessed either from instances of the class, or the class itself."
   ]
  },
  {
   "cell_type": "code",
   "execution_count": null,
   "metadata": {},
   "outputs": [],
   "source": [
    "# Create a `Dog` class\n",
    "class Dog:\n",
    "    # Class attributes are usually defined before methods, but it is just a convention, not a rule\n",
    "    legs = 4  # Number of legs that a dog has\n",
    "\n",
    "    # Constructor method\n",
    "    def __init__(self, name, colour):\n",
    "        self.name = name\n",
    "        self.colour = colour\n",
    "    \n",
    "    # Another method - the `bark` method\n",
    "    def bark(self):  # The first parameter is `self`\n",
    "        print(\"Woof!\")\n",
    "    \n",
    "    def eat(self, food):  # The first parameter is `self`, second parameter is the food name\n",
    "        print(f\"{self.name.title()} eat {food.title()}\")  # We access the `name` attribute within the `eat` method\n",
    "\n",
    "\n",
    "# Let's define a few instances of `Dog`\n",
    "rover = Dog(\"Rover\", \"grey\")\n",
    "fido = Dog(\"Fido\", \"brown\")\n",
    "\n",
    "# Note that every instance of a class will have the same value of the class attribute `legs`\n",
    "print(rover.name, rover.colour, rover.legs)\n",
    "print(fido.name, fido.colour, fido.legs)\n",
    "print(Dog.legs)  # We can also just access it like this"
   ]
  },
  {
   "cell_type": "markdown",
   "metadata": {},
   "source": [
    "Remember: **class attributes are shared by all instances of the class**. This means that changing the value of the class attribute in one instance **changes the value of that attribute for all instances**."
   ]
  },
  {
   "cell_type": "markdown",
   "metadata": {},
   "source": [
    "Trying to access an instance attribute that isn't defined (or a class attribute that is not defined) causes an `AttributeError`. This also applies when you call an undefined method."
   ]
  },
  {
   "cell_type": "code",
   "execution_count": null,
   "metadata": {},
   "outputs": [],
   "source": [
    "# Using the `Dog` class from above\n",
    "fido = Dog(\"Fido\", \"brown\")\n",
    "\n",
    "# print(fido.happiness)      # Uncomment to see the `AttributeError`\n",
    "# print(fido.roll_around())  # Uncomment to see the `AttributeError`\n",
    "# print(Dog.headcount)       # Uncomment to see the `AttributeError`"
   ]
  },
  {
   "cell_type": "markdown",
   "metadata": {},
   "source": [
    "**Exercise 09.01**: Create a `Rectangle` class.\n",
    "- It has the following **instance** attributes:\n",
    "    - `length`: The length of the rectangle.\n",
    "    - `height`: The height of the rectangle.\n",
    "- It has the following **class** attributes:\n",
    "    - `count`: Number of `Rectangle` objects that are created. Initial value is `0`. `count` should be incremented every time a new `Rectangle` object is created.\n",
    "- It has the following methods:\n",
    "    - `area()`: Returns the area of the rectangle. Area of the rectangle is given by `length * height`.\n",
    "    - `is_square()`: Returns a boolean on whether the rectangle is a square or not. The rectangle is a square if and only if `length = height`.\n",
    "\n",
    "Test your `Rectangle` class by:\n",
    "- Making three instances of `Rectangle`, namely `rectangle1`, `rectangle2`, and `square`.\n",
    "    - `rectangle1` has a length of `15` and a height of `12`.\n",
    "    - `rectangle2` has a length of `1.23` and a height of `4.56`.\n",
    "    - `square` has a length of `123.45` and a height of `123.45`.\n",
    "- Printing the values of:\n",
    "    - `rectangle1.length`\n",
    "    - `rectangle2.height`\n",
    "    - `square.count`\n",
    "    - `rectangle1.area()`\n",
    "    - `rectangle2.area()`\n",
    "    - `rectangle2.is_square()`\n",
    "    - `square.is_square()`\n",
    "    - `Rectangle.count`\n",
    "    \n",
    "*Note: update class attributes' values __within the class__ by doing `MyClass.class_attribute = new_value`.*"
   ]
  },
  {
   "cell_type": "code",
   "execution_count": null,
   "metadata": {},
   "outputs": [],
   "source": [
    "# Write your code here"
   ]
  },
  {
   "cell_type": "markdown",
   "metadata": {},
   "source": [
    "## Data Hiding"
   ]
  },
  {
   "cell_type": "markdown",
   "metadata": {},
   "source": [
    "\n",
    "A key part of object-oriented programming is **encapsulation**, which involves packaging of related variables and functions into a single easy-to-use object - an instance of a class.\n",
    "\n",
    "A related concept is **data hiding**, which states that implementation details of a class should be hidden, and a clean standard interface be presented for those who want to use the class.\n",
    "\n",
    "In other programming languages, this is usually done with **_private_ methods and attributes**, which block external access to certain methods and attributes in a class.\n",
    "\n",
    "The Python philosophy is slightly different. It is often stated as **\"we are all consenting adults here\"**, meaning that you shouldn't put arbitrary restrictions on accessing parts of a class. Hence there are **no ways of enforcing a method or attribute be strictly private**.\n",
    "\n",
    "However, there are ways to discourage people from accessing parts of a class, such as by denoting that it is an implementation detail, and should be used at their own risk."
   ]
  },
  {
   "cell_type": "markdown",
   "metadata": {},
   "source": [
    "**Weakly private** methods and attributes have **a single underscore** at the beginning.\n",
    "This signals that they are private, and shouldn't be used by external code. However, it is mostly only a convention, and does not stop external code from accessing them. \n",
    "Its only actual effect is that `from module_name import *` won't import variables that start with a single underscore."
   ]
  },
  {
   "cell_type": "code",
   "execution_count": null,
   "metadata": {},
   "outputs": [],
   "source": [
    "# Create a `Queue` class that mimics a queue data structure\n",
    "# (See https://en.m.wikipedia.org/wiki/Queue_(abstract_data_type))\n",
    "class Queue:\n",
    "    def __init__(self):\n",
    "        self._hiddenlist = []  # Make a weakly private attribute\n",
    "\n",
    "    def enqueue(self, item):\n",
    "        \"\"\"Enqueues the item at the BACK of the queue.\"\"\"\n",
    "        self._hiddenlist.insert(-1, item)\n",
    "\n",
    "    def dequeue(self):\n",
    "        \"\"\"Dequeues the item at the FRONT of the queue and returns it\"\"\"\n",
    "        item = self._hiddenlist.pop()  # `pop` removes the first element of the list and returns it\n",
    "        return item\n",
    "\n",
    "    def length(self):\n",
    "        \"\"\"Returns the length of the queue\"\"\"\n",
    "        return len(self._hiddenlist)\n",
    "\n",
    "\n",
    "# Perform some operations on the queue\n",
    "queue = Queue()\n",
    "queue.enqueue(1)\n",
    "queue.enqueue(2)\n",
    "queue.enqueue(3)\n",
    "\n",
    "# We can still access weakly private methods, although not advised to do so\n",
    "print(queue._hiddenlist)\n",
    "\n",
    "# Dequeue some items\n",
    "print(queue.dequeue())\n",
    "print(queue._hiddenlist)"
   ]
  },
  {
   "cell_type": "markdown",
   "metadata": {},
   "source": [
    "Strongly private methods and attributes have a **double underscore** (also known as a **dunder**) at the beginning of their names. This causes their names to be **mangled**, which means that they **can't be accessed from outside the class _easily_**.\n",
    "\n",
    "The purpose of this isn't to ensure that they are kept private, but to **avoid bugs** if there are *subclasses* that have methods or attributes with the same names (we'll cover more on subclasses in a later section of this module).\n",
    "\n",
    "Name mangled methods **can still be accessed externally, but by a different name**. The method `__privatemethod` of class `Spam` could be accessed externally with `_Spam__privatemethod`. Basically, Python tries to protect those members by changing the name intenally to include the class name."
   ]
  },
  {
   "cell_type": "code",
   "execution_count": null,
   "metadata": {},
   "outputs": [],
   "source": [
    "class Spam:\n",
    "    def __init__(self):\n",
    "        self.__egg = 7  # Notice the dunder\n",
    "\n",
    "    def print_egg(self):\n",
    "        print(self.__egg)  # Inside the class the attribute can still be accessed normally\n",
    "\n",
    "mySpam = Spam()\n",
    "mySpam.print_egg()  # Other methods still work fine\n",
    "print(mySpam._Spam__egg)  # To access a strongly private attribute we have to do this"
   ]
  },
  {
   "cell_type": "markdown",
   "metadata": {},
   "source": [
    "**Exercise 09.02**: Using code from **Exercise 09.01**, implement a new class `RectangleNew`. This new class is almost the same as `Rectangle`, but with a few changes:\n",
    "- Both `length` and `height` attributes are now *strongly* private. Create two new methods (`get_length()` and `get_height()`) to return these values.\n",
    "- The `count` class attribute is now *weakly* private.\n",
    "\n",
    "Test your `RectangleNew` class by:\n",
    "- Making three instances of `RectangleNew`, namely `rectangle1`, `rectangle2`, and `square`.\n",
    "    - `rectangle1` has a length of `15` and a height of `12`.\n",
    "    - `rectangle2` has a length of `1.23` and a height of `4.56`.\n",
    "    - `square` has a length of `123.45` and a height of `123.45`.\n",
    "- Printing the values of:\n",
    "    - `rectangle1.get_length()`\n",
    "    - `rectangle2.get_height()`\n",
    "    - `square._count`\n",
    "    - `rectangle1.area()`\n",
    "    - `rectangle2.area()`\n",
    "    - `rectangle2.is_square()`\n",
    "    - `square.is_square()`\n",
    "    - `RectangleNew._count`"
   ]
  },
  {
   "cell_type": "code",
   "execution_count": null,
   "metadata": {},
   "outputs": [],
   "source": [
    "# Write your code here"
   ]
  },
  {
   "cell_type": "markdown",
   "metadata": {},
   "source": [
    "## Properties"
   ]
  },
  {
   "cell_type": "markdown",
   "metadata": {},
   "source": [
    "Properties provide a way of customizing access to instance attributes.\n",
    "They are created by putting the `property` decorator above a method, which means when the instance attribute with the same name as the method is accessed, the method will be called instead.\n",
    "\n",
    "One common use of a property is to make an attribute read-only."
   ]
  },
  {
   "cell_type": "code",
   "execution_count": null,
   "metadata": {},
   "outputs": [],
   "source": [
    "# Define a `Pizza` class\n",
    "class Pizza:\n",
    "    def __init__(self, topings):\n",
    "        self.topings = topings\n",
    "\n",
    "    @property\n",
    "    def has_onion(self):\n",
    "        return False\n",
    "\n",
    "\n",
    "# Test out the class\n",
    "pizza = Pizza([\"cheese\", \"tomato\"])\n",
    "print(pizza.topings)\n",
    "print(pizza.has_onion)\n",
    "# pizza.has_onion = True  # Raises an `AttributeError`"
   ]
  },
  {
   "cell_type": "markdown",
   "metadata": {},
   "source": [
    "Properties can also be set by defining **setter/getter** functions.\n",
    "The setter function sets the corresponding property's value.\n",
    "The getter gets the value.\n",
    "\n",
    "To define a setter, you need to use a decorator of the same name as the property, followed by a dot and the setter keyword.\n",
    "The same applies to defining getter functions."
   ]
  },
  {
   "cell_type": "code",
   "execution_count": null,
   "metadata": {},
   "outputs": [],
   "source": [
    "# Define a `Pizza` class\n",
    "class Pizza:\n",
    "    def __init__(self, topings):\n",
    "        self.topings = topings\n",
    "        self._has_onion = False  # Now we have a weakly private attribute\n",
    "\n",
    "    @property\n",
    "    def has_onion(self):\n",
    "        return self._has_onion\n",
    "\n",
    "    @has_onion.setter\n",
    "    def has_onion(self, value):\n",
    "        # Check if value is a boolean\n",
    "        if value is True or value is False:\n",
    "            self._has_onion = value\n",
    "        else:\n",
    "            print(f\"Invalid value {value}\")\n",
    "\n",
    "\n",
    "# Test out the class\n",
    "pizza = Pizza([\"cheese\", \"tomato\"])\n",
    "print(pizza.topings)\n",
    "print(pizza.has_onion)\n",
    "\n",
    "pizza.has_onion = True\n",
    "print(pizza.has_onion)\n",
    "\n",
    "pizza.has_onion = \"No!!!\"\n",
    "print(pizza.has_onion)"
   ]
  },
  {
   "cell_type": "markdown",
   "metadata": {},
   "source": [
    "**Exercise 09.03**: Using code from **Exercise 09.02**, implement a new class `RectangleNew2`. This new class is almost the same as `RectangleNew`, but with a few changes:\n",
    "- Both `length` and `height` attributes must be accessed through the use of properties (that is, the properties `length` and `height` must be created).\n",
    "- The setter method of both `length` and `height` **must validate** that the value is a non-negative number. **Assume that the value to be set is already a number.** If the value is invalid, **print** `Invalid Value`. Otherwise, **print**:\n",
    "    - `Length set to [NEW LENGTH]` if the value of `length` is being set\n",
    "    - `Height set to [NEW HEIGHT]` if the value of `height` is being set\n",
    "- The initial value that is being set in the constructor **must also be validated**. **Assume that the value to be set is already a number**.\n",
    "\n",
    "Test your `RectangleNew2` class by:\n",
    "- Making three instances of `RectangleNew2`, namely `rectangle1`, `rectangle2`, and `square`.\n",
    "    - `rectangle1` has a length of `1` and a height of `12`.\n",
    "    - `rectangle2` has a length of `1.23` and a height of `0.12`.\n",
    "    - `square` has a length of `123.45` and a height of `123.45`.\n",
    "- Running the following code:\n",
    "    ```python\n",
    "    rectangle1.length = 0\n",
    "    rectangle1.length = -1\n",
    "    rectangle1.length = 15\n",
    "    rectangle2.height = 0\n",
    "    rectangle2.height = -1.23\n",
    "    rectangle2.height = 4.56\n",
    "    ```\n",
    "- Printing the values of:\n",
    "    - `rectangle1.length`\n",
    "    - `rectangle2.height`\n",
    "    - `square._count`\n",
    "    - `rectangle1.area()`\n",
    "    - `rectangle2.area()`"
   ]
  },
  {
   "cell_type": "code",
   "execution_count": null,
   "metadata": {},
   "outputs": [],
   "source": [
    "# Write your code here"
   ]
  }
 ],
 "metadata": {
  "kernelspec": {
   "display_name": "Python 3 (ipykernel)",
   "language": "python",
   "name": "python3"
  },
  "language_info": {
   "codemirror_mode": {
    "name": "ipython",
    "version": 3
   },
   "file_extension": ".py",
   "mimetype": "text/x-python",
   "name": "python",
   "nbconvert_exporter": "python",
   "pygments_lexer": "ipython3",
   "version": "3.10.8"
  }
 },
 "nbformat": 4,
 "nbformat_minor": 4
}
