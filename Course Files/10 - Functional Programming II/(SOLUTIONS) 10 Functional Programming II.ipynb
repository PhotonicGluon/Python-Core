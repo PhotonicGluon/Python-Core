{
 "cells": [
  {
   "cell_type": "markdown",
   "metadata": {},
   "source": [
    "# 10 - Functional Programming II (SOLUTIONS)"
   ]
  },
  {
   "cell_type": "markdown",
   "metadata": {},
   "source": [
    "## `map` and `filter`"
   ]
  },
  {
   "cell_type": "markdown",
   "metadata": {},
   "source": [
    "The built-in functions `map` and `filter` are very useful higher-order functions that operate on lists (or similar objects called **iterables**).\n",
    "\n",
    "The function `map` takes a **function** and an **iterable** as arguments, and returns a **new iterable** with the *function applied to each argument*.\n",
    "\n",
    "*Note: to convert the result into a list, we need to use the `list` function explicitly.*"
   ]
  },
  {
   "cell_type": "code",
   "execution_count": 1,
   "metadata": {},
   "outputs": [
    {
     "name": "stdout",
     "output_type": "stream",
     "text": [
      "<map object at 0x10692ee80>\n",
      "[7, 8, 9, 10, 11, 12]\n",
      "(19, 20, 21, 22, 23, 24)\n"
     ]
    }
   ],
   "source": [
    "def add_six(x):  # This is not in a class, so no `self` parameter\n",
    "    return x + 6\n",
    "\n",
    "\n",
    "# Define iterables\n",
    "myList = [1, 2, 3, 4, 5, 6]\n",
    "myTuple = (13, 14, 15, 16, 17, 18)\n",
    "\n",
    "# Apply `map` function\n",
    "print(map(add_six, myList))          # Function comes before iterable\n",
    "print(list(map(add_six, myList)))    # Need to explicitly typecast to list\n",
    "print(tuple(map(add_six, myTuple)))  # Also works on tuples"
   ]
  },
  {
   "cell_type": "markdown",
   "metadata": {},
   "source": [
    "We could have achieved the same result more easily (and concisely) by using the `lambda` syntax for anonymous functions."
   ]
  },
  {
   "cell_type": "code",
   "execution_count": 2,
   "metadata": {},
   "outputs": [
    {
     "name": "stdout",
     "output_type": "stream",
     "text": [
      "[7, 8, 9, 10, 11, 12]\n"
     ]
    }
   ],
   "source": [
    "myList = [1, 2, 3, 4, 5, 6]\n",
    "print(list(map(lambda x: x + 6, myList)))"
   ]
  },
  {
   "cell_type": "markdown",
   "metadata": {},
   "source": [
    "The function `filter` filters an iterable by **removing items that don't match a predicate** (a function that returns a Boolean). Like `map`, the result has to be explicitly converted to a list if you want to print it."
   ]
  },
  {
   "cell_type": "code",
   "execution_count": 3,
   "metadata": {},
   "outputs": [
    {
     "name": "stdout",
     "output_type": "stream",
     "text": [
      "[2, 4, 6]\n"
     ]
    }
   ],
   "source": [
    "myList = [1, 2, 3, 4, 5, 6]\n",
    "print(list(filter(lambda x: x % 2 == 0, myList)))  # Returns items that are a multiple of 2"
   ]
  },
  {
   "cell_type": "markdown",
   "metadata": {},
   "source": [
    "**Exercise 10.01**: A list of numbers is provided below.\n",
    "```\n",
    "[90.031, 73.818, 62.491, 73.482, 12.559, 58.292, 48.371, 76.548, 33.823, 25.023]\n",
    "```\n",
    "After rounding every number in the list to the nearest whole number, print the resulting numbers that are a multiple of 7 in a list."
   ]
  },
  {
   "cell_type": "code",
   "execution_count": 4,
   "metadata": {},
   "outputs": [
    {
     "name": "stdout",
     "output_type": "stream",
     "text": [
      "[77]\n"
     ]
    }
   ],
   "source": [
    "myList = [90.031, 73.818, 62.491, 73.482, 12.559, 58.292, 48.371, 76.548, 33.823, 25.023]\n",
    "print(list(filter(lambda x: x % 7 == 0, map(round, myList))))"
   ]
  },
  {
   "cell_type": "markdown",
   "metadata": {},
   "source": [
    "## Generators"
   ]
  },
  {
   "cell_type": "markdown",
   "metadata": {},
   "source": [
    "Generators are a type of iterable, like lists or tuples. \n",
    "\n",
    "Unlike lists, they **don't allow indexing with arbitrary indices**, but they can still be iterated through with `for` loops. \n",
    "\n",
    "They can be created using **functions and the `yield` statement**. The `yield` statement is used to define a generator, replacing the `return` of a function to provide a result to its caller without destroying local variables."
   ]
  },
  {
   "cell_type": "code",
   "execution_count": 5,
   "metadata": {},
   "outputs": [
    {
     "name": "stdout",
     "output_type": "stream",
     "text": [
      "10\n",
      "9\n",
      "8\n",
      "7\n",
      "6\n",
      "5\n",
      "4\n",
      "3\n",
      "2\n",
      "1\n"
     ]
    }
   ],
   "source": [
    "# Define a generator\n",
    "def countdown(n):\n",
    "    index = n\n",
    "    while index > 0:\n",
    "        yield index\n",
    "        index -= 1\n",
    "\n",
    "\n",
    "# Using the generator\n",
    "for i in countdown(10):  # Remember, generators are like iterables\n",
    "    print(i)"
   ]
  },
  {
   "cell_type": "markdown",
   "metadata": {},
   "source": [
    "Due to the fact that they yield one item at a time, generators **don't have the memory restrictions of lists**.\n",
    "\n",
    "In fact, they can be infinite!"
   ]
  },
  {
   "cell_type": "code",
   "execution_count": 6,
   "metadata": {},
   "outputs": [
    {
     "name": "stdout",
     "output_type": "stream",
     "text": [
      "POWER!\n",
      "POWER!\n",
      "POWER!\n",
      "POWER!\n",
      "POWER!\n",
      "POWER!\n",
      "POWER!\n",
      "POWER!\n",
      "POWER!\n",
      "POWER!\n"
     ]
    }
   ],
   "source": [
    "def unlimited_power():\n",
    "    while True:\n",
    "        yield \"POWER!\"\n",
    "\n",
    "\n",
    "# In practice they can be infinite, but for demonstration we will limit to 10\n",
    "count = 0\n",
    "for elem in unlimited_power():\n",
    "    print(elem)\n",
    "    count += 1\n",
    "\n",
    "    if count == 10:  # To keep our sanity\n",
    "        break"
   ]
  },
  {
   "cell_type": "markdown",
   "metadata": {},
   "source": [
    "Finite generators can be converted into lists by passing them as arguments to the list function."
   ]
  },
  {
   "cell_type": "code",
   "execution_count": 7,
   "metadata": {},
   "outputs": [
    {
     "name": "stdout",
     "output_type": "stream",
     "text": [
      "[20, 20, 20, 20, 20, 20, 20, 20, 20, 20]\n"
     ]
    }
   ],
   "source": [
    "def even_numbers(n):\n",
    "    for i in range(n):\n",
    "        yield 2 * n\n",
    "\n",
    "\n",
    "# Convert generator to list\n",
    "myNums = list(even_numbers(10))  # List of the first 10 even numbers\n",
    "print(myNums)"
   ]
  },
  {
   "cell_type": "markdown",
   "metadata": {},
   "source": [
    "Using generators results in improved performance, which is the result of the lazy (on demand) generation of values, which translates to lower memory usage. Furthermore, we do not need to wait until all the elements have been generated before we start to use them."
   ]
  },
  {
   "cell_type": "markdown",
   "metadata": {},
   "source": [
    "**Exercise 10.02**: Write code that makes a generator that gradually builds up a word.\n",
    "\n",
    "For example, if the word is `spams`, the generator should first output `s`, then `sp`, then `spa`, then `spam`, and finally `spams`."
   ]
  },
  {
   "cell_type": "code",
   "execution_count": 8,
   "metadata": {},
   "outputs": [
    {
     "name": "stdout",
     "output_type": "stream",
     "text": [
      "['s', 'sp', 'spa', 'spam', 'spams']\n"
     ]
    }
   ],
   "source": [
    "# Create the generator\n",
    "def build_up_word(word):\n",
    "    for i in range(1, len(word) + 1):\n",
    "        yield word[:i]\n",
    "\n",
    "\n",
    "# Test the generator\n",
    "print(list(build_up_word(\"spams\")))"
   ]
  },
  {
   "cell_type": "markdown",
   "metadata": {},
   "source": [
    "## Sets"
   ]
  },
  {
   "cell_type": "markdown",
   "metadata": {},
   "source": [
    "Sets are data structures, similar to lists or dictionaries. They are created using curly braces, or the `set` function (preferred). They share some functionality with lists, such as the use of `in` to check whether they contain a particular item.\n",
    "\n",
    "Basic uses of sets include membership testing and the elimination of duplicate entries."
   ]
  },
  {
   "cell_type": "code",
   "execution_count": 9,
   "metadata": {},
   "outputs": [
    {
     "name": "stdout",
     "output_type": "stream",
     "text": [
      "True\n",
      "False\n"
     ]
    }
   ],
   "source": [
    "set1 = {1, 2, 3}\n",
    "set2 = {4, 5, 6, 7}\n",
    "set3 = set([1, 2, 3])  # We convert from a list to a set\n",
    "set4 = set([4, 5, 6, 7])\n",
    "\n",
    "# Be warned!\n",
    "set5 = set()    # Is an empty set\n",
    "set6Maybe = {}  # Is an empty DICTIONARY\n",
    "\n",
    "# Check if element is in set\n",
    "print(1 in set1)\n",
    "print(2 in set2)"
   ]
  },
  {
   "cell_type": "markdown",
   "metadata": {},
   "source": [
    "Sets differ from lists in several ways, but share several list operations such as `len`. \n",
    "They are **unordered**, which means that they **can't be indexed**.\n",
    "\n",
    "They **cannot contain duplicate elements**. Any duplicate elements that are present during the creation of the set will be removed.\n",
    "\n",
    "Due to the way they're stored, it's **faster** to check whether an item is part of a set, rather than part of a list.\n",
    "\n",
    "Instead of using `append` to add to a set, use `add`. To remove an element from a set, use the `remove` method."
   ]
  },
  {
   "cell_type": "code",
   "execution_count": 10,
   "metadata": {},
   "outputs": [
    {
     "name": "stdout",
     "output_type": "stream",
     "text": [
      "{1, 2, 3, 4, 5, 6, 9}\n",
      "{1, 2, 3, 4, 5, 6, 7, 9}\n",
      "{1, 2, 4, 5, 6, 7, 9}\n"
     ]
    }
   ],
   "source": [
    "# Converting a list to a set\n",
    "myList = [3, 1, 4, 1, 5, 9, 2, 6, 5, 3, 2, 9]\n",
    "mySet = set(myList)\n",
    "print(mySet)\n",
    "\n",
    "# Adding and removing\n",
    "mySet.add(7)\n",
    "print(mySet)\n",
    "\n",
    "mySet.remove(3)\n",
    "print(mySet)"
   ]
  },
  {
   "cell_type": "markdown",
   "metadata": {},
   "source": [
    "Sets can be combined using mathematical operations.\n",
    "- Adding two sets together (taking their **union**) can be done by using the `union` method. <img src=\"images/set-union.png\" width=300>\n",
    "- Finding the intersection of two sets can be done by using the `intersection` method. <img src=\"images/set-intersection.png\" width=300>\n",
    "- Finding the difference of two sets can be done by using the `difference` method. <img src=\"images/set-difference.png\" width=300>\n",
    "    - Mathematically, the difference of set $B$ from set $A$ is denoted by $A \\setminus B$.\n",
    "- Finding the symmetric difference of two sets can be done by using the `symmetric_difference` method. <img src=\"images/set-symmetric-difference.png\" width=300>\n",
    "    - Mathematically, this returns the set $(A \\cup B) \\setminus (A \\cap B)$, i.e. `(A.union(B)).difference(A.intersect(B))`."
   ]
  },
  {
   "cell_type": "code",
   "execution_count": 11,
   "metadata": {},
   "outputs": [
    {
     "name": "stdout",
     "output_type": "stream",
     "text": [
      "{1, 2, 3, 4, 5, 6, 7, 8} {1, 2, 3, 4, 5, 6, 7, 8}\n",
      "{4, 5} {4, 5}\n",
      "{1, 2, 3} {8, 6, 7}\n",
      "{1, 2, 3, 6, 7, 8} {1, 2, 3, 6, 7, 8}\n"
     ]
    }
   ],
   "source": [
    "# Define two sets\n",
    "A = {1, 2, 3, 4, 5}\n",
    "B = {4, 5, 6, 7, 8}\n",
    "\n",
    "# Output the different set operations\n",
    "print(A.union(B), B.union(A))\n",
    "print(A.intersection(B), B.intersection(A))\n",
    "print(A.difference(B), B.difference(A))\n",
    "print(A.symmetric_difference(B), B.symmetric_difference(A))"
   ]
  },
  {
   "cell_type": "markdown",
   "metadata": {},
   "source": [
    "**Exercise 10.03**:\n",
    "1. Write a function that:\n",
    "    - Takes two sets, `set1` and `set2`, as arguments\n",
    "    - Outputs a set of elements that are present in `set1` but not in `set2`\n",
    "   \n",
    "   Test your function by considering `set1 = {1, 2, 3, 4, 5}` and `set2 = {3, 4, 5, 6, 7}`.\n",
    "2. Write a function that:\n",
    "    - Takes two sets, `set1` and `set2`, as arguments\n",
    "    - Returns a boolean on whether there are any common elements in both `set1` and `set2` (return `True` if yes; `False` if no)\n",
    "   \n",
    "   Test your function by considering the following sets:\n",
    "    - `set1 = {1, 2, 3}` and `set2 = {4, 5, 6}`\n",
    "    - `set1 = {1, 2, 3, 4}` and `set2 = {4, 5, 6, 7}`\n",
    "3. Write a function that:\n",
    "    - Accepts an unspecified number of sets as input\n",
    "    - Returns the intersection of all the sets\n",
    "   \n",
    "   Test your function by considering the following sets:\n",
    "    - `{1, 2, 3, 4, 5}` and `{1, 2, 3, 4}`\n",
    "    - `{\"A\", \"B\", \"C\"}`, `{\"B\", \"C\", \"D\"}`, and `{\"C\", \"D\", \"E\"}`\n",
    "    - `{1}`, `{1}`, `{1}`, `{1, 2}`, `{1, 1, 2, 3}`, and `{1, 5, 9, 11}`"
   ]
  },
  {
   "cell_type": "code",
   "execution_count": 12,
   "metadata": {},
   "outputs": [
    {
     "name": "stdout",
     "output_type": "stream",
     "text": [
      "{1, 2}\n",
      "False\n",
      "True\n",
      "{1, 2, 3, 4}\n",
      "{'C'}\n",
      "{1}\n"
     ]
    }
   ],
   "source": [
    "# Part 1\n",
    "def present_only_in_set_1(set1, set2):\n",
    "    return set1.difference(set2)\n",
    "\n",
    "\n",
    "print(present_only_in_set_1({1, 2, 3, 4, 5}, {3, 4, 5, 6, 7}))\n",
    "\n",
    "# Part 2\n",
    "def has_common_elements(set1, set2):\n",
    "    return len(set1.intersection(set2)) != 0  # Intersection of sets (i.e. elements that are common) is not empty\n",
    "\n",
    "\n",
    "print(has_common_elements({1, 2, 3}, {4, 5, 6}))\n",
    "print(has_common_elements({1, 2, 3, 4}, {4, 5, 6, 7}))\n",
    "\n",
    "# Part 3\n",
    "def intersection_of_all(*sets):  # Similar to `*args`, this returns a tuple of sets\n",
    "    final_intersection = sets[0]  # Assume non-zero number of sets was entered\n",
    "    \n",
    "    for set_ in sets[1:]:  # Can skip first element as it is already in the `final_intersection`\n",
    "        final_intersection = final_intersection.intersection(set_)\n",
    "        \n",
    "    return final_intersection\n",
    "\n",
    "\n",
    "print(intersection_of_all({1, 2, 3, 4, 5}, {1, 2, 3, 4}))\n",
    "print(intersection_of_all({\"A\", \"B\", \"C\"}, {\"B\", \"C\", \"D\"}, {\"C\", \"D\", \"E\"}))\n",
    "print(intersection_of_all({1}, {1}, {1}, {1, 2}, {1, 1, 2, 3}, {1, 5, 9, 11}))"
   ]
  },
  {
   "cell_type": "markdown",
   "metadata": {},
   "source": [
    "As we have seen in the previous lessons, Python supports the following data structures: lists, dictionaries, tuples, sets.\n",
    "\n",
    "When to use a dictionary:\n",
    "- When you need a logical association between a key-value pair.\n",
    "- When you need fast lookup for your data, based on a custom key.\n",
    "- When your data is being constantly modified. Remember, dictionaries are mutable.\n",
    "\n",
    "When to use the other types:\n",
    "- Use lists if you have a collection of data that does not need random access. Try to choose lists when you need a simple, iterable collection that is modified frequently.\n",
    "- Use a set if you need uniqueness for the elements.\n",
    "- Use tuples when your data cannot change.\n",
    "\n",
    "Many times, a tuple is used in combination with a dictionary, for example, a tuple might represent a key, because it's immutable."
   ]
  },
  {
   "cell_type": "markdown",
   "metadata": {},
   "source": [
    "## Introduction to `itertools`"
   ]
  },
  {
   "cell_type": "markdown",
   "metadata": {},
   "source": [
    "The module `itertools` is a standard library that contains several functions that are useful in functional programming.\n",
    "\n",
    "One type of function it produces is infinite iterators. These are all **generators**.\n",
    "- The function `count` counts up infinitely from a value.\n",
    "- The function `cycle` infinitely iterates through an iterable (for instance a list or string).\n",
    "- The function `repeat` repeats an object, either infinitely or a specific number of times."
   ]
  },
  {
   "cell_type": "code",
   "execution_count": 13,
   "metadata": {},
   "outputs": [
    {
     "name": "stdout",
     "output_type": "stream",
     "text": [
      "3\n",
      "4\n",
      "5\n",
      "6\n",
      "7\n",
      "8\n",
      "9\n",
      "10\n",
      "\n",
      "A\n",
      "B\n",
      "C\n",
      "D\n",
      "E\n",
      "A\n",
      "B\n",
      "C\n",
      "D\n",
      "E\n",
      "A\n",
      "\n",
      "POWER\n",
      "POWER\n",
      "POWER\n",
      "POWER\n",
      "POWER\n",
      "POWER\n"
     ]
    }
   ],
   "source": [
    "# Importing `itertools`\n",
    "import itertools\n",
    "\n",
    "# Count function\n",
    "for i in itertools.count(3):  # Start counting from 3 and up\n",
    "    print(i)\n",
    "    if i == 10:  # Terminate once `i` is 10\n",
    "        break\n",
    "\n",
    "print()\n",
    "\n",
    "# Cycle function\n",
    "for i, elem in enumerate(itertools.cycle([\"A\", \"B\", \"C\", \"D\", \"E\"])):  # Remember what `enumerate` does?\n",
    "    print(elem)\n",
    "    if i == 10:\n",
    "        break\n",
    "\n",
    "print()\n",
    "\n",
    "# Repeat function\n",
    "for val in itertools.repeat(\"POWER\", 6):  # Repeat 6 times\n",
    "    print(val)"
   ]
  },
  {
   "cell_type": "markdown",
   "metadata": {},
   "source": [
    "There are also several combinatoric functions in `itertools`, such as [`product`](https://docs.python.org/3/library/itertools.html#itertools.product) and [`permutations`](https://docs.python.org/3/library/itertools.html#itertools.permutations). These are used when you want to accomplish a task with all possible combinations of some items."
   ]
  },
  {
   "cell_type": "code",
   "execution_count": 14,
   "metadata": {},
   "outputs": [
    {
     "name": "stdout",
     "output_type": "stream",
     "text": [
      "[('A', 'X'), ('A', 'Y'), ('A', 'Z'), ('B', 'X'), ('B', 'Y'), ('B', 'Z'), ('C', 'X'), ('C', 'Y'), ('C', 'Z'), ('D', 'X'), ('D', 'Y'), ('D', 'Z')]\n",
      "[('A', 'A'), ('A', 'B'), ('A', 'C'), ('B', 'A'), ('B', 'B'), ('B', 'C'), ('C', 'A'), ('C', 'B'), ('C', 'C')]\n",
      "\n",
      "[('A', 'B'), ('A', 'C'), ('B', 'A'), ('B', 'C'), ('C', 'A'), ('C', 'B')]\n",
      "[(0, 1, 2, 3), (0, 1, 3, 2), (0, 2, 1, 3), (0, 2, 3, 1), (0, 3, 1, 2), (0, 3, 2, 1), (1, 0, 2, 3), (1, 0, 3, 2), (1, 2, 0, 3), (1, 2, 3, 0), (1, 3, 0, 2), (1, 3, 2, 0), (2, 0, 1, 3), (2, 0, 3, 1), (2, 1, 0, 3), (2, 1, 3, 0), (2, 3, 0, 1), (2, 3, 1, 0), (3, 0, 1, 2), (3, 0, 2, 1), (3, 1, 0, 2), (3, 1, 2, 0), (3, 2, 0, 1), (3, 2, 1, 0)]\n"
     ]
    }
   ],
   "source": [
    "# Importing `itertools`\n",
    "import itertools\n",
    "\n",
    "# The (cartesian) product function\n",
    "print(list(itertools.product(\"ABCD\", \"XYZ\")))\n",
    "print(list(itertools.product(\"ABC\", repeat=2)))\n",
    "print()\n",
    "\n",
    "# The permutations function\n",
    "print(list(itertools.permutations(\"ABC\", r=2)))  # No repeat elements present in each of the permutations\n",
    "print(list(itertools.permutations(range(4))))"
   ]
  },
  {
   "cell_type": "markdown",
   "metadata": {},
   "source": [
    "**Exercise 10.04**: Using `itertools`, write a function that creates the Cartesian product of two or more given lists and returns it as a list.\n",
    "\n",
    "Test your function with the following lists.\n",
    "- `[1, 2]` and `[3, 4, 5]`\n",
    "- `[6]`, `[7, 8, 9]`, and `[10, 11, 12, 13]`"
   ]
  },
  {
   "cell_type": "code",
   "execution_count": 15,
   "metadata": {},
   "outputs": [
    {
     "name": "stdout",
     "output_type": "stream",
     "text": [
      "[(1, 3), (1, 4), (1, 5), (2, 3), (2, 4), (2, 5)]\n",
      "[(6, 7, 10), (6, 7, 11), (6, 7, 12), (6, 7, 13), (6, 8, 10), (6, 8, 11), (6, 8, 12), (6, 8, 13), (6, 9, 10), (6, 9, 11), (6, 9, 12), (6, 9, 13)]\n"
     ]
    }
   ],
   "source": [
    "# Import the `itertools` libraries\n",
    "import itertools\n",
    "\n",
    "# Create the function\n",
    "def cartesian_product(*lists):\n",
    "    # Reading the documentation for `itertools.product`, we can just do this:\n",
    "    return list(itertools.product(*lists))\n",
    "\n",
    "\n",
    "# Test the function\n",
    "print(cartesian_product([1, 2], [3, 4, 5]))\n",
    "print(cartesian_product([6], [7, 8, 9], [10, 11, 12, 13]))"
   ]
  }
 ],
 "metadata": {
  "language_info": {
   "name": "python"
  }
 },
 "nbformat": 4,
 "nbformat_minor": 1
}
