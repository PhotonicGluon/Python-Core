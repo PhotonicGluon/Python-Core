{
 "cells": [
  {
   "cell_type": "markdown",
   "metadata": {},
   "source": [
    "# 10 - Functional Programming II"
   ]
  },
  {
   "cell_type": "markdown",
   "metadata": {},
   "source": [
    "## `map` and `filter`"
   ]
  },
  {
   "cell_type": "markdown",
   "metadata": {},
   "source": [
    "The built-in functions `map` and `filter` are very useful higher-order functions that operate on lists (or similar objects called **iterables**).\n",
    "\n",
    "The function `map` takes a **function** and an **iterable** as arguments, and returns a **new iterable** with the *function applied to each argument*.\n",
    "\n",
    "*Note: to convert the result into a list, we need to use the `list` function explicitly.*"
   ]
  },
  {
   "cell_type": "code",
   "execution_count": null,
   "metadata": {},
   "outputs": [],
   "source": [
    "def add_six(x):  # This is not in a class, so no `self` parameter\n",
    "    return x + 6\n",
    "\n",
    "\n",
    "# Define iterables\n",
    "myList = [1, 2, 3, 4, 5, 6]\n",
    "myTuple = (13, 14, 15, 16, 17, 18)\n",
    "\n",
    "# Apply `map` function\n",
    "print(map(add_six, myList))          # Function comes before iterable\n",
    "print(list(map(add_six, myList)))    # Need to explicitly typecast to list\n",
    "print(tuple(map(add_six, myTuple)))  # Also works on tuples"
   ]
  },
  {
   "cell_type": "markdown",
   "metadata": {},
   "source": [
    "We could have achieved the same result more easily (and concisely) by using the `lambda` syntax for anonymous functions."
   ]
  },
  {
   "cell_type": "code",
   "execution_count": null,
   "metadata": {},
   "outputs": [],
   "source": [
    "myList = [1, 2, 3, 4, 5, 6]\n",
    "print(list(map(lambda x: x + 6, myList)))"
   ]
  },
  {
   "cell_type": "markdown",
   "metadata": {},
   "source": [
    "The function `filter` filters an iterable by **removing items that don't match a predicate** (a function that returns a Boolean). Like `map`, the result has to be explicitly converted to a list if you want to print it."
   ]
  },
  {
   "cell_type": "code",
   "execution_count": null,
   "metadata": {},
   "outputs": [],
   "source": [
    "myList = [1, 2, 3, 4, 5, 6]\n",
    "print(list(filter(lambda x: x % 2 == 0, myList)))  # Returns items that are a multiple of 2"
   ]
  },
  {
   "cell_type": "markdown",
   "metadata": {},
   "source": [
    "**Exercise 10.01**: A list of numbers is provided below.\n",
    "```\n",
    "[90.031, 73.818, 62.491, 73.482, 12.559, 58.292, 48.371, 76.548, 33.823, 25.023]\n",
    "```\n",
    "After rounding every number in the list to the nearest whole number, print the resulting numbers that are a multiple of 7 in a list."
   ]
  },
  {
   "cell_type": "code",
   "execution_count": null,
   "metadata": {},
   "outputs": [],
   "source": [
    "# Write your code here"
   ]
  },
  {
   "cell_type": "markdown",
   "metadata": {},
   "source": [
    "## Generators"
   ]
  },
  {
   "cell_type": "markdown",
   "metadata": {},
   "source": [
    "Generators are a type of iterable, like lists or tuples. \n",
    "\n",
    "Unlike lists, they **don't allow indexing with arbitrary indices**, but they can still be iterated through with `for` loops. \n",
    "\n",
    "They can be created using **functions and the `yield` statement**. The `yield` statement is used to define a generator, replacing the `return` of a function to provide a result to its caller without destroying local variables."
   ]
  },
  {
   "cell_type": "code",
   "execution_count": null,
   "metadata": {},
   "outputs": [],
   "source": [
    "# Define a generator\n",
    "def countdown(n):\n",
    "    index = n\n",
    "    while index > 0:\n",
    "        yield index\n",
    "        index -= 1\n",
    "\n",
    "\n",
    "# Using the generator\n",
    "for i in countdown(10):  # Remember, generators are like iterables\n",
    "    print(i)"
   ]
  },
  {
   "cell_type": "markdown",
   "metadata": {},
   "source": [
    "Due to the fact that they yield one item at a time, generators **don't have the memory restrictions of lists**.\n",
    "\n",
    "In fact, they can be infinite!"
   ]
  },
  {
   "cell_type": "code",
   "execution_count": null,
   "metadata": {},
   "outputs": [],
   "source": [
    "def unlimited_power():\n",
    "    while True:\n",
    "        yield \"POWER!\"\n",
    "\n",
    "\n",
    "# In practice they can be infinite, but for demonstration we will limit to 10\n",
    "count = 0\n",
    "for elem in unlimited_power():\n",
    "    print(elem)\n",
    "    count += 1\n",
    "\n",
    "    if count == 10:  # To keep our sanity\n",
    "        break"
   ]
  },
  {
   "cell_type": "markdown",
   "metadata": {},
   "source": [
    "Finite generators can be converted into lists by passing them as arguments to the list function."
   ]
  },
  {
   "cell_type": "code",
   "execution_count": null,
   "metadata": {},
   "outputs": [],
   "source": [
    "def even_numbers(n):\n",
    "    for i in range(n):\n",
    "        yield 2 * i\n",
    "\n",
    "\n",
    "# Convert generator to list\n",
    "myNums = list(even_numbers(10))  # List of the first 10 even numbers\n",
    "print(myNums)"
   ]
  },
  {
   "cell_type": "markdown",
   "metadata": {},
   "source": [
    "Using generators results in improved performance, which is the result of the lazy (on demand) generation of values, which translates to lower memory usage. Furthermore, we do not need to wait until all the elements have been generated before we start to use them."
   ]
  },
  {
   "cell_type": "markdown",
   "metadata": {},
   "source": [
    "**Exercise 10.02**: Write code that makes a generator that gradually builds up a word.\n",
    "\n",
    "For example, if the word is `spams`, the generator should first output `s`, then `sp`, then `spa`, then `spam`, and finally `spams`."
   ]
  },
  {
   "cell_type": "code",
   "execution_count": null,
   "metadata": {},
   "outputs": [],
   "source": [
    "# Write your code here"
   ]
  },
  {
   "cell_type": "markdown",
   "metadata": {},
   "source": [
    "## Sets"
   ]
  },
  {
   "cell_type": "markdown",
   "metadata": {},
   "source": [
    "Sets are data structures, similar to lists or dictionaries. They are created using curly braces, or the `set` function (preferred). They share some functionality with lists, such as the use of `in` to check whether they contain a particular item.\n",
    "\n",
    "Basic uses of sets include membership testing and the elimination of duplicate entries."
   ]
  },
  {
   "cell_type": "code",
   "execution_count": null,
   "metadata": {},
   "outputs": [],
   "source": [
    "set1 = {1, 2, 3}\n",
    "set2 = {4, 5, 6, 7}\n",
    "set3 = set([1, 2, 3])  # We convert from a list to a set\n",
    "set4 = set([4, 5, 6, 7])\n",
    "\n",
    "# Be warned!\n",
    "set5 = set()    # Is an empty set\n",
    "set6Maybe = {}  # Is an empty DICTIONARY\n",
    "\n",
    "# Check if element is in set\n",
    "print(1 in set1)\n",
    "print(2 in set2)"
   ]
  },
  {
   "cell_type": "markdown",
   "metadata": {},
   "source": [
    "Sets differ from lists in several ways, but share several list operations such as `len`. \n",
    "They are **unordered**, which means that they **can't be indexed**.\n",
    "\n",
    "They **cannot contain duplicate elements**. Any duplicate elements that are present during the creation of the set will be removed.\n",
    "\n",
    "Due to the way they're stored, it's **faster** to check whether an item is part of a set, rather than part of a list.\n",
    "\n",
    "Instead of using `append` to add to a set, use `add`. To remove an element from a set, use the `remove` method."
   ]
  },
  {
   "cell_type": "code",
   "execution_count": null,
   "metadata": {},
   "outputs": [],
   "source": [
    "# Converting a list to a set\n",
    "myList = [3, 1, 4, 1, 5, 9, 2, 6, 5, 3, 2, 9]\n",
    "mySet = set(myList)\n",
    "print(mySet)\n",
    "\n",
    "# Adding and removing\n",
    "mySet.add(7)\n",
    "print(mySet)\n",
    "\n",
    "mySet.remove(3)\n",
    "print(mySet)"
   ]
  },
  {
   "cell_type": "markdown",
   "metadata": {},
   "source": [
    "Sets can be combined using mathematical operations.\n",
    "- Adding two sets together (taking their **union**) can be done by using the `union` method. <img src=\"images/set-union.png\" width=300>\n",
    "- Finding the intersection of two sets can be done by using the `intersection` method. <img src=\"images/set-intersection.png\" width=300>\n",
    "- Finding the difference of two sets can be done by using the `difference` method. <img src=\"images/set-difference.png\" width=300>\n",
    "    - Mathematically, the difference of set $B$ from set $A$ is denoted by $A \\setminus B$.\n",
    "- Finding the symmetric difference of two sets can be done by using the `symmetric_difference` method. <img src=\"images/set-symmetric-difference.png\" width=300>\n",
    "    - Mathematically, this returns the set $(A \\cup B) \\setminus (A \\cap B)$, i.e. `(A.union(B)).difference(A.intersect(B))`."
   ]
  },
  {
   "cell_type": "code",
   "execution_count": null,
   "metadata": {},
   "outputs": [],
   "source": [
    "# Define two sets\n",
    "A = {1, 2, 3, 4, 5}\n",
    "B = {4, 5, 6, 7, 8}\n",
    "\n",
    "# Output the different set operations\n",
    "print(A.union(B), B.union(A))\n",
    "print(A.intersection(B), B.intersection(A))\n",
    "print(A.difference(B), B.difference(A))\n",
    "print(A.symmetric_difference(B), B.symmetric_difference(A))"
   ]
  },
  {
   "cell_type": "markdown",
   "metadata": {},
   "source": [
    "**Exercise 10.03**:\n",
    "1. Write a function that:\n",
    "    - Takes two sets, `set1` and `set2`, as arguments\n",
    "    - Outputs a set of elements that are present in `set1` but not in `set2`\n",
    "   \n",
    "   Test your function by considering `set1 = {1, 2, 3, 4, 5}` and `set2 = {3, 4, 5, 6, 7}`.\n",
    "2. Write a function that:\n",
    "    - Takes two sets, `set1` and `set2`, as arguments\n",
    "    - Returns a boolean on whether there are any common elements in both `set1` and `set2` (return `True` if yes; `False` if no)\n",
    "   \n",
    "   Test your function by considering the following sets:\n",
    "    - `set1 = {1, 2, 3}` and `set2 = {4, 5, 6}`\n",
    "    - `set1 = {1, 2, 3, 4}` and `set2 = {4, 5, 6, 7}`\n",
    "3. Write a function that:\n",
    "    - Accepts an unspecified number of sets as input\n",
    "    - Returns the intersection of all the sets\n",
    "   \n",
    "   Test your function by considering the following sets:\n",
    "    - `{1, 2, 3, 4, 5}` and `{1, 2, 3, 4}`\n",
    "    - `{\"A\", \"B\", \"C\"}`, `{\"B\", \"C\", \"D\"}`, and `{\"C\", \"D\", \"E\"}`\n",
    "    - `{1}`, `{1}`, `{1}`, `{1, 2}`, `{1, 1, 2, 3}`, and `{1, 5, 9, 11}`"
   ]
  },
  {
   "cell_type": "code",
   "execution_count": null,
   "metadata": {},
   "outputs": [],
   "source": [
    "# Write your code here"
   ]
  },
  {
   "cell_type": "markdown",
   "metadata": {},
   "source": [
    "As we have seen in the previous lessons, Python supports the following data structures: lists, dictionaries, tuples, sets.\n",
    "\n",
    "When to use a dictionary:\n",
    "- When you need a logical association between a key-value pair.\n",
    "- When you need fast lookup for your data, based on a custom key.\n",
    "- When your data is being constantly modified. Remember, dictionaries are mutable.\n",
    "\n",
    "When to use the other types:\n",
    "- Use lists if you have a collection of data that does not need random access. Try to choose lists when you need a simple, iterable collection that is modified frequently.\n",
    "- Use a set if you need uniqueness for the elements.\n",
    "- Use tuples when your data cannot change.\n",
    "\n",
    "Many times, a tuple is used in combination with a dictionary, for example, a tuple might represent a key, because it's immutable."
   ]
  },
  {
   "cell_type": "markdown",
   "metadata": {},
   "source": [
    "## Introduction to `itertools`"
   ]
  },
  {
   "cell_type": "markdown",
   "metadata": {},
   "source": [
    "The module `itertools` is a standard library that contains several functions that are useful in functional programming.\n",
    "\n",
    "One type of function it produces is infinite iterators. These are all **generators**.\n",
    "- The function `count` counts up infinitely from a value.\n",
    "- The function `cycle` infinitely iterates through an iterable (for instance a list or string).\n",
    "- The function `repeat` repeats an object, either infinitely or a specific number of times."
   ]
  },
  {
   "cell_type": "code",
   "execution_count": null,
   "metadata": {},
   "outputs": [],
   "source": [
    "# Importing `itertools`\n",
    "import itertools\n",
    "\n",
    "# Count function\n",
    "for i in itertools.count(3):  # Start counting from 3 and up\n",
    "    print(i)\n",
    "    if i == 10:  # Terminate once `i` is 10\n",
    "        break\n",
    "\n",
    "print()\n",
    "\n",
    "# Cycle function\n",
    "for i, elem in enumerate(itertools.cycle([\"A\", \"B\", \"C\", \"D\", \"E\"])):  # Remember what `enumerate` does?\n",
    "    print(elem)\n",
    "    if i == 10:\n",
    "        break\n",
    "\n",
    "print()\n",
    "\n",
    "# Repeat function\n",
    "for val in itertools.repeat(\"POWER\", 6):  # Repeat 6 times\n",
    "    print(val)"
   ]
  },
  {
   "cell_type": "markdown",
   "metadata": {},
   "source": [
    "There are also several combinatoric functions in `itertools`, such as [`product`](https://docs.python.org/3/library/itertools.html#itertools.product) and [`permutations`](https://docs.python.org/3/library/itertools.html#itertools.permutations). These are used when you want to accomplish a task with all possible combinations of some items."
   ]
  },
  {
   "cell_type": "code",
   "execution_count": null,
   "metadata": {},
   "outputs": [],
   "source": [
    "# Importing `itertools`\n",
    "import itertools\n",
    "\n",
    "# The (cartesian) product function\n",
    "print(list(itertools.product(\"ABCD\", \"XYZ\")))\n",
    "print(list(itertools.product(\"ABC\", repeat=2)))\n",
    "print()\n",
    "\n",
    "# The permutations function\n",
    "print(list(itertools.permutations(\"ABC\", r=2)))  # No repeat elements present in each of the permutations\n",
    "print(list(itertools.permutations(range(4))))"
   ]
  },
  {
   "cell_type": "markdown",
   "metadata": {},
   "source": [
    "**Exercise 10.04**: Using `itertools`, write a function that creates the Cartesian product of two or more given lists and returns it as a list.\n",
    "\n",
    "Test your function with the following lists.\n",
    "- `[1, 2]` and `[3, 4, 5]`\n",
    "- `[6]`, `[7, 8, 9]`, and `[10, 11, 12, 13]`"
   ]
  },
  {
   "cell_type": "code",
   "execution_count": null,
   "metadata": {},
   "outputs": [],
   "source": [
    "# Write your code here"
   ]
  }
 ],
 "metadata": {
  "kernelspec": {
   "display_name": "Python 3 (ipykernel)",
   "language": "python",
   "name": "python3"
  },
  "language_info": {
   "codemirror_mode": {
    "name": "ipython",
    "version": 3
   },
   "file_extension": ".py",
   "mimetype": "text/x-python",
   "name": "python",
   "nbconvert_exporter": "python",
   "pygments_lexer": "ipython3",
   "version": "3.10.8"
  }
 },
 "nbformat": 4,
 "nbformat_minor": 4
}
