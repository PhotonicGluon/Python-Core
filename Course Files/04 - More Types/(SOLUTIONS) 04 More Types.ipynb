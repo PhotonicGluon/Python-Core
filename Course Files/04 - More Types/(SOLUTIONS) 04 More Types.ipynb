{
 "cells": [
  {
   "cell_type": "markdown",
   "metadata": {},
   "source": [
    "# 04 - More Types (SOLUTIONS)"
   ]
  },
  {
   "cell_type": "markdown",
   "metadata": {},
   "source": [
    "## The `None` Type"
   ]
  },
  {
   "cell_type": "markdown",
   "metadata": {},
   "source": [
    "The `None` object is used to represent the absence of a value. It is similar to `null` in other programming languages.\n",
    "\n",
    "Like other \"empty\" values, such as `0`, `[]` and the empty string `\"\"`, it is `False` when converted to a Boolean variable.\n",
    "\n",
    "When entered at the Python console, it is displayed as `None`."
   ]
  },
  {
   "cell_type": "code",
   "execution_count": 1,
   "metadata": {},
   "outputs": [
    {
     "name": "stdout",
     "output_type": "stream",
     "text": [
      "None\n",
      "True\n",
      "False\n"
     ]
    }
   ],
   "source": [
    "myNone = None\n",
    "print(myNone)\n",
    "\n",
    "print(None == None)\n",
    "print(bool(None))"
   ]
  },
  {
   "cell_type": "markdown",
   "metadata": {},
   "source": [
    "## Tuples"
   ]
  },
  {
   "cell_type": "markdown",
   "metadata": {},
   "source": [
    "Tuples are very similar to lists, except that they are **immutable** (they cannot be changed). Also, they are created using parentheses (round brackets), rather than square brackets.\n",
    "\n",
    "You can access the values in the tuple with their index, just as you did with lists. **However, trying to reassign a value in a tuple causes a `TypeError`**."
   ]
  },
  {
   "cell_type": "code",
   "execution_count": 2,
   "metadata": {},
   "outputs": [
    {
     "name": "stdout",
     "output_type": "stream",
     "text": [
      "Foo\n",
      "Foo\n",
      "Spam\n",
      "Spam\n",
      "Eggs\n",
      "Eggs\n",
      "['Foo', 'Sausage', 'Spam', 'Eggs']\n"
     ]
    }
   ],
   "source": [
    "# Creating lists and tuples\n",
    "myList = [\"Foo\", \"Bar\", \"Spam\", \"Eggs\"]   # This is a list\n",
    "myTuple = (\"Foo\", \"Bar\", \"Spam\", \"Eggs\")  # This is a tuple\n",
    "\n",
    "# Accessing values in lists and tuples\n",
    "print(myList[0])    # Get first element in the list\n",
    "print(myTuple[0])   # Get first element in the tuple\n",
    "\n",
    "print(myList[2])    # Get second element in the list\n",
    "print(myTuple[2])   # Get second element in the tuple\n",
    "\n",
    "print(myList[-1])   # Get last element in the list\n",
    "print(myTuple[-1])  # Get last element in th tuple\n",
    "\n",
    "# We can only reassign values in lists, and not in tuples\n",
    "myList[1] = \"Sausage\"\n",
    "print(myList)\n",
    "\n",
    "# myTuple[1] = \"Sausage\"  # This is illegal and causes a `TypeError`\n",
    "# print(myTuple)"
   ]
  },
  {
   "cell_type": "markdown",
   "metadata": {},
   "source": [
    "Note that, like lists, tuples can be nested within each other."
   ]
  },
  {
   "cell_type": "code",
   "execution_count": 3,
   "metadata": {},
   "outputs": [
    {
     "name": "stdout",
     "output_type": "stream",
     "text": [
      "((1, 2), (3, 4), (5, 6), (7, 8))\n"
     ]
    }
   ],
   "source": [
    "nestedTuple = ((1, 2), (3, 4), (5, 6), (7, 8))\n",
    "print(nestedTuple)"
   ]
  },
  {
   "cell_type": "markdown",
   "metadata": {},
   "source": [
    "An empty tuple is created using an empty parenthesis pair."
   ]
  },
  {
   "cell_type": "code",
   "execution_count": 4,
   "metadata": {},
   "outputs": [
    {
     "name": "stdout",
     "output_type": "stream",
     "text": [
      "()\n"
     ]
    }
   ],
   "source": [
    "emptyTuple = ()\n",
    "print(emptyTuple)"
   ]
  },
  {
   "cell_type": "markdown",
   "metadata": {},
   "source": [
    "Tuples are commonly used if **reassignment of elements should be avoided**. For example, coordinates are usually created using tuples as changing a single ordinate in the coordinate is undesirable."
   ]
  },
  {
   "cell_type": "markdown",
   "metadata": {},
   "source": [
    "**Exercise 04.01**: Write a program that calculates the straight-line distance between the two points in 3D space.\n",
    "- The first point has coordinates $(-1, 6, 4)$.\n",
    "- The second point has coordinates $(-4, 10, -8)$.\n",
    "\n",
    "*Note: for two points $(x_1, y_1, z_1)$ and $(x_2, y_2, z_2)$, the straight-line distance between them is given by $$\\sqrt{(x_1-x_2)^2 + (y_1-y_2)^2+(z_1-z_2)^2}$$*"
   ]
  },
  {
   "cell_type": "code",
   "execution_count": 5,
   "metadata": {},
   "outputs": [
    {
     "name": "stdout",
     "output_type": "stream",
     "text": [
      "13.0\n"
     ]
    }
   ],
   "source": [
    "# Define the two points\n",
    "point1 = (-1, 6, 4)  # Using tuples\n",
    "point2 = (-4, 10, -8)\n",
    "\n",
    "# Calculate straight-line distance\n",
    "print(((point1[0] - point2[0])**2 + (point1[1] - point2[1])**2 + (point1[2] - point2[2])**2)**0.5)"
   ]
  },
  {
   "cell_type": "markdown",
   "metadata": {},
   "source": [
    "## Dictionaries"
   ]
  },
  {
   "cell_type": "markdown",
   "metadata": {},
   "source": [
    "Dictionaries are data structures used to map arbitrary keys to values.\n",
    "\n",
    "Each element in a dictionary is represented by a `key: value` pair.\n",
    "\n",
    "Dictionaries can be indexed in the same way as lists, using square brackets containing keys.\n",
    "\n",
    "Trying to index a key that isn't part of the dictionary returns a `KeyError`."
   ]
  },
  {
   "cell_type": "code",
   "execution_count": 6,
   "metadata": {},
   "outputs": [
    {
     "name": "stdout",
     "output_type": "stream",
     "text": [
      "23\n",
      "36\n",
      "45\n"
     ]
    }
   ],
   "source": [
    "ages = {\"Alex\": 23, \"Bob\": 36, \"Charlie\": 45}  # Elements are key-value pairs\n",
    "\n",
    "print(ages[\"Alex\"])  # Get the value associated with the key \"Alex\"\n",
    "print(ages[\"Bob\"])\n",
    "print(ages[\"Charlie\"])\n",
    "\n",
    "# print(ages[0])  # There is no key 0 so this doesn't work and raises a `KeyError`"
   ]
  },
  {
   "cell_type": "markdown",
   "metadata": {},
   "source": [
    "A dictionary can store any type of data as **values**."
   ]
  },
  {
   "cell_type": "code",
   "execution_count": 7,
   "metadata": {},
   "outputs": [
    {
     "name": "stdout",
     "output_type": "stream",
     "text": [
      "[255, 0, 0]\n",
      "[0, 255, 0]\n",
      "[0, 0, 255]\n"
     ]
    }
   ],
   "source": [
    "colors = {\n",
    "    \"red\":   [255, 0, 0],  # The value can be mutable\n",
    "    \"green\": [0, 255, 0],\n",
    "    \"blue\":  [0, 0, 255]\n",
    "}\n",
    "\n",
    "print(colors[\"red\"])\n",
    "print(colors[\"green\"])\n",
    "print(colors[\"blue\"])"
   ]
  },
  {
   "cell_type": "markdown",
   "metadata": {},
   "source": [
    "However, the **keys** of a dictionary are more restrictive. The keys of a dictionary must be **immutable** (i.e. non editable). Thus, the keys of a dictionary **cannot be lists, dictionaries, or sets** (explained later) as these are **mutable**.\n",
    "\n",
    "*Note: recall that strings are __immutable__ so they can be used as keys for dictionaries.*"
   ]
  },
  {
   "cell_type": "code",
   "execution_count": 8,
   "metadata": {},
   "outputs": [],
   "source": [
    "# Uncomment the following lines to see the errors that Python produces\n",
    "myDict = {\n",
    "    # [1, 2, 3]: \"List\",              # Key is a list - not acceptable\n",
    "    # {\"A\": 1, \"B\": 2}: \"Dictionary\"  # Key is a dictionary - not acceptable\n",
    "}"
   ]
  },
  {
   "cell_type": "markdown",
   "metadata": {},
   "source": [
    "An empty dictionary is defined as `{}` or `dict()` (preferred)."
   ]
  },
  {
   "cell_type": "code",
   "execution_count": 9,
   "metadata": {},
   "outputs": [
    {
     "name": "stdout",
     "output_type": "stream",
     "text": [
      "{}\n",
      "{}\n",
      "True\n"
     ]
    }
   ],
   "source": [
    "print({})\n",
    "print(dict())\n",
    "print(dict() == {})"
   ]
  },
  {
   "cell_type": "markdown",
   "metadata": {},
   "source": [
    "Just like lists, dictionary keys can be assigned to different values.\n",
    "\n",
    "However, unlike lists, a new dictionary key can also be assigned a value, not just ones that already exist."
   ]
  },
  {
   "cell_type": "code",
   "execution_count": 10,
   "metadata": {},
   "outputs": [
    {
     "name": "stdout",
     "output_type": "stream",
     "text": [
      "{1: 1, 2: 4, 3: 'Error', 4: 16, 5: 25}\n",
      "{1: 1, 2: 4, 3: 9, 4: 16, 5: 25}\n",
      "{1: 1, 2: 4, 3: 9, 4: 16, 5: 25, 8: 64}\n"
     ]
    }
   ],
   "source": [
    "squares = {1: 1, 2: 4, 3: \"Error\", 4: 16, 5: 25}\n",
    "print(squares)\n",
    "\n",
    "squares[3] = 9  # Assign the value of the element with key `3` to `9`\n",
    "print(squares)\n",
    "\n",
    "squares[8] = 64  # Make a new key-value pair of (8, 64)\n",
    "print(squares)"
   ]
  },
  {
   "cell_type": "markdown",
   "metadata": {},
   "source": [
    "To determine whether a **key** is in a dictionary, you can use `in` and `not in`, just as you can for a list."
   ]
  },
  {
   "cell_type": "code",
   "execution_count": 11,
   "metadata": {},
   "outputs": [
    {
     "name": "stdout",
     "output_type": "stream",
     "text": [
      "True\n",
      "False\n"
     ]
    }
   ],
   "source": [
    "ages = {\"Alex\": 23, \"Bob\": 36, \"Charlie\": 45}\n",
    "\n",
    "print(\"Alex\" in ages)  # Is the key \"Alex\" in `ages`?\n",
    "print(\"Dave\" in ages)  # Is the key \"Dave\" in `ages`?"
   ]
  },
  {
   "cell_type": "markdown",
   "metadata": {},
   "source": [
    "To get the **keys** of a dictionary, use the `.keys()` method of the dictionary. To get the **values** of a dictionary, use the `.values()` method of the dictionary.\n",
    "\n",
    "*Note: __none of the aforementioned methods returns a list__, so you will need to explicitly convert their outputs to a list to use list methods. However, you can __still perform `in` and `not in` on them__ without converting to a list*."
   ]
  },
  {
   "cell_type": "code",
   "execution_count": 12,
   "metadata": {},
   "outputs": [
    {
     "name": "stdout",
     "output_type": "stream",
     "text": [
      "['Alex', 'Bob', 'Charlie']\n",
      "[23, 36, 45]\n",
      "True\n",
      "True\n"
     ]
    }
   ],
   "source": [
    "ages = {\"Alex\": 23, \"Bob\": 36, \"Charlie\": 45}\n",
    "\n",
    "print(list(ages.keys()))\n",
    "print(list(ages.values()))\n",
    "\n",
    "print(\"Alex\" in ages.keys())  # Is \"Alex\" in the `ages`'s keys?\n",
    "print(36 in ages.values())    # Is 36 in the `ages`'s values?"
   ]
  },
  {
   "cell_type": "markdown",
   "metadata": {},
   "source": [
    "To get all the key-value pairs of a dictionary, we can use the `.items()` method. However, just like the other two methods, although `in` and `not in` can be used on it, **it is not a list**. Thus explicit conversion to a list is needed if you want it to be a list."
   ]
  },
  {
   "cell_type": "code",
   "execution_count": 13,
   "metadata": {},
   "outputs": [
    {
     "name": "stdout",
     "output_type": "stream",
     "text": [
      "dict_items([('Alex', 23), ('Bob', 36), ('Charlie', 45)])\n",
      "[('Alex', 23), ('Bob', 36), ('Charlie', 45)]\n"
     ]
    }
   ],
   "source": [
    "ages = {\"Alex\": 23, \"Bob\": 36, \"Charlie\": 45}\n",
    "\n",
    "print(ages.items())  # Not a list\n",
    "print(list(ages.items()))"
   ]
  },
  {
   "cell_type": "markdown",
   "metadata": {},
   "source": [
    "Running `list(dictionary.items())` returns a list of key-value pairs, where each key-value pair is in a **tuple**. The first item in the tuple is the key and the second item is the value.\n",
    "\n",
    "We can iterate through all key-value pairs by doing something like this:"
   ]
  },
  {
   "cell_type": "code",
   "execution_count": 14,
   "metadata": {},
   "outputs": [
    {
     "name": "stdout",
     "output_type": "stream",
     "text": [
      "Alex 23\n",
      "Bob 36\n",
      "Charlie 45\n",
      "Alex 23\n",
      "Bob 36\n",
      "Charlie 45\n"
     ]
    }
   ],
   "source": [
    "ages = {\"Alex\": 23, \"Bob\": 36, \"Charlie\": 45}\n",
    "\n",
    "for keyValuePair in ages.items():\n",
    "    print(keyValuePair[0], keyValuePair[1])  # Remember: index 0 is the key and index 1 is the value\n",
    "\n",
    "# A more concise way of doing that is this:\n",
    "for key, value in ages.items():  # Notice there are now two items before `in`\n",
    "    print(key, value)"
   ]
  },
  {
   "cell_type": "markdown",
   "metadata": {},
   "source": [
    "Another useful dictionary method is `get`. It does the same thing as indexing, but if the key is not found in the dictionary it returns another specified value instead (`None`, by default)."
   ]
  },
  {
   "cell_type": "code",
   "execution_count": 15,
   "metadata": {},
   "outputs": [
    {
     "name": "stdout",
     "output_type": "stream",
     "text": [
      "23\n",
      "None\n",
      "This is returned if not found\n"
     ]
    }
   ],
   "source": [
    "ages = {\"Alex\": 23, \"Bob\": 36, \"Charlie\": 45}\n",
    "\n",
    "print(ages.get(\"Alex\"))  # Get the value associated with key \"Alex\"\n",
    "print(ages.get(\"Dave\"))  # Get the value associated with key \"Dave\"\n",
    "print(ages.get(\"Dave\", \"This is returned if not found\"))"
   ]
  },
  {
   "cell_type": "markdown",
   "metadata": {},
   "source": [
    "**Exercise 04.02**: The file `titles.json` contains a dictionary containing key-value pairs. The key represents the [Project Gutenberg](https://www.gutenberg.org/) EBook ID and the value the title of the EBook. **This dictionary has the name `titles`**. Note that the key is a **string** representing an **integer**, representing the EBook ID.\n",
    "\n",
    "Write code that asks the user to input an EBook ID and returns the title.\n",
    "- You **should validate** that the input is between 1 and 1000 inclusive. **You do not need to validate whether the input is an integer or not**.\n",
    "- Print the corresponding title of the book if the input ID is valid; otherwise print `Not Found`.\n",
    "\n",
    "The reading and processing of the dictionary is handled for you.\n",
    "\n",
    "*Note: the ID `182` does not correspond to any book; you can use this to check your program.*"
   ]
  },
  {
   "cell_type": "code",
   "execution_count": 16,
   "metadata": {},
   "outputs": [
    {
     "name": "stdout",
     "output_type": "stream",
     "text": [
      "Enter an EBook ID (1 to 1000 inclusive): 969\n",
      "The Tenant of Wildfell Hall\n"
     ]
    }
   ],
   "source": [
    "# Reading in the dictionary; DO NOT MODIFY\n",
    "import json\n",
    "\n",
    "with open(\"titles.json\", \"r\") as f:\n",
    "    titles = json.load(f)\n",
    "\n",
    "# Get user input of the EBook ID\n",
    "while True:\n",
    "    inputID = int(input(\"Enter an EBook ID (1 to 1000 inclusive): \"))  # We assume it is an integer\n",
    "    \n",
    "    if (1 <= inputID <= 1000):\n",
    "        break\n",
    "    else:\n",
    "        print(\"Invalid ID\")\n",
    "\n",
    "# Print the corresponding title of the book\n",
    "print(titles.get(str(inputID), \"Not Found\"))  # Remember that the key requires a string"
   ]
  },
  {
   "cell_type": "markdown",
   "metadata": {},
   "source": [
    "## List Slicing"
   ]
  },
  {
   "cell_type": "markdown",
   "metadata": {},
   "source": [
    "List slices provide a more advanced way of retrieving values from a list. Basic list slicing involves indexing a list with **two colon-separated integers**. This returns a new list containing all the values in the old list between the indices."
   ]
  },
  {
   "cell_type": "code",
   "execution_count": 17,
   "metadata": {},
   "outputs": [
    {
     "name": "stdout",
     "output_type": "stream",
     "text": [
      "[9, 16]\n",
      "[16, 25, 36, 49, 64]\n",
      "[1]\n"
     ]
    }
   ],
   "source": [
    "squares = [1, 4, 9, 16, 25, 36, 49, 64, 81, 100]\n",
    "\n",
    "print(squares[2:4])\n",
    "print(squares[3:8])\n",
    "print(squares[0:1])"
   ]
  },
  {
   "cell_type": "markdown",
   "metadata": {},
   "source": [
    "Like the arguments to range, the first index provided in a slice is included in the result, but the second isn't."
   ]
  },
  {
   "cell_type": "code",
   "execution_count": 18,
   "metadata": {},
   "outputs": [
    {
     "name": "stdout",
     "output_type": "stream",
     "text": [
      "[16, 25, 36, 49, 64]\n",
      "[16, 25, 36, 49, 64]\n"
     ]
    }
   ],
   "source": [
    "squares = [1, 4, 9, 16, 25, 36, 49, 64, 81, 100]\n",
    "\n",
    "# Compare this...\n",
    "listSlice = []\n",
    "for i in range(3, 8):\n",
    "    listSlice.append(squares[i])\n",
    "print(listSlice)\n",
    "\n",
    "# ...with this\n",
    "print(squares[3:8])"
   ]
  },
  {
   "cell_type": "markdown",
   "metadata": {},
   "source": [
    "If the first number in a slice is omitted, it is taken to be the start of the list. If the second number is omitted, it is taken to be the end."
   ]
  },
  {
   "cell_type": "code",
   "execution_count": 19,
   "metadata": {},
   "outputs": [
    {
     "name": "stdout",
     "output_type": "stream",
     "text": [
      "[1, 4, 9, 16]\n",
      "[25, 36, 49, 64, 81, 100]\n"
     ]
    }
   ],
   "source": [
    "squares = [1, 4, 9, 16, 25, 36, 49, 64, 81, 100]\n",
    "\n",
    "print(squares[:4])\n",
    "print(squares[4:])"
   ]
  },
  {
   "cell_type": "markdown",
   "metadata": {},
   "source": [
    "Slicing can also be done on tuples."
   ]
  },
  {
   "cell_type": "code",
   "execution_count": 20,
   "metadata": {},
   "outputs": [
    {
     "name": "stdout",
     "output_type": "stream",
     "text": [
      "(8, 27, 64)\n",
      "(1, 8, 27, 64)\n",
      "(27, 64, 125)\n"
     ]
    }
   ],
   "source": [
    "cubes = (1, 8, 27, 64, 125)\n",
    "\n",
    "print(cubes[1:4])\n",
    "print(cubes[:4])\n",
    "print(cubes[2:])"
   ]
  },
  {
   "cell_type": "markdown",
   "metadata": {},
   "source": [
    "Just like `range`, list slices can also have a third number, **representing the step**, to include only certain values in the slice."
   ]
  },
  {
   "cell_type": "code",
   "execution_count": 21,
   "metadata": {},
   "outputs": [
    {
     "name": "stdout",
     "output_type": "stream",
     "text": [
      "[1, 9, 25, 49, 81]\n",
      "[9, 25, 49]\n",
      "[9, 36]\n"
     ]
    }
   ],
   "source": [
    "squares = [1, 4, 9, 16, 25, 36, 49, 64, 81, 100]\n",
    "\n",
    "print(squares[::2])  # Take only alternate values\n",
    "print(squares[2:8:2])\n",
    "print(squares[2:8:3])"
   ]
  },
  {
   "cell_type": "markdown",
   "metadata": {},
   "source": [
    "**Discussion 04.01**: What is the output of this code?\n",
    "```python\n",
    "squares = [1, 4, 9, 16, 25, 36, 49, 64, 81, 100]\n",
    "\n",
    "print(squares[2::4])\n",
    "print(squares[8:1:-1])\n",
    "print(squares[::-1])\n",
    "```\n",
    "Try and predict the output of the code before running the code below."
   ]
  },
  {
   "cell_type": "code",
   "execution_count": 22,
   "metadata": {},
   "outputs": [
    {
     "name": "stdout",
     "output_type": "stream",
     "text": [
      "[9, 49]\n",
      "[81, 64, 49, 36, 25, 16, 9]\n",
      "[100, 81, 64, 49, 36, 25, 16, 9, 4, 1]\n"
     ]
    }
   ],
   "source": [
    "squares = [1, 4, 9, 16, 25, 36, 49, 64, 81, 100]\n",
    "\n",
    "print(squares[2::4])    # Starts from index 2 and skips 4 every time\n",
    "print(squares[8:1:-1])  # Starts from index 8 and goes backwards one at a time, stopping before index 1\n",
    "print(squares[::-1])    # Reverses the list"
   ]
  },
  {
   "cell_type": "markdown",
   "metadata": {},
   "source": [
    "**Remark**: Using `[::-1]` as a slice is a common and idiomatic way to reverse a list."
   ]
  },
  {
   "cell_type": "code",
   "execution_count": 23,
   "metadata": {},
   "outputs": [
    {
     "name": "stdout",
     "output_type": "stream",
     "text": [
      "['A', 'B', 'C', 'D', 'E']\n",
      "['E', 'D', 'C', 'B', 'A']\n"
     ]
    }
   ],
   "source": [
    "myList = [\"A\", \"B\", \"C\", \"D\", \"E\"]\n",
    "\n",
    "print(myList)\n",
    "print(myList[::-1])"
   ]
  },
  {
   "cell_type": "markdown",
   "metadata": {},
   "source": [
    "**Exercise 04.03**: A list is given below.\n",
    "```python\n",
    "myList = [1, 4, 9, 16, 25, 36, 49, 64, 81, 100, 121, 144, 169, 196, 225, 256, 289, 324, 361, 400]\n",
    "```\n",
    "Write *concise* code that outputs the following:\n",
    "```\n",
    "[169, 144, 121, 100, 81, 64, 49, 36, 25]\n",
    "```"
   ]
  },
  {
   "cell_type": "code",
   "execution_count": 24,
   "metadata": {},
   "outputs": [
    {
     "name": "stdout",
     "output_type": "stream",
     "text": [
      "[169, 144, 121, 100, 81, 64, 49, 36, 25]\n",
      "[169, 144, 121, 100, 81, 64, 49, 36, 25]\n"
     ]
    }
   ],
   "source": [
    "# The list above is provided here\n",
    "myList = [1, 4, 9, 16, 25, 36, 49, 64, 81, 100, 121, 144, 169, 196, 225, 256, \n",
    "          289, 324, 361, 400]\n",
    "\n",
    "# Write your code here\n",
    "print(myList[12:3:-1])  # Intended solution\n",
    "print(myList[-8:3:-1])  # Using negative indices also works"
   ]
  },
  {
   "cell_type": "markdown",
   "metadata": {},
   "source": [
    "## List Comprehension"
   ]
  },
  {
   "cell_type": "markdown",
   "metadata": {},
   "source": [
    "List comprehensions are a useful way of quickly creating lists whose contents obey a simple rule.\n",
    "\n",
    "For example, we can do the following:"
   ]
  },
  {
   "cell_type": "code",
   "execution_count": 25,
   "metadata": {},
   "outputs": [
    {
     "name": "stdout",
     "output_type": "stream",
     "text": [
      "[0, 1, 4, 9, 16, 25, 36, 49, 64, 81]\n"
     ]
    }
   ],
   "source": [
    "# A list comprehension\n",
    "squares = [i**2 for i in range(10)]  # Generates the square numbers from 0 to 9 inclusive\n",
    "print(squares)"
   ]
  },
  {
   "cell_type": "markdown",
   "metadata": {},
   "source": [
    "**Discussion 04.02**: What is the output of the following code?\n",
    "```python\n",
    "print([i for i in range(1, 20)])\n",
    "print([x*2 for x in range(1, 20)])\n",
    "print([num**3 for num in range(5, 1, -1)])\n",
    "print([2*a+1 for a in range(9)])\n",
    "```\n",
    "Try and predict the output of the code before running it below."
   ]
  },
  {
   "cell_type": "code",
   "execution_count": 26,
   "metadata": {},
   "outputs": [
    {
     "name": "stdout",
     "output_type": "stream",
     "text": [
      "[1, 2, 3, 4, 5, 6, 7, 8, 9, 10, 11, 12, 13, 14, 15, 16, 17, 18, 19]\n",
      "[2, 4, 6, 8, 10, 12, 14, 16, 18, 20, 22, 24, 26, 28, 30, 32, 34, 36, 38]\n",
      "[125, 64, 27, 8]\n",
      "[1, 3, 5, 7, 9, 11, 13, 15, 17]\n"
     ]
    }
   ],
   "source": [
    "print([i for i in range(1, 20)])            # A list of every number from 1 to 19 inclusive\n",
    "print([x*2 for x in range(1, 20)])          # A list of double every number from 1 to 19 inclusive\n",
    "print([num**3 for num in range(5, 1, -1)])  # Reversed list of cubes of the numbers from 1 to 5 inclusive\n",
    "print([2*a+1 for a in range(9)])            # Odd numbers until 17"
   ]
  },
  {
   "cell_type": "markdown",
   "metadata": {},
   "source": [
    "A list comprehension can also contain an `if` statement to enforce a condition on values in the list."
   ]
  },
  {
   "cell_type": "code",
   "execution_count": 27,
   "metadata": {},
   "outputs": [
    {
     "name": "stdout",
     "output_type": "stream",
     "text": [
      "[0, 4, 16, 36, 64]\n"
     ]
    }
   ],
   "source": [
    "# Adds the square of the current number only if `i % 2 == 0`\n",
    "evenSquares = [i**2 for i in range(10) if i % 2 == 0]\n",
    "print(evenSquares)"
   ]
  },
  {
   "cell_type": "markdown",
   "metadata": {},
   "source": [
    "**Exercise 04.04**: Create a list of the multiples of 3 from 0 to 19 inclusive."
   ]
  },
  {
   "cell_type": "code",
   "execution_count": 28,
   "metadata": {},
   "outputs": [
    {
     "name": "stdout",
     "output_type": "stream",
     "text": [
      "[0, 3, 6, 9, 12, 15, 18]\n"
     ]
    }
   ],
   "source": [
    "print([i for i in range(20) if i % 3 == 0])"
   ]
  },
  {
   "cell_type": "markdown",
   "metadata": {},
   "source": [
    "Trying to create a list in a very extensive range will result in a `MemoryError`. This code shows an example where the list comprehension runs out of memory.\n",
    "\n",
    "This issue is solved by generators, which are covered in subsequent modules."
   ]
  },
  {
   "cell_type": "code",
   "execution_count": 29,
   "metadata": {},
   "outputs": [],
   "source": [
    "# ohNoItsTooBig = [i for i in range(10 ** 100)]  # Will produce a `MemoryError` (after a long while)"
   ]
  },
  {
   "cell_type": "markdown",
   "metadata": {},
   "source": [
    "**Exercise 04.05**: Create a list of multiples of 3 from 0 to `N` inclusive, where `N` is an integer that is entered by the user. You may assume that the user always enters an integer.\n",
    "- Validate that `N` is positive but less than 100. Continue asking for input until an integer that meets this condition is entered.\n",
    "\n",
    "*Sample Input* (without the comments):\n",
    "```\n",
    "1234  # Invalid\n",
    "123   # Invalid\n",
    "-12   # Invalid\n",
    "19    # Valid\n",
    "```\n",
    "\n",
    "*Sample output*:\n",
    "```\n",
    "[0, 3, 6, 9, 12, 15, 18]\n",
    "```"
   ]
  },
  {
   "cell_type": "code",
   "execution_count": 30,
   "metadata": {},
   "outputs": [
    {
     "name": "stdout",
     "output_type": "stream",
     "text": [
      "Enter N (between 1 and 99 inclusive): 1234\n",
      "Invalid N\n",
      "Enter N (between 1 and 99 inclusive): 123\n",
      "Invalid N\n",
      "Enter N (between 1 and 99 inclusive): -12\n",
      "Invalid N\n",
      "Enter N (between 1 and 99 inclusive): 19\n",
      "[0, 3, 6, 9, 12, 15, 18]\n"
     ]
    }
   ],
   "source": [
    "# Ask user for `N`\n",
    "while True:\n",
    "    N = int(input(\"Enter N (between 1 and 99 inclusive): \"))\n",
    "    \n",
    "    if 1 <= N <= 99:\n",
    "        break\n",
    "    else:\n",
    "        print(\"Invalid N\")\n",
    "\n",
    "# Create a list of multiples of 3 from 0 to N inclusive\n",
    "print([i for i in range(N + 1) if i % 3 == 0])  # Remember to add 1 to the range argument!"
   ]
  },
  {
   "cell_type": "markdown",
   "metadata": {},
   "source": [
    "## String Formatting (using `f`-Strings)"
   ]
  },
  {
   "cell_type": "markdown",
   "metadata": {},
   "source": [
    "So far, to combine strings and non-strings, you've converted the non-strings to strings and added them.\n",
    "\n",
    "String formatting provides a more powerful way to embed non-strings within strings. From Python 3.6 onwards, we can use `f`-strings to substitute known values into strings."
   ]
  },
  {
   "cell_type": "code",
   "execution_count": 31,
   "metadata": {},
   "outputs": [
    {
     "name": "stdout",
     "output_type": "stream",
     "text": [
      "My numbers are 4, 5 and 6.\n"
     ]
    }
   ],
   "source": [
    "nums = [4, 5, 6]\n",
    "\n",
    "# Variables are used by writing `{variable}` inside the `f`-string\n",
    "message = f\"My numbers are {nums[0]}, {nums[1]} and {nums[2]}.\"\n",
    "print(message)"
   ]
  },
  {
   "cell_type": "markdown",
   "metadata": {},
   "source": [
    "**Discussion 04.03**: What do you think the output of the following code will be?\n",
    "```python\n",
    "myList = [\"A\", 2, 3.45, False, True]\n",
    "\n",
    "print(f\"First element is {myList[0]}\")\n",
    "print(f\"Second element is {myList[1]}\")\n",
    "print(\"What does this do? {myList[3]}\")\n",
    "print(f\"What about booleans? {myList[-1]}\")\n",
    "```\n",
    "Try and predict the output before running the code in the space provided below."
   ]
  },
  {
   "cell_type": "code",
   "execution_count": 32,
   "metadata": {},
   "outputs": [
    {
     "name": "stdout",
     "output_type": "stream",
     "text": [
      "First element is A\n",
      "Second element is 2\n",
      "What does this do? {myList[3]}\n",
      "What about booleans? True\n"
     ]
    }
   ],
   "source": [
    "myList = [\"A\", 2, 3.45, False, True]\n",
    "\n",
    "print(f\"First element is {myList[0]}\")       # Prints \"First element is A\"\n",
    "print(f\"Second element is {myList[1]}\")      # Prints \"Second element is 2\"\n",
    "print(\"What does this do? {myList[3]}\")      # The variable is not included because this is not an `f`-string\n",
    "print(f\"What about booleans? {myList[-1]}\")  # Prints \"What about booleans? True\""
   ]
  },
  {
   "cell_type": "markdown",
   "metadata": {},
   "source": [
    "**Discussion 04.04**: What do you think the following code will output?\n",
    "```python\n",
    "var1 = 1\n",
    "var2 = 2\n",
    "var3 = 3\n",
    "\n",
    "print(f\"{var1} {var1} {var1}\")\n",
    "print(f\"{var2} {var3} {var1}\")\n",
    "print(f\"{{var2}} {{var3}} {{var1}}\")\n",
    "```\n",
    "Try and predict the output before running the code in the space provided below."
   ]
  },
  {
   "cell_type": "code",
   "execution_count": 33,
   "metadata": {},
   "outputs": [
    {
     "name": "stdout",
     "output_type": "stream",
     "text": [
      "1 1 1\n",
      "2 3 1\n",
      "{var2} {var3} {var1}\n"
     ]
    }
   ],
   "source": [
    "var1 = 1\n",
    "var2 = 2\n",
    "var3 = 3\n",
    "\n",
    "print(f\"{var1} {var1} {var1}\")        # Outputs \"1 1 1\"\n",
    "print(f\"{var2} {var3} {var1}\")        # Outputs \"2 3 1\"\n",
    "print(f\"{{var2}} {{var3}} {{var1}}\")  # Outputs \"{var2} {var3} {var1}\""
   ]
  },
  {
   "cell_type": "markdown",
   "metadata": {},
   "source": [
    "The discussion above brings up an important thing to note: to enter curly braces in an `f`-string, you **must use double of them**.\n",
    "- To type `{` in an `f`-string, write `{{`.\n",
    "- To type `}` in an `f`-string, write `}}`."
   ]
  },
  {
   "cell_type": "code",
   "execution_count": 34,
   "metadata": {},
   "outputs": [
    {
     "name": "stdout",
     "output_type": "stream",
     "text": [
      "These are curly braces ({ and }) and here's my list [1, 2, 3].\n"
     ]
    }
   ],
   "source": [
    "variable = [1, 2, 3]\n",
    "print(f\"These are curly braces ({{ and }}) and here's my list {variable}.\")"
   ]
  },
  {
   "cell_type": "markdown",
   "metadata": {},
   "source": [
    "**Exercise 04.06**: Write a program that:\n",
    "- Accepts two strings as input.\n",
    "- Print the string `[First String] [First String] [Second String] [Second String] [First String] [Second String] [Second String] [First String]`, replacing `[First String]` and `[Second String]` with the appropriate string."
   ]
  },
  {
   "cell_type": "code",
   "execution_count": 35,
   "metadata": {},
   "outputs": [
    {
     "name": "stdout",
     "output_type": "stream",
     "text": [
      "Enter the first string:  Hello\n",
      "Enter the second string: World\n",
      "Hello Hello World World Hello World World Hello\n"
     ]
    }
   ],
   "source": [
    "# Get the two strings\n",
    "string1 = input(\"Enter the first string:  \")\n",
    "string2 = input(\"Enter the second string: \")\n",
    "\n",
    "# Print the required string\n",
    "msg = f\"{string1} {string1} {string2} {string2} {string1} {string2} {string2} {string1}\"\n",
    "print(msg)"
   ]
  },
  {
   "cell_type": "markdown",
   "metadata": {},
   "source": [
    "## Useful Functions"
   ]
  },
  {
   "cell_type": "markdown",
   "metadata": {},
   "source": [
    "Python contains many useful built-in functions and methods to accomplish common tasks."
   ]
  },
  {
   "cell_type": "markdown",
   "metadata": {},
   "source": [
    "### Text Functions"
   ]
  },
  {
   "cell_type": "markdown",
   "metadata": {},
   "source": [
    "Here are some useful string functions.\n",
    "- `join`: joins a list of strings with another string as a separator.\n",
    "- `split`: turns a string with a certain separator into a list.\n",
    "- `replace`: replaces one substring in a string with another.\n",
    "- `startswith`: determine if there is a substring at the start of a string.\n",
    "- `endswith`: determine if there is a substring at the end of a string."
   ]
  },
  {
   "cell_type": "code",
   "execution_count": 36,
   "metadata": {},
   "outputs": [
    {
     "name": "stdout",
     "output_type": "stream",
     "text": [
      "spam, eggs, ham\n",
      "['A long string', ' separated by commas', ' wow!']\n",
      "Hello world\n",
      "True\n",
      "True\n"
     ]
    }
   ],
   "source": [
    "print(\", \".join([\"spam\", \"eggs\", \"ham\"]))\n",
    "print(\"A long string, separated by commas, wow!\".split(\",\"))\n",
    "print(\"Hello me\".replace(\"me\", \"world\"))\n",
    "print(\"this is a sentence\".startswith(\"this\"))\n",
    "print(\"this is a sentence\".endswith(\"sentence\"))"
   ]
  },
  {
   "cell_type": "markdown",
   "metadata": {},
   "source": [
    "**Exercise 04.07**: Write code that splits the string `This is a test` into its individual words. Also write code that combines the list `[\"This\", \"is\", \"another\", \"test.\"]` into a single, grammatically sound sentence."
   ]
  },
  {
   "cell_type": "code",
   "execution_count": 37,
   "metadata": {},
   "outputs": [
    {
     "name": "stdout",
     "output_type": "stream",
     "text": [
      "['This', 'is', 'a', 'test']\n",
      "This is another test.\n"
     ]
    }
   ],
   "source": [
    "print(\"This is a test\".split())  # We can split without passing any arguments and it is assumed to split by spaces\n",
    "print(\" \".join([\"This\", \"is\", \"another\", \"test.\"]))"
   ]
  },
  {
   "cell_type": "markdown",
   "metadata": {},
   "source": [
    "### Numeric Functions"
   ]
  },
  {
   "cell_type": "markdown",
   "metadata": {},
   "source": [
    "- To find the maximum or minimum of some numbers or a list, you can use `max` or `min`.\n",
    "- To find the distance of a number from zero (its absolute value), use `abs`.\n",
    "- To round a number to a certain number of decimal places, use `round`.\n",
    "- To find the sum of numbers in a list, use `sum`.\n",
    "\n",
    "*Note: Python's `round` function uses the __[round half to even](https://en.m.wikipedia.org/wiki/Rounding#Round_half_to_even) method__ (also known as Banker's Rounding) for rounding numbers.*"
   ]
  },
  {
   "cell_type": "code",
   "execution_count": 38,
   "metadata": {},
   "outputs": [
    {
     "name": "stdout",
     "output_type": "stream",
     "text": [
      "10\n",
      "1\n",
      "55\n",
      "54\n",
      "54\n",
      "2\n",
      "4\n",
      "4.752\n",
      "2\n"
     ]
    }
   ],
   "source": [
    "numbers = [1, 2, 3, 4, 5, 6, 7, 8, 9, 10]\n",
    "print(max(numbers))\n",
    "print(min(numbers))\n",
    "print(sum(numbers))\n",
    "\n",
    "print(abs(54))\n",
    "print(abs(-54))\n",
    "\n",
    "print(round(2.5))\n",
    "print(round(3.5))\n",
    "print(round(4.7515244, 3))  # Round to 3 decimal places\n",
    "print(round(2, 2))"
   ]
  },
  {
   "cell_type": "markdown",
   "metadata": {},
   "source": [
    "**Exercise 04.08**: The list\n",
    "```\n",
    "[1, -2, 3.04, 4.055, -5.605, 5.605, 7.123456, -7.123456, 0.005, -0.005]\n",
    "```\n",
    "contains several numbers. Round each number to 1 decimal place. Then return the maximum and minimum of the absolute value of the rounded numbers."
   ]
  },
  {
   "cell_type": "code",
   "execution_count": 39,
   "metadata": {},
   "outputs": [
    {
     "name": "stdout",
     "output_type": "stream",
     "text": [
      "7.1\n",
      "0.0\n"
     ]
    }
   ],
   "source": [
    "myList = [1, -2, 3.04, 4.055, -5.605, 5.605, 7.123456, -7.123456, 0.005, -0.005]\n",
    "\n",
    "# First round the numbers; we can use list comprehension to help\n",
    "roundedValues = [round(x, 1) for x in myList]\n",
    "\n",
    "# Next calculate absolute values; we can also use list comprehension\n",
    "absoluteValues = [abs(x) for x in roundedValues]\n",
    "\n",
    "# Now print maximum and minimum\n",
    "print(max(absoluteValues))\n",
    "print(min(absoluteValues))"
   ]
  },
  {
   "cell_type": "markdown",
   "metadata": {},
   "source": [
    "### List Functions"
   ]
  },
  {
   "cell_type": "markdown",
   "metadata": {},
   "source": [
    "Often used in conditional statements, `all` and `any` take a list as an argument, and return `True` if all or any (respectively) of their arguments evaluate to `True` (and `False` otherwise)."
   ]
  },
  {
   "cell_type": "code",
   "execution_count": 40,
   "metadata": {},
   "outputs": [
    {
     "name": "stdout",
     "output_type": "stream",
     "text": [
      "All numbers greater than 5\n",
      "At least one number is even\n"
     ]
    }
   ],
   "source": [
    "nums = [55, 44, 33, 22, 11]\n",
    "\n",
    "if all([num > 5 for num in nums]):\n",
    "    print(\"All numbers greater than 5\")\n",
    "\n",
    "if any([num % 2 == 0 for num in nums]):\n",
    "    print(\"At least one number is even\")"
   ]
  },
  {
   "cell_type": "markdown",
   "metadata": {},
   "source": [
    "The function `enumerate` can be used to iterate through the values and indices of a list simultaneously."
   ]
  },
  {
   "cell_type": "code",
   "execution_count": 41,
   "metadata": {},
   "outputs": [
    {
     "name": "stdout",
     "output_type": "stream",
     "text": [
      "0 Value 1\n",
      "1 Value 2\n",
      "2 Value 3\n",
      "3 Value 4\n",
      "4 Value 5\n"
     ]
    }
   ],
   "source": [
    "myList = [\"Value 1\", \"Value 2\", \"Value 3\", \"Value 4\", \"Value 5\"]\n",
    "\n",
    "for index, value in enumerate(myList):\n",
    "    print(index, value)"
   ]
  },
  {
   "cell_type": "markdown",
   "metadata": {},
   "source": [
    "**Exercise 04.09**: The list\n",
    "```\n",
    "[1, 3, 6, 8, 12, 24, 14, 30, 20, 21]\n",
    "```\n",
    "contains several integers. Write code that determines whether:\n",
    "- every value is at least twice its index (0-based indexing)\n",
    "- at least one value is a multiple of 4 when its index (0-based indexing) is also a multiple of 4"
   ]
  },
  {
   "cell_type": "code",
   "execution_count": 42,
   "metadata": {},
   "outputs": [
    {
     "name": "stdout",
     "output_type": "stream",
     "text": [
      "True\n",
      "True\n"
     ]
    }
   ],
   "source": [
    "# First define the list\n",
    "myList = [1, 3, 6, 8, 12, 24, 14, 30, 20, 21]\n",
    "\n",
    "# Determine whether every value is at least twice its index\n",
    "print(all([val >= 2 * i for i, val in enumerate(myList)]))\n",
    "\n",
    "# Determine whether at least one value is a multiple of 4 when its index is also a multiple of 4\n",
    "print(any([val % 4 == 0 for i, val in enumerate(myList) if i % 4 == 0]))"
   ]
  },
  {
   "cell_type": "markdown",
   "metadata": {},
   "source": [
    "## Assignment 04A\n",
    "The file `titles.json` contains a dictionary containing key-value pairs. The key represents the [Project Gutenberg](https://www.gutenberg.org/) EBook ID and the value the title of the EBook. **This dictionary has the name `titles`**. Note that the key is a **string** representing an **integer**, representing the EBook ID. The loading of this dictionary is handled for you below.\n",
    "\n",
    "### Task\n",
    "Write code that does the following.\n",
    "- Determines whether any book title has longer than 50 characters.\n",
    "- Determines if every book title has the letter `e` in it (both uppercase and lowercase)\n",
    "\n",
    "In addition, generate a list of book titles which has **two consecutive spaces next to each other**. Print out the **first 3 elements of this list** using the format\n",
    "```\n",
    "The first three titles which have two consecutive spaces are:\n",
    "[TITLE 1], [TITLE 2], and [TITLE 3].\n",
    "```"
   ]
  },
  {
   "cell_type": "code",
   "execution_count": 43,
   "metadata": {},
   "outputs": [
    {
     "name": "stdout",
     "output_type": "stream",
     "text": [
      "True\n",
      "False\n",
      "The first three titles which have two consecutive spaces are:\n",
      "The Early Short Fiction of Edith Wharton  Part 1, The Early Short Fiction of Edith Wharton  Part 2, and Miss Billy  Married.\n"
     ]
    }
   ],
   "source": [
    "# Reading in the dictionary; DO NOT MODIFY\n",
    "import json\n",
    "\n",
    "with open(\"titles.json\", \"r\") as f:\n",
    "    titles = json.load(f)\n",
    "\n",
    "# Get the list of book titles\n",
    "bookTitles = list(titles.values())  # Remember, if we want a list we have to explicitly typecast it to list\n",
    "\n",
    "# Determine whether any book title has longer than 50 characters\n",
    "print(any([len(title) > 50 for title in bookTitles]))\n",
    "\n",
    "# Determine if every book title has the letter e in it (both uppercase and lowercase)\n",
    "print(all([\"e\" in title.lower() for title in bookTitles]))  # Convert to lower to account for uppercase/lowercase\n",
    "\n",
    "# Generate a list of book titles which has two consecutive spaces next to each other\n",
    "twoSpaces = [title for title in bookTitles if \"  \" in title]\n",
    "\n",
    "# Print the first three elements using the format\n",
    "print(f\"\"\"The first three titles which have two consecutive spaces are:\n",
    "{twoSpaces[0]}, {twoSpaces[1]}, and {twoSpaces[2]}.\"\"\")"
   ]
  },
  {
   "cell_type": "markdown",
   "metadata": {},
   "source": [
    "## Assignment 04B\n",
    "The string\n",
    "```\n",
    "1,2 3,4 5,6 7,8 9,10 -1,-2 11,-12 -13,14 15,16 20,20\n",
    "```\n",
    "represents a list of 10 tuples (separated by spaces), where each tuple is a pair of two numbers (separated by commas).\n",
    "\n",
    "Define the *norm* of a tuple $(x,y)$ to be\n",
    "$$\\sqrt{x^2+y^2}$$\n",
    "\n",
    "### Task\n",
    "Generate the list of norms, in the same order as the tuples in the string. Then,\n",
    "- print the list of norms, where each element is rounded to 2 decimal places.\n",
    "- find the maximum and minimum norm (**not** rounded to 2 decimal places) and print their sum\n",
    "- by considering list slicing, print out the 1st, 3rd, 5th, 7th, and 9th norms (1-based indexing, **not** rounded to 2 decimal places) in a list"
   ]
  },
  {
   "cell_type": "code",
   "execution_count": 44,
   "metadata": {},
   "outputs": [
    {
     "name": "stdout",
     "output_type": "stream",
     "text": [
      "[2.24, 5.0, 7.81, 10.63, 13.45, 2.24, 16.28, 19.1, 21.93, 28.28]\n",
      "30.520339224961692\n",
      "[2.23606797749979, 7.810249675906654, 13.45362404707371, 16.278820596099706, 21.93171219946131]\n"
     ]
    }
   ],
   "source": [
    "# The string defined earlier\n",
    "theString = \"1,2 3,4 5,6 7,8 9,10 -1,-2 11,-12 -13,14 15,16 20,20\"\n",
    "\n",
    "# Generate the list of tuples first\n",
    "splitString = theString.split()                         # Tuples are separated by spaces\n",
    "splitTuples = [x.split(\",\") for x in splitString]       # Elements of tuples are separated by commas\n",
    "tuples = [(int(x[0]), int(x[1])) for x in splitTuples]  # Convert it to proper tuple form\n",
    "\n",
    "# Generate the list of norms\n",
    "norms = [(x[0]**2 + x[1]**2)**0.5 for x in tuples]  # Using given formula\n",
    "\n",
    "# Print the list of norms, where each element is rounded to 2 decimal places\n",
    "print([round(norm, 2) for norm in norms])\n",
    "\n",
    "# Print the sum of the maximum and minimum norms\n",
    "print(max(norms) + min(norms))\n",
    "\n",
    "# Print of 1st, 3rd, 5th, 7th and 9th norms in a list\n",
    "print(norms[::2])"
   ]
  }
 ],
 "metadata": {
  "kernelspec": {
   "display_name": "Python 3 (ipykernel)",
   "language": "python",
   "name": "python3"
  },
  "language_info": {
   "codemirror_mode": {
    "name": "ipython",
    "version": 3
   },
   "file_extension": ".py",
   "mimetype": "text/x-python",
   "name": "python",
   "nbconvert_exporter": "python",
   "pygments_lexer": "ipython3",
   "version": "3.10.8"
  }
 },
 "nbformat": 4,
 "nbformat_minor": 4
}
