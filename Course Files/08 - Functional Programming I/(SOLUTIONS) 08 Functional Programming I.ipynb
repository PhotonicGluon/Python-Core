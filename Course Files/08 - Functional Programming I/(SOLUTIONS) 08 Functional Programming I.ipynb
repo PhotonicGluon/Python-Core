{
 "cells": [
  {
   "cell_type": "markdown",
   "metadata": {},
   "source": [
    "# 08 - Functional Programming I (SOLUTIONS)"
   ]
  },
  {
   "cell_type": "markdown",
   "metadata": {},
   "source": [
    "## What is Functional Programming?"
   ]
  },
  {
   "cell_type": "markdown",
   "metadata": {},
   "source": [
    "Functional programming is a style of programming that (as the name suggests) is based around functions.\n",
    "\n",
    "A key part of functional programming is higher-order functions. We have seen this idea briefly in the previous lesson on functions as objects. Higher-order functions **take other functions as arguments**, or **return them as results**."
   ]
  },
  {
   "cell_type": "code",
   "execution_count": 1,
   "metadata": {},
   "outputs": [
    {
     "name": "stdout",
     "output_type": "stream",
     "text": [
      "Hello world\n",
      "Hello world\n"
     ]
    }
   ],
   "source": [
    "def do_twice(func, *args):\n",
    "    func(*args)\n",
    "    func(*args)\n",
    "\n",
    "\n",
    "do_twice(print, \"Hello\", \"world\")"
   ]
  },
  {
   "cell_type": "markdown",
   "metadata": {},
   "source": [
    "Functional programming seeks to use *pure functions*. Pure functions have **no side effects**, and return a value that **depends only on their arguments**.\n",
    "\n",
    "This is how functions in math work: for example, The $\\cos(x)$ function will, for the same value of $x$, always return the same result.\n",
    "\n",
    "Below are examples of pure and impure functions."
   ]
  },
  {
   "cell_type": "code",
   "execution_count": 2,
   "metadata": {},
   "outputs": [],
   "source": [
    "def pure_function(x, y):\n",
    "    r = x ** (1/y)\n",
    "    return (r**2 - 1) / (r**2 + 1)\n",
    "\n",
    "\n",
    "def impure_function(alist):\n",
    "    alist.append(\"New elem\")"
   ]
  },
  {
   "cell_type": "markdown",
   "metadata": {},
   "source": [
    "Using pure functions has both advantages and disadvantages.\n",
    "\n",
    "Pure functions are:\n",
    "- easier to reason about and test.\n",
    "- more efficient.\n",
    "  - Once the function has been evaluated for an input, the result can be stored and referred to the next time the function of that input is needed, reducing the number of times the function is called. This is called **memoization**.\n",
    "- easier to run in parallel.\n",
    "\n",
    "The main disadvantage of using only pure functions is that they majorly complicate the otherwise simple task of I/O, since this appears to inherently require side effects. \n",
    "They can also be more difficult to write in some situations."
   ]
  },
  {
   "cell_type": "markdown",
   "metadata": {},
   "source": [
    "## Anonymous Functions (`lambda` Functions)"
   ]
  },
  {
   "cell_type": "markdown",
   "metadata": {},
   "source": [
    "Creating a function normally (using `def`) assigns it to a variable automatically.\n",
    "This is different from the creation of other objects - such as strings and integers - which can be created on the fly, without assigning them to a variable. \n",
    "\n",
    "The same is possible with functions, provided that they are created using `lambda` syntax. Functions created this way are known as **anonymous functions**.\n",
    "\n",
    "Lambda functions get their name from lambda calculus, which is a model of computation invented by Alonzo Church.\n",
    "\n",
    "This approach is most commonly used when **passing a _simple_ function as an argument** to another function. The syntax is shown in the next example and consists of the `lambda` keyword followed by a list of arguments, a colon, and the expression to evaluate and return."
   ]
  },
  {
   "cell_type": "code",
   "execution_count": 3,
   "metadata": {},
   "outputs": [
    {
     "name": "stdout",
     "output_type": "stream",
     "text": [
      "0\n"
     ]
    }
   ],
   "source": [
    "def my_func(f, arg):\n",
    "    return f(arg)\n",
    "\n",
    "print(my_func(lambda x: x**2 - 2*x + 1, 1))"
   ]
  },
  {
   "cell_type": "markdown",
   "metadata": {},
   "source": [
    "Lambda functions aren't as powerful as named functions. \n",
    "They can only do things that require a single expression - usually equivalent to a single line of code."
   ]
  },
  {
   "cell_type": "code",
   "execution_count": 4,
   "metadata": {},
   "outputs": [
    {
     "name": "stdout",
     "output_type": "stream",
     "text": [
      "0\n",
      "0\n"
     ]
    }
   ],
   "source": [
    "# Named function\n",
    "def polynomial(x):\n",
    "    return x**2 + 5*x + 4\n",
    "print(polynomial(-4))\n",
    "\n",
    "# Lambda/Anonymous Function\n",
    "print((lambda x: x**2 + 5*x + 4) (-4))  # Lambda functions are called similarly to normal functions"
   ]
  },
  {
   "cell_type": "markdown",
   "metadata": {},
   "source": [
    "One use of Lambda functions in Python is when we are sorting things.\n",
    "\n",
    "Recall that the `sorted` function takes in a list and sorts it in ascending order. However, we can specify another **keyword argument** called `key`. The `key` paramerer is a **function** and returns a value. When sorting, the function will sort the values of `key` in ascending order.\n",
    "\n",
    "This is especially helpful when sorting is not well defined for some types of data. For example, we can now sort a list of tuples containing both strings and integers."
   ]
  },
  {
   "cell_type": "code",
   "execution_count": 5,
   "metadata": {},
   "outputs": [
    {
     "name": "stdout",
     "output_type": "stream",
     "text": [
      "[('A', 3), ('B', 4), ('C', 2), ('D', 1), ('E', 5)]\n",
      "[('D', 1), ('C', 2), ('A', 3), ('B', 4), ('E', 5)]\n",
      "[('A', 3), ('B', 4), ('C', 2), ('D', 1), ('E', 5)]\n"
     ]
    }
   ],
   "source": [
    "myList = [(\"A\", 3), (\"C\", 2), (\"E\", 5), (\"D\", 1), (\"B\", 4)]\n",
    "\n",
    "# Normal sorting without key\n",
    "print(sorted(myList))\n",
    "\n",
    "# Sorting but key is the integer part of each tuple\n",
    "print(sorted(myList, key=lambda elem: elem[1]))  # `elem` is the element in the list\n",
    "\n",
    "# Sorting but key is the string part of each tuple\n",
    "print(sorted(myList, key=lambda elem: elem[0]))"
   ]
  },
  {
   "cell_type": "markdown",
   "metadata": {},
   "source": [
    "**Exercise 08.01**: Create a function that sorts a list of tuples in **descending order**, using the second element as a key. Test your function by printing the output to a function call with the list\n",
    "```\n",
    "[(\"A\", 3), (\"C\", 2), (\"E\", 5), (\"D\", 1), (\"B\", 4)]\n",
    "```"
   ]
  },
  {
   "cell_type": "code",
   "execution_count": 6,
   "metadata": {},
   "outputs": [
    {
     "name": "stdout",
     "output_type": "stream",
     "text": [
      "[('E', 5), ('B', 4), ('A', 3), ('C', 2), ('D', 1)]\n"
     ]
    }
   ],
   "source": [
    "print(sorted([(\"A\", 3), (\"C\", 2), (\"E\", 5), (\"D\", 1), (\"B\", 4)], key=lambda elem: -elem[1]))"
   ]
  },
  {
   "cell_type": "markdown",
   "metadata": {},
   "source": [
    "## Decorators"
   ]
  },
  {
   "cell_type": "markdown",
   "metadata": {},
   "source": [
    "\n",
    "Decorators provide a way to modify functions using other functions. \n",
    "\n",
    "This is ideal when you need to extend the functionality of functions that you don't want to modify."
   ]
  },
  {
   "cell_type": "code",
   "execution_count": 7,
   "metadata": {},
   "outputs": [
    {
     "name": "stdout",
     "output_type": "stream",
     "text": [
      "===============\n",
      "Hello World!\n",
      "===============\n"
     ]
    }
   ],
   "source": [
    "def decor(func):\n",
    "    def wrap():\n",
    "        print(\"=\" * 15)\n",
    "        func()\n",
    "        print(\"=\" * 15)\n",
    "    return wrap\n",
    "\n",
    "\n",
    "def print_hello():\n",
    "    print(\"Hello World!\")\n",
    "\n",
    "\n",
    "decorated = decor(print_hello)\n",
    "decorated()"
   ]
  },
  {
   "cell_type": "markdown",
   "metadata": {},
   "source": [
    "We defined a function named `decor` that has a single parameter `func`. Inside `decor`, we defined a **nested function** named `wrap`. The `wrap` function will print a string, then call `func()`, and print another string. The `decor` function returns the `wrap` function as its result.\n",
    "\n",
    "We could say that the variable `decorated` is a decorated version of `print_hello` - it's `print_hello` plus something.\n",
    "\n",
    "In fact, if we wrote a useful decorator we might want to replace `print_hello` with the decorated version altogether so we always got our \"plus something\" version of `print_hello`. \n",
    "This is done by re-assigning the variable that contains our function:"
   ]
  },
  {
   "cell_type": "code",
   "execution_count": 8,
   "metadata": {},
   "outputs": [
    {
     "name": "stdout",
     "output_type": "stream",
     "text": [
      "===============\n",
      "Hello World!\n",
      "===============\n"
     ]
    }
   ],
   "source": [
    "print_hello = decor(print_hello)\n",
    "print_hello()"
   ]
  },
  {
   "cell_type": "markdown",
   "metadata": {},
   "source": [
    "Now `print_hello` corresponds to our decorated version."
   ]
  },
  {
   "cell_type": "markdown",
   "metadata": {},
   "source": [
    "In our previous example, we decorated our function by replacing the variable containing the function with a wrapped version.\n",
    "\n",
    "This pattern can be used at any time, to wrap any function.\n",
    "\n",
    "Python provides support to wrap a function in a decorator by prepending the function definition with a **decorator name** and the `@` symbol.\n",
    "\n",
    "If we are defining a function we can \"decorate\" it with the `@` symbol like this:"
   ]
  },
  {
   "cell_type": "code",
   "execution_count": 9,
   "metadata": {},
   "outputs": [],
   "source": [
    "@decor\n",
    "def print_hello():\n",
    "    print(\"Hello World!\")"
   ]
  },
  {
   "cell_type": "markdown",
   "metadata": {},
   "source": [
    "This will have the same result as the above code.\n",
    "\n",
    "It should also be noted that a function can have multiple decorators."
   ]
  },
  {
   "cell_type": "markdown",
   "metadata": {},
   "source": [
    "**Exercise 08.02**: Create two functions with the following function signatures.\n",
    "> `titlecase(func)`: Takes a function `func` as its only parameter. This function returns a function that causes the output of `func` to be in title case.\n",
    "\n",
    "> `greet_user(name)`: Takes a user's name and **returns** the string `Hello, [name]`, replacing `[name]` with the value of `name`.\n",
    "\n",
    "Decorate `greet_user` with `titlecase`. Then, test your decorated `greet_user` function by printing the return value of the following function calls.\n",
    "- `greet_user(\"john\")`\n",
    "- `greet_user(\"sir john the first\")`\n",
    "- `greet_user(\"guido van rossum, former benevolent dictator for life\")`"
   ]
  },
  {
   "cell_type": "code",
   "execution_count": 10,
   "metadata": {},
   "outputs": [
    {
     "name": "stdout",
     "output_type": "stream",
     "text": [
      "Hello, John\n",
      "Hello, Sir John The First\n",
      "Hello, Guido Van Rossum, Former Benevolent Dictator For Life\n"
     ]
    }
   ],
   "source": [
    "# Decorator\n",
    "def titlecase(func):\n",
    "    def wrap(x):\n",
    "        return func(x).title()\n",
    "    return wrap\n",
    "\n",
    "\n",
    "# Function\n",
    "@titlecase\n",
    "def greet_user(name):\n",
    "    return f\"Hello, {name}\"\n",
    "\n",
    "\n",
    "# Function calls\n",
    "print(greet_user(\"john\"))\n",
    "print(greet_user(\"sir john the first\"))\n",
    "print(greet_user(\"guido van rossum, former benevolent dictator for life\"))"
   ]
  },
  {
   "cell_type": "markdown",
   "metadata": {},
   "source": [
    "## Recursion"
   ]
  },
  {
   "cell_type": "markdown",
   "metadata": {},
   "source": [
    "Recursion is a very important concept in functional programming.\n",
    "\n",
    "The fundamental part of recursion is **self-reference** - functions calling themselves. It is used to solve problems that can be **broken up into easier sub-problems of the same type**.\n",
    "\n",
    "A classic example of a function that is implemented recursively is the **factorial function**, which finds the product of all positive integers below a specified number. \n",
    "For example, $5!$ (5 factorial) is $5 \\times 4 \\times 3 \\times 2 \\times 1 = 120$. To implement this recursively, notice that $5! = 5 \\times 4!$, $4! = 4 \\times 3!$, $3! = 3 \\times 2!$, and so on. Generally, $n! = n \\times (n-1)!$. Furthermore, $0! = 1$ and $1! = 1$. These are known as **base cases**, as it can be calculated without performing any more factorials. The base case acts as an *exit condition* of the recursion.\n",
    "\n",
    "Below is a recursive implementation of the factorial function."
   ]
  },
  {
   "cell_type": "code",
   "execution_count": 11,
   "metadata": {},
   "outputs": [
    {
     "name": "stdout",
     "output_type": "stream",
     "text": [
      "1\n",
      "6\n",
      "120\n",
      "80658175170943878571660636856403766975289505440883277824000000000000\n"
     ]
    }
   ],
   "source": [
    "def factorial(n):\n",
    "    # Base case: n = 0\n",
    "    if n == 0:\n",
    "        return 1\n",
    "\n",
    "    # Recursive step\n",
    "    return n * factorial(n - 1)\n",
    "\n",
    "\n",
    "# Test calls\n",
    "print(factorial(0))\n",
    "print(factorial(3))\n",
    "print(factorial(5))\n",
    "print(factorial(52))"
   ]
  },
  {
   "cell_type": "markdown",
   "metadata": {},
   "source": [
    "Recursive functions can be infinite, just like infinite while loops. These often occur when you forget to implement the base case.\n",
    "\n",
    "If the base case of $n = 0$ was omitted, then the recursion will go on forever without terminating."
   ]
  },
  {
   "cell_type": "markdown",
   "metadata": {},
   "source": [
    "Recursion can also be indirect. One function can call a second, which calls the first, which calls the second, and so on. This can occur with any number of functions."
   ]
  },
  {
   "cell_type": "code",
   "execution_count": 12,
   "metadata": {},
   "outputs": [
    {
     "name": "stdout",
     "output_type": "stream",
     "text": [
      "True\n",
      "False\n",
      "False\n",
      "True\n",
      "True\n",
      "False\n"
     ]
    }
   ],
   "source": [
    "def is_even(n):\n",
    "    if n == 0:\n",
    "        return True\n",
    "\n",
    "    return is_odd(n - 1)\n",
    "\n",
    "\n",
    "def is_odd(n):\n",
    "    return not is_even(n)\n",
    "\n",
    "\n",
    "\n",
    "# Test calls\n",
    "print(is_even(0))\n",
    "print(is_odd(0))\n",
    "\n",
    "print(is_even(5))\n",
    "print(is_odd(5))\n",
    "\n",
    "print(is_even(500))\n",
    "print(is_odd(500))"
   ]
  },
  {
   "cell_type": "markdown",
   "metadata": {},
   "source": [
    "**Exercise 08.03**: The *double factorial of $n$*, denoted $n!!$, is given by the following relation: $$n!! = n \\times (n-2)!!$$ with $0!! = 1$ and $1!! = 1$.\n",
    "\n",
    "Write a function that implements the double factorial function, and test your code by calculating the values of $19!!$ and $20!!$."
   ]
  },
  {
   "cell_type": "code",
   "execution_count": 13,
   "metadata": {},
   "outputs": [
    {
     "name": "stdout",
     "output_type": "stream",
     "text": [
      "654729075\n",
      "3715891200\n"
     ]
    }
   ],
   "source": [
    "# Define the recursive function\n",
    "def doublefactorial(n):\n",
    "    # Base cases\n",
    "    if n == 0:\n",
    "        return 1\n",
    "    elif n == 1:\n",
    "        return 1\n",
    "    \n",
    "    # Recursive step\n",
    "    else:\n",
    "        return n * doublefactorial(n - 2)\n",
    "\n",
    "    \n",
    "# Test with function calls\n",
    "print(doublefactorial(19))\n",
    "print(doublefactorial(20))"
   ]
  },
  {
   "cell_type": "markdown",
   "metadata": {},
   "source": [
    "## Assignment 08A\n",
    "Define the polynomials\n",
    "$$\n",
    "P(x) = x^3 - 12x^2 + 48x - 64\\\\\n",
    "Q(x) = x^2 + 2x + 1\\\\\n",
    "R(x) = P(Q(x))+x\n",
    "$$\n",
    "\n",
    "Define also the notation of $R^n(x)$, where $R^{n+1}(x) = R(R^n(x))$ and $R^1(x) = R(x)$.\n",
    "\n",
    "### Task\n",
    "Print the values of\n",
    "- $R^5(0.9)$\n",
    "- $R^{25}(1.0195)$\n",
    "- $R^{100}(-3.1)$\n",
    "- $R^{250}(1.005647)$\n",
    "- $R^{1000}(-2.87)$"
   ]
  },
  {
   "cell_type": "code",
   "execution_count": 14,
   "metadata": {},
   "outputs": [
    {
     "name": "stdout",
     "output_type": "stream",
     "text": [
      "69901059.84035584\n",
      "727.1547617235983\n",
      "-3.008423619495949\n",
      "7043.014437251306\n",
      "-2.998071893674317\n"
     ]
    }
   ],
   "source": [
    "# Create lambda functions to store the polynomials\n",
    "p = lambda x: x**3 - 12*x**2 + 48*x - 64\n",
    "q = lambda x: x**2 + 2*x + 1\n",
    "r = lambda x: p(q(x)) + x\n",
    "\n",
    "\n",
    "# Create a function that computes R^n(x)\n",
    "def R(x, n):\n",
    "    if n == 1:\n",
    "        return r(x)\n",
    "    else:\n",
    "        return R(r(x), n-1)\n",
    "\n",
    "    \n",
    "# Print the required values\n",
    "print(R(0.9, 5))\n",
    "print(R(1.0195, 25))\n",
    "print(R(-3.1, 100))\n",
    "print(R(1.005647, 250))\n",
    "print(R(-2.87, 1000))"
   ]
  },
  {
   "cell_type": "markdown",
   "metadata": {},
   "source": [
    "## Assignment 08B\n",
    "Memoization is a technique used in computing to speed up programs. This is accomplished by memorizing the calculation results of processed input such as the results of function calls into a data structure such as a dictionary. If the same input or a function call with the same parameters is used, the previously stored results can be used again and unnecessary calculation are avoided.\n",
    "\n",
    "The `memo` function takes in one parameter, a function `func`. `memo` defines a dictionary (say, `my_dict`) and returns a function, `helper`. `helper` takes in one parameter `x`. If `func(x)` has already been processed and is present in `my_dict`, `helper` returns `my_dict[x]`. Otherwise, it computes the value of `func(x)` and stores it in `my_dict[x]`, thereafter returning `my_dict[x]`. **Importantly, `memo` is used as a decorator for other recursive functions**.\n",
    "\n",
    "## Task\n",
    "The Lucas numbers are given by $a(1) = 2$, $a(2) = 1$, and $a(n+2) = a(n+1) + a(n)$. Write a function `lucas(n)` **that is decorated by `memo`** and takes an integer `n` as a parameter and outputs $a(n)$.\n",
    "\n",
    "Using `lucas(n)`, find the values of the following.\n",
    "- $a(5)$\n",
    "- $a(100)$\n",
    "- $a(1000)$\n",
    "\n",
    "**Note: without `memo`, computing $a(100)$ and $a(1000)$ will be _very slow_.**"
   ]
  },
  {
   "cell_type": "code",
   "execution_count": 15,
   "metadata": {},
   "outputs": [
    {
     "name": "stdout",
     "output_type": "stream",
     "text": [
      "76\n",
      "489526700523968661124\n",
      "60069305349389553485230328147938327637512711715756608464840282181455129135650222091469390025675153774400017329999201913237442705604269396320307472875615201445732224703698769576659949243423336511140255224283124\n"
     ]
    }
   ],
   "source": [
    "# Define `memo` decorator\n",
    "def memo(func):\n",
    "    # Define a dictionary\n",
    "    my_dict = dict()  # `my_dict = {}` also works\n",
    "    \n",
    "    # Define the function that will be returned\n",
    "    def helper(x):\n",
    "        # If `x` is not present in `my_dict` then it computes and stores it in the dictionary\n",
    "        if x not in my_dict:\n",
    "            my_dict[x] = func(x)\n",
    "            \n",
    "        # We return `my_dict[x]` regardless\n",
    "        return my_dict[x]\n",
    "    \n",
    "    # Return the helper function\n",
    "    return helper\n",
    "\n",
    "\n",
    "# Define `lucas` function\n",
    "@memo\n",
    "def lucas(n):\n",
    "    # Base cases\n",
    "    if n == 1:\n",
    "        return 2\n",
    "    elif n == 2:\n",
    "        return 1\n",
    "    \n",
    "    # Recursive step\n",
    "    else:\n",
    "        return lucas(n - 1) + lucas(n - 2)\n",
    "    \n",
    "\n",
    "# Compute and print required values\n",
    "print(lucas(10))\n",
    "print(lucas(100))\n",
    "print(lucas(1000))"
   ]
  }
 ],
 "metadata": {
  "kernelspec": {
   "display_name": "Python 3 (ipykernel)",
   "language": "python",
   "name": "python3"
  },
  "language_info": {
   "codemirror_mode": {
    "name": "ipython",
    "version": 3
   },
   "file_extension": ".py",
   "mimetype": "text/x-python",
   "name": "python",
   "nbconvert_exporter": "python",
   "pygments_lexer": "ipython3",
   "version": "3.10.8"
  }
 },
 "nbformat": 4,
 "nbformat_minor": 4
}
